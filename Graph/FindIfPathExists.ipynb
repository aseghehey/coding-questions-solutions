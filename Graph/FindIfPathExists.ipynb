{
 "cells": [
  {
   "cell_type": "markdown",
   "metadata": {},
   "source": [
    "Graphs are not my strong suit so this question took me a while. And this is not even the solution I came up with.\n",
    "\n",
    "My solution was super long and I'm not even sure it works. It only passed some of the cases. Even though this is the most basic Graph question anyone can ask.\n",
    "\n",
    "\n",
    "Anyways, the trick to this question is to convert the edges list to a hash map where the key is the vertex, while the value is the list of edges. An adjacency list.\n",
    "\n",
    "Once that's done, we proceed to do a BFS traversal and compare each node that we're on with the destination. If they are the same, True. If we exit the loop, false."
   ]
  },
  {
   "cell_type": "code",
   "execution_count": null,
   "metadata": {},
   "outputs": [],
   "source": [
    "def validPath(self, n: int, edges: List[List[int]], source: int, destination: int) -> bool:\n",
    "        graph = {}\n",
    "        for edge in edges:\n",
    "            graph[edge[0]] = graph.get(edge[0], []) + [edge[1]]\n",
    "            graph[edge[1]] = graph.get(edge[1], []) + [edge[0]]\n",
    "        print(graph)\n",
    "        queue, visited = deque(), set()\n",
    "        queue.append(source)\n",
    "        visited.add(source)\n",
    "        \n",
    "        while queue:\n",
    "            node = queue.popleft()\n",
    "            if node == destination:\n",
    "                return True\n",
    "            \n",
    "            for adjacent_node in graph[node]:\n",
    "                if adjacent_node not in visited:\n",
    "                    queue.append(adjacent_node)\n",
    "                    visited.add(adjacent_node)\n",
    "                    \n",
    "        return False\n"
   ]
  }
 ],
 "metadata": {
  "kernelspec": {
   "display_name": "Python 3.9.7 64-bit",
   "language": "python",
   "name": "python3"
  },
  "language_info": {
   "name": "python",
   "version": "3.9.7"
  },
  "orig_nbformat": 4,
  "vscode": {
   "interpreter": {
    "hash": "aee8b7b246df8f9039afb4144a1f6fd8d2ca17a180786b69acc140d282b71a49"
   }
  }
 },
 "nbformat": 4,
 "nbformat_minor": 2
}
