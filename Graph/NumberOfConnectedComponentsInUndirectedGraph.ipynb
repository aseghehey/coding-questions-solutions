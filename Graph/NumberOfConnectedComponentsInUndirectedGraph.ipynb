{
 "cells": [
  {
   "cell_type": "markdown",
   "metadata": {},
   "source": [
    "Used the Union Find algorithm"
   ]
  },
  {
   "cell_type": "code",
   "execution_count": null,
   "metadata": {},
   "outputs": [],
   "source": [
    "def countComponents(self, n: int, edges: List[List[int]]) -> int:\n",
    "    par = [i for i in range(n)]\n",
    "    rank = [1] * n\n",
    "    \n",
    "    def find(n1): # finding subset representative\n",
    "        res = n1\n",
    "        while res != par[res]:\n",
    "            par[res] = par[par[res]]\n",
    "            res = par[res]\n",
    "        return res\n",
    "    \n",
    "    def union(n1, n2): # merging if found subset rep\n",
    "        p1, p2 = find(n1), find(n2)\n",
    "        \n",
    "        if p1 == p2:\n",
    "            return 0 # unsuccessful\n",
    "        \n",
    "        if rank[p2] > rank[p1]:\n",
    "            par[p1] = p2\n",
    "            rank[p2] += rank[p1]\n",
    "        else:\n",
    "            par[p2] = p1\n",
    "            rank[p1] += rank[p2]\n",
    "        return 1 # sucessful union\n",
    "\n",
    "    res = n\n",
    "    for n1, n2 in edges:\n",
    "        res -= union(n1, n2)\n",
    "        \n",
    "    return res"
   ]
  }
 ],
 "metadata": {
  "language_info": {
   "name": "python"
  },
  "orig_nbformat": 4
 },
 "nbformat": 4,
 "nbformat_minor": 2
}
