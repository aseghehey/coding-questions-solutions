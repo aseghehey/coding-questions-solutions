{
 "cells": [
  {
   "cell_type": "markdown",
   "metadata": {},
   "source": [
    "This is a tough one but the solution is comprehensible.\n",
    "\n",
    "When we find a one, we have to do dfs (or bfs - both work) and increment the count by 1. This will allow us to find the # of islands"
   ]
  },
  {
   "cell_type": "code",
   "execution_count": null,
   "metadata": {},
   "outputs": [],
   "source": [
    "def numIslands(self, grid: List[List[str]]) -> int:\n",
    "    if not grid or not grid[0]:\n",
    "        return 0\n",
    "\n",
    "    islands = 0\n",
    "    visit = set()\n",
    "    rows, cols = len(grid), len(grid[0])\n",
    "\n",
    "    def dfs(r, c):\n",
    "        if (\n",
    "            r not in range(rows)\n",
    "            or c not in range(cols)\n",
    "            or grid[r][c] == \"0\"\n",
    "            or (r, c) in visit\n",
    "        ):\n",
    "            return\n",
    "\n",
    "        visit.add((r, c))\n",
    "        directions = [[0, 1], [0, -1], [1, 0], [-1, 0]]\n",
    "        for dr, dc in directions:\n",
    "            dfs(r + dr, c + dc)\n",
    "\n",
    "    for r in range(rows):\n",
    "        for c in range(cols):\n",
    "            if grid[r][c] == \"1\" and (r, c) not in visit:\n",
    "                islands += 1\n",
    "                dfs(r, c)\n",
    "    return islands"
   ]
  }
 ],
 "metadata": {
  "language_info": {
   "name": "python"
  },
  "orig_nbformat": 4
 },
 "nbformat": 4,
 "nbformat_minor": 2
}
