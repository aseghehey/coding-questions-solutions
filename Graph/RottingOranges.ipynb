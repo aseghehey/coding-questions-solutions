{
 "cells": [
  {
   "cell_type": "markdown",
   "metadata": {},
   "source": [
    "Do BFS. Traverse the grid initially and add all the rotten oranges to the queue, do bfs from rotten oranges on all the neighboring oranges, swap the 1s with 2s so that in the end we can check if there's an orange that managed to stay fresh (causing the algorithm to return -1). Then return res - 1"
   ]
  },
  {
   "cell_type": "code",
   "execution_count": null,
   "metadata": {},
   "outputs": [],
   "source": [
    "def orangesRotting(self, grid: List[List[int]]) -> int:        \n",
    "    ROWS, COLS = len(grid), len(grid[0])\n",
    "    if ROWS == 1 and sum(grid[0]) == 0: return 0 # accounts for the edge cases\n",
    "    \n",
    "    queue = []\n",
    "    visit = set()\n",
    "    res = 0\n",
    "    \n",
    "    def bfs(r,c):\n",
    "        if (r < 0 or r == ROWS or c < 0 or c == COLS or (r,c) in visit or grid[r][c] == 0):\n",
    "            return\n",
    "        if grid[r][c] == 1:\n",
    "            queue.append([r,c])\n",
    "            visit.add((r,c))\n",
    "    \n",
    "    for r in range(ROWS):\n",
    "        for c in range(COLS):\n",
    "            if grid[r][c] == 2:\n",
    "                queue.append([r,c])\n",
    "                visit.add((r,c))\n",
    "            \n",
    "    while queue:\n",
    "        res += 1\n",
    "        for i in range(len(queue)):\n",
    "            r, c = queue.pop(0)\n",
    "            grid[r][c] = 2\n",
    "                            \n",
    "            bfs(r + 1, c)\n",
    "            bfs(r - 1, c)\n",
    "            bfs(r, c + 1)\n",
    "            bfs(r, c - 1)\n",
    "    \n",
    "    for r in range(ROWS):\n",
    "        for c in range(COLS):\n",
    "            if grid[r][c] == 1:\n",
    "                return -1\n",
    "    return res - 1         "
   ]
  },
  {
   "cell_type": "code",
   "execution_count": null,
   "metadata": {},
   "outputs": [],
   "source": [
    "class Solution:\n",
    "    def orangesRotting(self, grid: List[List[int]]) -> int:\n",
    "        R, C = len(grid), len(grid[0])\n",
    "        depth = 0\n",
    "        directions = [[1,0],[-1,0],[0,1],[0,-1]]\n",
    "        queue = []      \n",
    "        # get all rotten oranges\n",
    "        for i in range(R):\n",
    "            for j in range(C):\n",
    "                if grid[i][j] == 2:\n",
    "                    queue.append((i, j, 0))\n",
    "        # bfs\n",
    "        seen = set()\n",
    "        while queue:\n",
    "            r, c, depth = queue.pop(0)\n",
    "            seen.add((r,c))\n",
    "            # going 4-directionally\n",
    "            for x, y in directions:\n",
    "                v = y + r # vertical\n",
    "                h = x + c # horizontal\n",
    "                # \"base case\"\n",
    "                if (v >= R or v < 0 or h >= C or h < 0 or (v, h) in seen or grid[v][h] == 0 or grid[v][h] == 2):\n",
    "                    continue\n",
    "                grid[v][h] = 2\n",
    "                queue.append((v, h, depth + 1))\n",
    "        # check for any fresh oranges left\n",
    "        for r in range(R):\n",
    "            for c in range(C):\n",
    "                if grid[r][c] == 1:\n",
    "                    return -1\n",
    "        return depth"
   ]
  }
 ],
 "metadata": {
  "language_info": {
   "name": "python"
  },
  "orig_nbformat": 4
 },
 "nbformat": 4,
 "nbformat_minor": 2
}
