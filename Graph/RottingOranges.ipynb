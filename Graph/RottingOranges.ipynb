{
 "cells": [
  {
   "cell_type": "markdown",
   "metadata": {},
   "source": [
    "Do BFS. Traverse the grid initially and add all the rotten oranges to the queue, do bfs from rotten oranges on all the neighboring oranges, swap the 1s with 2s so that in the end we can check if there's an orange that managed to stay fresh (causing the algorithm to return -1). Then return res - 1"
   ]
  },
  {
   "cell_type": "code",
   "execution_count": null,
   "metadata": {},
   "outputs": [],
   "source": [
    "def orangesRotting(self, grid: List[List[int]]) -> int:        \n",
    "    ROWS, COLS = len(grid), len(grid[0])\n",
    "    if ROWS == 1 and sum(grid[0]) == 0: return 0 # accounts for the edge cases\n",
    "    \n",
    "    queue = []\n",
    "    visit = set()\n",
    "    res = 0\n",
    "    \n",
    "    def bfs(r,c):\n",
    "        if (r < 0 or r == ROWS or c < 0 or c == COLS or (r,c) in visit or grid[r][c] == 0):\n",
    "            return\n",
    "        if grid[r][c] == 1:\n",
    "            queue.append([r,c])\n",
    "            visit.add((r,c))\n",
    "    \n",
    "    for r in range(ROWS):\n",
    "        for c in range(COLS):\n",
    "            if grid[r][c] == 2:\n",
    "                queue.append([r,c])\n",
    "                visit.add((r,c))\n",
    "            \n",
    "    while queue:\n",
    "        res += 1\n",
    "        for i in range(len(queue)):\n",
    "            r, c = queue.pop(0)\n",
    "            grid[r][c] = 2\n",
    "                            \n",
    "            bfs(r + 1, c)\n",
    "            bfs(r - 1, c)\n",
    "            bfs(r, c + 1)\n",
    "            bfs(r, c - 1)\n",
    "    \n",
    "    for r in range(ROWS):\n",
    "        for c in range(COLS):\n",
    "            if grid[r][c] == 1:\n",
    "                return -1\n",
    "    return res - 1         "
   ]
  }
 ],
 "metadata": {
  "language_info": {
   "name": "python"
  },
  "orig_nbformat": 4
 },
 "nbformat": 4,
 "nbformat_minor": 2
}
