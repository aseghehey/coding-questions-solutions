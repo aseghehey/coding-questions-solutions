{
 "cells": [
  {
   "cell_type": "code",
   "execution_count": null,
   "metadata": {},
   "outputs": [],
   "source": [
    "def wallsAndGates(self, rooms: List[List[int]]) -> None:\n",
    "    \"\"\"\n",
    "    Do not return anything, modify rooms in-place instead.\n",
    "    \"\"\"\n",
    "    \n",
    "    ROWS, COLS = len(rooms), len(rooms[0])\n",
    "    visit = set()\n",
    "    queue = [] # bfs problem\n",
    "    dist = 0\n",
    "    \n",
    "    def addRoom(r, c):\n",
    "        if (r < 0 or r == ROWS or c < 0 or c == COLS or rooms[r][c] == -1 or (r,c) in visit):\n",
    "            return\n",
    "        queue.append([r,c])\n",
    "        visit.add((r,c))\n",
    "    \n",
    "    for r in range(ROWS):\n",
    "        for c in range(COLS):\n",
    "            if rooms[r][c] == 0: # since bfs is going to start from the gates, this will add the index of all gates on the queue\n",
    "                queue.append([r,c])\n",
    "                visit.add((r,c))\n",
    "                \n",
    "    while queue:\n",
    "        for i in range(len(queue)):\n",
    "            r, c = queue.pop(0)\n",
    "            rooms[r][c] = dist\n",
    "            addRoom(r + 1, c)\n",
    "            addRoom(r - 1, c)\n",
    "            addRoom(r, c + 1)\n",
    "            addRoom(r, c - 1)\n",
    "        dist += 1"
   ]
  }
 ],
 "metadata": {
  "language_info": {
   "name": "python"
  },
  "orig_nbformat": 4
 },
 "nbformat": 4,
 "nbformat_minor": 2
}
