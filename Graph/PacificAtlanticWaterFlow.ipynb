{
 "cells": [
  {
   "cell_type": "markdown",
   "metadata": {},
   "source": [
    "Start dfs on the borders. Start pacific and atlantic dfs and then return all that the coordinates that are in both atl and pac."
   ]
  },
  {
   "cell_type": "code",
   "execution_count": null,
   "metadata": {},
   "outputs": [],
   "source": [
    "def pacificAtlantic(self, heights: List[List[int]]) -> List[List[int]]:\n",
    "    ROWS, COLS = len(heights), len(heights[0])\n",
    "    atl, pac = set(), set()\n",
    "    \n",
    "    def dfs(r, c, visit, prevHeight):\n",
    "        if (r < 0 or r >= ROWS or c < 0 or c >= COLS\n",
    "            or (r, c) in visit or heights[r][c] < prevHeight):\n",
    "            return\n",
    "        visit.add((r, c))\n",
    "        dfs(r + 1, c, visit, heights[r][c])\n",
    "        dfs(r - 1, c, visit, heights[r][c])\n",
    "        dfs(r, c - 1, visit, heights[r][c])\n",
    "        dfs(r, c + 1, visit, heights[r][c])\n",
    "    \n",
    "    for c in range(COLS):\n",
    "        dfs(0, c, pac, heights[0][c])\n",
    "        dfs(ROWS - 1, c, atl, heights[ROWS - 1][c])\n",
    "        \n",
    "    for r in range(ROWS):\n",
    "        dfs(r, 0, pac, heights[r][0])\n",
    "        dfs(r, COLS - 1, atl, heights[r][COLS - 1])\n",
    "        \n",
    "    res = []\n",
    "    for r in range(ROWS):\n",
    "        for c in range(COLS):\n",
    "            if (r, c) in pac and (r, c) in atl:\n",
    "                res.append([r,c])\n",
    "    return res"
   ]
  }
 ],
 "metadata": {
  "language_info": {
   "name": "python"
  },
  "orig_nbformat": 4
 },
 "nbformat": 4,
 "nbformat_minor": 2
}
