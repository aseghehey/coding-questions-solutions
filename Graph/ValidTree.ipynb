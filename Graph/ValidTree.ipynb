{
 "cells": [
  {
   "cell_type": "code",
   "execution_count": null,
   "metadata": {},
   "outputs": [],
   "source": [
    "#This is the optimal solution with comments    \n",
    "def validTree(self, n: int, edges: List[List[int]]) -> bool:\n",
    "    if not n: # still considered valid\n",
    "        return True\n",
    "    \n",
    "    graph = {i:[] for i in range(n)} # converting to adjacency list\n",
    "    for n1, n2 in edges: # undirected graph so it goes both ways\n",
    "        graph[n1].append(n2)\n",
    "        graph[n2].append(n1)\n",
    "        \n",
    "    visit = set() \n",
    "    def dfs(i, prev):\n",
    "        if i in visit: # meaning its a loop\n",
    "            return False\n",
    "        visit.add(i) \n",
    "        for v in graph[i]:\n",
    "            if v == prev:\n",
    "                continue # ignoring the last visited since its an undirected graph\n",
    "            if not dfs(v, i):\n",
    "                return False\n",
    "        return True\n",
    "    \n",
    "    return dfs(0, -1) and len(visit) == n # need to make sure there's no loops and that its visited all the nodes\n"
   ]
  }
 ],
 "metadata": {
  "kernelspec": {
   "display_name": "Python 3.9.7 64-bit",
   "language": "python",
   "name": "python3"
  },
  "language_info": {
   "name": "python",
   "version": "3.9.7"
  },
  "orig_nbformat": 4,
  "vscode": {
   "interpreter": {
    "hash": "aee8b7b246df8f9039afb4144a1f6fd8d2ca17a180786b69acc140d282b71a49"
   }
  }
 },
 "nbformat": 4,
 "nbformat_minor": 2
}
