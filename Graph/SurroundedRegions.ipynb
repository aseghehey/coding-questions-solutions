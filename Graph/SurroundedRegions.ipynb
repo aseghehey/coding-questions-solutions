{
 "cells": [
  {
   "attachments": {},
   "cell_type": "markdown",
   "metadata": {},
   "source": [
    "Solved by elimination. The idea is to find all the invalid regions, and mark and exclude them. We can make the assumption that if there's any \"O\" region left, then they are valid and must be changed to \"X\".\n",
    "\n",
    "Tags:\n",
    "Neetcode 150"
   ]
  },
  {
   "cell_type": "code",
   "execution_count": null,
   "metadata": {},
   "outputs": [],
   "source": [
    "def solve(board) -> None:\n",
    "    \"\"\"\n",
    "    Do not return anything, modify board in-place instead.\n",
    "    \"\"\"\n",
    "    M, N = len(board), len(board[0]) # num rows and cols\n",
    "    seenSet = set()\n",
    "    def dfs(r, c):\n",
    "        if r >= M or r < 0 or c >= N or c < 0 or (r, c) in seenSet or board[r][c] == \"X\" :\n",
    "            return\n",
    "        seenSet.add((r,c))\n",
    "        board[r][c] = \"\"\n",
    "        dfs(r + 1, c)\n",
    "        dfs(r - 1, c)\n",
    "        dfs(r, c + 1)\n",
    "        dfs(r, c - 1)\n",
    "\n",
    "    # find all invalid regions\n",
    "    for i in range(M):\n",
    "        for j in range(N):\n",
    "            # only traverse the the borders\n",
    "            if (i == 0 or i == M - 1 or j == 0 or j == N - 1):\n",
    "                if board[i][j] == \"O\":\n",
    "                    dfs(i, j) # mark all the adjacent nodes\n",
    "\n",
    "    # set all valids to \"x\" and reset the invalid to their actual value\n",
    "    for r in range(M):\n",
    "        for c in range(N):\n",
    "            if board[r][c] == \"O\":\n",
    "                board[r][c] = \"X\"\n",
    "                continue\n",
    "            elif board[r][c] == \"\":\n",
    "                board[r][c] = \"O\"\n"
   ]
  }
 ],
 "metadata": {
  "language_info": {
   "name": "python"
  },
  "orig_nbformat": 4
 },
 "nbformat": 4,
 "nbformat_minor": 2
}
