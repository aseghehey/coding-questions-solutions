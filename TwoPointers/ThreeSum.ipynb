{
 "cells": [
  {
   "cell_type": "code",
   "execution_count": null,
   "metadata": {},
   "outputs": [],
   "source": [
    "# runs in O(n^2)\n",
    "def threeSum(self, nums: List[int]) -> List[List[int]]:\n",
    "    nums.sort()\n",
    "    ans = []\n",
    "    \n",
    "    for i, num in enumerate(nums):\n",
    "        if i > 0 and num == nums[i-1]: # to avoid the issue with duplicates\n",
    "            continue\n",
    "        left, right = i+1, len(nums)-1\n",
    "        while left < right: # we can take a binary search approach\n",
    "            total = num + nums[left] + nums[right]\n",
    "            if total > 0:\n",
    "                right-=1\n",
    "            elif total < 0:\n",
    "                left+=1\n",
    "            else:\n",
    "                ans.append([num, nums[left], nums[right]])\n",
    "                left+=1\n",
    "                while nums[left] == nums[left-1] and left < right: # to avoid duplicates as well\n",
    "                    left+=1\n",
    "    return ans\n",
    "        "
   ]
  }
 ],
 "metadata": {
  "kernelspec": {
   "display_name": "Python 3.9.7 64-bit",
   "language": "python",
   "name": "python3"
  },
  "language_info": {
   "name": "python",
   "version": "3.9.7"
  },
  "orig_nbformat": 4,
  "vscode": {
   "interpreter": {
    "hash": "aee8b7b246df8f9039afb4144a1f6fd8d2ca17a180786b69acc140d282b71a49"
   }
  }
 },
 "nbformat": 4,
 "nbformat_minor": 2
}
