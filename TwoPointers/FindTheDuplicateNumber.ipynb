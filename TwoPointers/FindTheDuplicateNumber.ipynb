{
 "cells": [
  {
   "cell_type": "markdown",
   "metadata": {},
   "source": [
    "This uses Floyd's algorithm -- The Hare and the Tortoise and it's proven to work.\n",
    "\n",
    "**Explanation**\n",
    "- Set 2 pointers, a fast and slow one. Slow pointer moves right by 1 each time, Fast moves right by 2 each time\n",
    "- Since we're guaranteed that there's a cycle, we know the two will meet and when they do, we break out of the loop\n",
    "- We then do a second pass. Where we have another pointer that travels a p distance until it meets the slow pointer (which is stuck in the cycle)\n",
    "- Once the two meet, return the slow pointer (which will be the correct answer)"
   ]
  },
  {
   "cell_type": "code",
   "execution_count": null,
   "metadata": {},
   "outputs": [],
   "source": [
    "def findDuplicate(self, nums: List[int]) -> int:\n",
    "    slow, fast = 0,0\n",
    "    while True:\n",
    "        slow = nums[slow]\n",
    "        fast = nums[nums[fast]]\n",
    "        if slow==fast:\n",
    "            break\n",
    "    slow2 = 0\n",
    "    while True:\n",
    "        slow = nums[slow]\n",
    "        slow2 = nums[slow2]\n",
    "        if slow == slow2:\n",
    "            return slow"
   ]
  }
 ],
 "metadata": {
  "language_info": {
   "name": "python"
  },
  "orig_nbformat": 4
 },
 "nbformat": 4,
 "nbformat_minor": 2
}
