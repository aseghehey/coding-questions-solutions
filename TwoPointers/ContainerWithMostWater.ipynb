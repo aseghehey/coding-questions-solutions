{
 "cells": [
  {
   "cell_type": "code",
   "execution_count": null,
   "metadata": {},
   "outputs": [],
   "source": [
    "# Runs in O(nlogn)\n",
    "def maxArea(self, height: List[int]) -> int:\n",
    "    maxarea = 0\n",
    "    left, right = 0, len(height)-1 # comparing the two bounds as they have the greatest distance apart\n",
    "    while left < right:\n",
    "        area = min(height[left],height[right])* (right-left)\n",
    "        maxarea = max(area,maxarea)\n",
    "        # Move the iterator if one of them is smaller, so we can find the next highest value\n",
    "        if height[left] >= height[right]:\n",
    "            right-=1\n",
    "        else:\n",
    "            left+=1\n",
    "    return maxarea"
   ]
  }
 ],
 "metadata": {
  "kernelspec": {
   "display_name": "Python 3.9.7 64-bit",
   "language": "python",
   "name": "python3"
  },
  "language_info": {
   "name": "python",
   "version": "3.9.7"
  },
  "orig_nbformat": 4,
  "vscode": {
   "interpreter": {
    "hash": "aee8b7b246df8f9039afb4144a1f6fd8d2ca17a180786b69acc140d282b71a49"
   }
  }
 },
 "nbformat": 4,
 "nbformat_minor": 2
}
