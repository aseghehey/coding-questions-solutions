{
 "cells": [
  {
   "cell_type": "markdown",
   "metadata": {},
   "source": [
    "The trick to this is just to basically check that the reverse of the string equals the actual string"
   ]
  },
  {
   "cell_type": "code",
   "execution_count": null,
   "metadata": {},
   "outputs": [],
   "source": [
    "def isPalindrome(self, s: str) -> bool:   \n",
    "    ans = ''\n",
    "    for c in s.lower(): # convert it all to lowercase and go through it\n",
    "        if c.isalnum():\n",
    "            ans+=c # append it if its alpha numeric\n",
    "    return ans == ans[::-1] # if they are the same front and back then its a palindrome"
   ]
  },
  {
   "cell_type": "markdown",
   "metadata": {},
   "source": [
    "The solution below was my original solution, however, it's very slow."
   ]
  },
  {
   "cell_type": "code",
   "execution_count": null,
   "metadata": {},
   "outputs": [],
   "source": [
    "def isPalindrome(self, s: str) -> bool:   \n",
    "    if not s: # if string is empty\n",
    "        return True\n",
    "    \n",
    "    d = ''\n",
    "    for c in s.lower(): # we iterate through the string and pass it to d without spaces or punctuation \n",
    "        if c.isalpha() or c.isdigit():\n",
    "            d+=c\n",
    "\n",
    "    l,r = 0,len(d)-1 # our two pointers, the two opposite characters\n",
    "    while l <= r:\n",
    "        if d[l] != d[r]: # the instance they do not match, we return False\n",
    "            return False\n",
    "        l+=1\n",
    "        r-=1\n",
    "        \n",
    "    return True"
   ]
  }
 ],
 "metadata": {
  "kernelspec": {
   "display_name": "Python 3.9.7 64-bit",
   "language": "python",
   "name": "python3"
  },
  "language_info": {
   "name": "python",
   "version": "3.9.7"
  },
  "orig_nbformat": 4,
  "vscode": {
   "interpreter": {
    "hash": "aee8b7b246df8f9039afb4144a1f6fd8d2ca17a180786b69acc140d282b71a49"
   }
  }
 },
 "nbformat": 4,
 "nbformat_minor": 2
}
