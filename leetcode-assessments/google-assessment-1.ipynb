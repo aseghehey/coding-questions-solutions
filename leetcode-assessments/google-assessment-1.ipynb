{
 "cells": [
  {
   "cell_type": "markdown",
   "metadata": {},
   "source": [
    "## Question 1"
   ]
  },
  {
   "cell_type": "markdown",
   "metadata": {},
   "source": [
    "A valid parentheses string is either empty \"\", \"(\" + A + \")\", or A + B, where A and B are valid parentheses strings, and + represents string concatenation.\n",
    "\n",
    "For example, \"\", \"()\", \"(())()\", and \"(()(()))\" are all valid parentheses strings.\n",
    "A valid parentheses string s is primitive if it is nonempty, and there does not exist a way to split it into s = A + B, with A and B nonempty valid parentheses strings.\n",
    "\n",
    "Given a valid parentheses string s, consider its primitive decomposition: s = P1 + P2 + ... + Pk, where Pi are primitive valid parentheses strings.\n",
    "\n",
    "Return s after removing the outermost parentheses of every primitive string in the primitive decomposition of s."
   ]
  },
  {
   "cell_type": "code",
   "execution_count": null,
   "metadata": {},
   "outputs": [],
   "source": [
    "def removeOuterParentheses(s):\n",
    "    decompositions, stack = [], []\n",
    "    current_decomposition = \"\"\n",
    "    \n",
    "    for par in s:\n",
    "        current_decomposition += par\n",
    "        if par == '(':\n",
    "            stack.append(\"\")\n",
    "        else:\n",
    "            stack.pop()\n",
    "            if not stack:\n",
    "                decompositions.append(current_decomposition[1:-1])\n",
    "                current_decomposition = \"\"\n",
    "                \n",
    "    return \"\".join(decompositions)"
   ]
  },
  {
   "cell_type": "markdown",
   "metadata": {},
   "source": [
    "## Question 2"
   ]
  },
  {
   "cell_type": "markdown",
   "metadata": {},
   "source": [
    "Alice and Bob take turns playing a game, with Alice starting first.\n",
    "\n",
    "Initially, there is a number n on the chalkboard. On each player's turn, that player makes a move consisting of:\n",
    "\n",
    "Choosing any x with 0 < x < n and n % x == 0.\n",
    "Replacing the number n on the chalkboard with n - x.\n",
    "Also, if a player cannot make a move, they lose the game.\n",
    "\n",
    "Return true if and only if Alice wins the game, assuming both players play optimally."
   ]
  },
  {
   "cell_type": "code",
   "execution_count": 6,
   "metadata": {},
   "outputs": [],
   "source": [
    "def divisorGame(n):\n",
    "    def checkAliceWins(current_n, isAlicePlaying):\n",
    "        if current_n == 1:\n",
    "            if isAlicePlaying:\n",
    "                return False\n",
    "            else:\n",
    "                return True\n",
    "        return checkAliceWins(current_n - 1, False if isAlicePlaying else True)\n",
    "    \n",
    "    return checkAliceWins(n, True)"
   ]
  },
  {
   "cell_type": "code",
   "execution_count": 9,
   "metadata": {},
   "outputs": [
    {
     "data": {
      "text/plain": [
       "True"
      ]
     },
     "execution_count": 9,
     "metadata": {},
     "output_type": "execute_result"
    }
   ],
   "source": [
    "divisorGame(10)"
   ]
  }
 ],
 "metadata": {
  "kernelspec": {
   "display_name": "Python 3",
   "language": "python",
   "name": "python3"
  },
  "language_info": {
   "codemirror_mode": {
    "name": "ipython",
    "version": 3
   },
   "file_extension": ".py",
   "mimetype": "text/x-python",
   "name": "python",
   "nbconvert_exporter": "python",
   "pygments_lexer": "ipython3",
   "version": "3.9.7"
  },
  "orig_nbformat": 4
 },
 "nbformat": 4,
 "nbformat_minor": 2
}
