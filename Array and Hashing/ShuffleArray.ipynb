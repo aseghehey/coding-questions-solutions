{
 "cells": [
  {
   "cell_type": "code",
   "execution_count": null,
   "metadata": {},
   "outputs": [],
   "source": [
    "def shuffle(self, nums: List[int], n: int) -> List[int]:\n",
    "    l, r = 0, n\n",
    "    i = 0\n",
    "    res = [1] * (2*n)\n",
    "    for i in range(len(nums)):\n",
    "        if i % 2 == 0:\n",
    "            res[i] = nums[l]\n",
    "            l += 1\n",
    "        else:\n",
    "            res[i] = nums[r]\n",
    "            r += 1\n",
    "    return res"
   ]
  },
  {
   "cell_type": "markdown",
   "metadata": {},
   "source": [
    "Or this solution:"
   ]
  },
  {
   "cell_type": "code",
   "execution_count": null,
   "metadata": {},
   "outputs": [],
   "source": [
    "def shuffle(self, nums: List[int], n: int) -> List[int]:\n",
    "    res = []\n",
    "    for x, y in zip(nums[:n], nums[n:]):\n",
    "        res.append(x)\n",
    "        res.append(y)\n",
    "    return res"
   ]
  }
 ],
 "metadata": {
  "kernelspec": {
   "display_name": "Python 3",
   "language": "python",
   "name": "python3"
  },
  "language_info": {
   "name": "python",
   "version": "3.9.7"
  },
  "orig_nbformat": 4,
  "vscode": {
   "interpreter": {
    "hash": "aee8b7b246df8f9039afb4144a1f6fd8d2ca17a180786b69acc140d282b71a49"
   }
  }
 },
 "nbformat": 4,
 "nbformat_minor": 2
}
