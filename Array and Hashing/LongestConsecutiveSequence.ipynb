{
 "cells": [
  {
   "cell_type": "markdown",
   "metadata": {},
   "source": [
    "Very very slow, very bruteforce but it passes all the testcases! Runtime is O(nlogn) andd memory O(1)"
   ]
  },
  {
   "cell_type": "code",
   "execution_count": null,
   "metadata": {},
   "outputs": [],
   "source": [
    "def longestConsecutive(self, nums: List[int]) -> int:\n",
    "    if not nums:\n",
    "        return 0\n",
    "    if len(nums) == 1:\n",
    "        return 1\n",
    "    \n",
    "    nums.sort()\n",
    "    maxcnt, cnt = 0, 1\n",
    "    \n",
    "    for i in range(1,len(nums)):\n",
    "        if nums[i] - nums[i-1] <= 1:\n",
    "            cnt+=1\n",
    "            if nums[i] == nums[i-1]:\n",
    "                cnt-=1              \n",
    "        else:\n",
    "            cnt = 1\n",
    "        maxcnt = max(cnt, maxcnt)\n",
    "        print(nums[i], nums[i-1],cnt, maxcnt, end=\", \")\n",
    "    \n",
    "    return maxcnt"
   ]
  },
  {
   "cell_type": "markdown",
   "metadata": {},
   "source": [
    "This is neetcode's solution but LC says its slower than my original one. I like his solution better though."
   ]
  },
  {
   "cell_type": "code",
   "execution_count": null,
   "metadata": {},
   "outputs": [],
   "source": [
    "def longestConsecutive(self, nums: List[int]) -> int:\n",
    "    numSet = set(nums)\n",
    "    longest = 0\n",
    "    \n",
    "    for n in nums:\n",
    "        if (n-1) not in numSet:\n",
    "            length = 0\n",
    "            while (n+length) in numSet:\n",
    "                length+=1\n",
    "            longest = max(length, longest)\n",
    "    return longest"
   ]
  }
 ],
 "metadata": {
  "language_info": {
   "name": "python"
  },
  "orig_nbformat": 4
 },
 "nbformat": 4,
 "nbformat_minor": 2
}
