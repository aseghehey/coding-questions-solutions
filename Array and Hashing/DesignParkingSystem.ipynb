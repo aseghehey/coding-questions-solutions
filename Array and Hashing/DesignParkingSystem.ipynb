{
 "cells": [
  {
   "cell_type": "code",
   "execution_count": null,
   "metadata": {},
   "outputs": [],
   "source": [
    "class ParkingSystem:\n",
    "    def __init__(self, big: int, medium: int, small: int):\n",
    "        self.spaces = {1:big, 2: medium, 3: small}\n",
    "\n",
    "    def addCar(self, carType: int) -> bool:\n",
    "        if self.spaces[carType] == 0: \n",
    "            return False\n",
    "        self.spaces[carType] -= 1\n",
    "        return True"
   ]
  }
 ],
 "metadata": {
  "language_info": {
   "name": "python"
  },
  "orig_nbformat": 4
 },
 "nbformat": 4,
 "nbformat_minor": 2
}
