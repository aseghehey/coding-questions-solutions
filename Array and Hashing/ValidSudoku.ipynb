{
 "cells": [
  {
   "attachments": {},
   "cell_type": "markdown",
   "metadata": {},
   "source": [
    "Beats 91.4%"
   ]
  },
  {
   "cell_type": "code",
   "execution_count": null,
   "metadata": {},
   "outputs": [],
   "source": [
    "def isValidSudoku(board: List[List[str]]) -> bool:\n",
    "    gridDim, subDim = 9, 3\n",
    "    # helper function\n",
    "    def checkValid(arr: List[str]) -> bool:\n",
    "        ''' takes an array, and checks that it is a valid sudoku block'''\n",
    "        seen = set()\n",
    "        for v in arr:\n",
    "            if not v.isnumeric():\n",
    "                continue\n",
    "            val = int(v)\n",
    "            if val in seen or val > 9 or val < 1:\n",
    "                return False\n",
    "            seen.add(val)\n",
    "        return True\n",
    "    \n",
    "    # check rows\n",
    "    for r in range(gridDim):\n",
    "        if not checkValid(board[r]): \n",
    "            return False\n",
    "    \n",
    "    # check columns\n",
    "    for r in range(gridDim):\n",
    "        col = [] # current column array\n",
    "        for c in range(gridDim):\n",
    "            col.append(board[c][r])\n",
    "        if not checkValid(col):\n",
    "            return False\n",
    "\n",
    "    # check subgrids\n",
    "    for i in range(0, gridDim, subDim):\n",
    "        subgrid = [[] for _ in range(subDim)]\n",
    "        for j in range(subDim):\n",
    "            subgrid[0] += board[j + i][:3]\n",
    "            subgrid[1] += board[j + i][3:6]\n",
    "            subgrid[2] += board[j + i][6:9]\n",
    "        for sub in subgrid:\n",
    "            if not checkValid(sub):\n",
    "                return False\n",
    "    return True\n",
    "\n"
   ]
  }
 ],
 "metadata": {
  "language_info": {
   "name": "python"
  },
  "orig_nbformat": 4
 },
 "nbformat": 4,
 "nbformat_minor": 2
}
