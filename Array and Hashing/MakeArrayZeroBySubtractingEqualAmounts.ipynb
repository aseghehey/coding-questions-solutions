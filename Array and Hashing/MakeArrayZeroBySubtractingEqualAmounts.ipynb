{
 "cells": [
  {
   "cell_type": "markdown",
   "metadata": {},
   "source": [
    "It equals to the number of unique elements in the array"
   ]
  },
  {
   "cell_type": "code",
   "execution_count": null,
   "metadata": {},
   "outputs": [],
   "source": [
    "def minimumOperations(self, nums: List[int]) -> int:\n",
    "    count = 0\n",
    "    d = Counter(nums)\n",
    "    for k in d.keys():\n",
    "        if k > 0:\n",
    "            count +=1\n",
    "    return count"
   ]
  }
 ],
 "metadata": {
  "language_info": {
   "name": "python"
  },
  "orig_nbformat": 4
 },
 "nbformat": 4,
 "nbformat_minor": 2
}
