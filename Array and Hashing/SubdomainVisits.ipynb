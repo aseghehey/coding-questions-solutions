{
 "cells": [
  {
   "cell_type": "code",
   "execution_count": null,
   "metadata": {},
   "outputs": [],
   "source": [
    "def subdomainVisits(self, cpdomains: List[str]) -> List[str]:\n",
    "    visits = Counter()\n",
    "    for c in cpdomains:\n",
    "        cnt, domain = c.split()\n",
    "        cnt = int(cnt)\n",
    "        sub = domain.split('.')\n",
    "        \n",
    "        for i in range(len(sub)):\n",
    "            visits['.'.join(sub[i:])] += cnt\n",
    "        \n",
    "    ans = [f\"{nr} {dm}\" for dm, nr in visits.items()]\n",
    "    return ans"
   ]
  }
 ],
 "metadata": {
  "language_info": {
   "name": "python"
  },
  "orig_nbformat": 4
 },
 "nbformat": 4,
 "nbformat_minor": 2
}
