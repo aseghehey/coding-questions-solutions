{
 "cells": [
  {
   "cell_type": "markdown",
   "metadata": {},
   "source": [
    "This problem is like the main 2 sum problem. Except, this one is with a sorted input. As soon as I read that, I knew it had something to do with a binary search.\n",
    "\n",
    "Basically, you treat it like a binary search but with a few tweaks.\n",
    "\n",
    "- Since you're still trying to find the index of the two numbers that give you the target, you need to compute numers[left] + numbers[right] and if it equals the target, return the indexes (they start at 1, so increment it by one).\n",
    "\n",
    "- The other part to complete a binary search is to check the other cases. To check if the total is greater or smaller than the target.\n",
    "\n",
    "- If the total is greater. That means we have to decrement our right pointer by 1, and compute the total with a smaller number.\n",
    "\n",
    "- If the total is smaller. That means we have to increment our left pointer by 1, and compute the total with a greater number."
   ]
  },
  {
   "cell_type": "code",
   "execution_count": null,
   "metadata": {},
   "outputs": [],
   "source": [
    "def twoSum(self, numbers: List[int], target: int) -> List[int]:\n",
    "    left, right = 0, len(numbers)-1\n",
    "    while left <= right:\n",
    "        total = numbers[left] + numbers[right]\n",
    "        if total == target:\n",
    "            return [left+1,right+1]\n",
    "        else:\n",
    "            if total > target:\n",
    "                right-=1\n",
    "            else:\n",
    "                left+=1"
   ]
  },
  {
   "cell_type": "markdown",
   "metadata": {},
   "source": [
    "This was my initial approach which follows the same idea as the optimal approach, however mine is a lot slower."
   ]
  },
  {
   "cell_type": "code",
   "execution_count": null,
   "metadata": {},
   "outputs": [],
   "source": [
    "def twoSum(self, numbers: List[int], target: int) -> List[int]:\n",
    "    def bsearch(numArr, num):\n",
    "        if len(numArr) == 0:\n",
    "            return False\n",
    "        else:\n",
    "            middle = len(numArr)//2\n",
    "            if numArr[middle] == num:\n",
    "                return True\n",
    "            else:\n",
    "                if num > numArr[middle]:\n",
    "                    return bsearch(numArr[middle+1:], num)\n",
    "                else:\n",
    "                    return bsearch(numArr[:middle],num)\n",
    "    \n",
    "    vals = {n: i for i, n in enumerate(numbers)}\n",
    "    for i,num in enumerate(numbers):\n",
    "        remaining = target - num\n",
    "        if bsearch(numbers, remaining):\n",
    "            return [i+1,vals[remaining]+1]"
   ]
  }
 ],
 "metadata": {
  "kernelspec": {
   "display_name": "Python 3.9.7 64-bit",
   "language": "python",
   "name": "python3"
  },
  "language_info": {
   "name": "python",
   "version": "3.9.7"
  },
  "orig_nbformat": 4,
  "vscode": {
   "interpreter": {
    "hash": "aee8b7b246df8f9039afb4144a1f6fd8d2ca17a180786b69acc140d282b71a49"
   }
  }
 },
 "nbformat": 4,
 "nbformat_minor": 2
}
