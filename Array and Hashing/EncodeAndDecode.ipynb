{
 "cells": [
  {
   "cell_type": "markdown",
   "metadata": {},
   "source": [
    "Add length of word and '#' after + word"
   ]
  },
  {
   "cell_type": "code",
   "execution_count": null,
   "metadata": {},
   "outputs": [],
   "source": [
    "class Codec:\n",
    "    def encode(self, strs: List[str]) -> str:\n",
    "        \"\"\"Encodes a list of strings to a single string.\n",
    "        \"\"\"\n",
    "        res = ''\n",
    "        for word in strs:\n",
    "            res += str(len(word)) + '#' + word\n",
    "        return res\n",
    "    \n",
    "    def decode(self, s: str) -> List[str]:\n",
    "        \"\"\"Decodes a single string to a list of strings.\n",
    "        \"\"\"\n",
    "        print(s)\n",
    "        \n",
    "        res = []\n",
    "        i = 0\n",
    "        while i < len(s):\n",
    "            j = i\n",
    "            \n",
    "            while s[j] != '#':\n",
    "                j += 1\n",
    "            length = int(s[i:j])\n",
    "            res.append(s[j + 1: j + 1 + length])\n",
    "            i = j + 1 + length\n",
    "            \n",
    "        return res\n",
    "\n",
    "\n",
    "# Your Codec object will be instantiated and called as such:\n",
    "# codec = Codec()\n",
    "# codec.decode(codec.encode(strs))"
   ]
  }
 ],
 "metadata": {
  "kernelspec": {
   "display_name": "Python 3",
   "language": "python",
   "name": "python3"
  },
  "language_info": {
   "name": "python",
   "version": "3.9.7"
  },
  "orig_nbformat": 4,
  "vscode": {
   "interpreter": {
    "hash": "aee8b7b246df8f9039afb4144a1f6fd8d2ca17a180786b69acc140d282b71a49"
   }
  }
 },
 "nbformat": 4,
 "nbformat_minor": 2
}
