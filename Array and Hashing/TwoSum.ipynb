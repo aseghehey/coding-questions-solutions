{
 "cells": [
  {
   "cell_type": "markdown",
   "metadata": {},
   "source": [
    "This is definitely Leetcode's most famous problem. It seems scary at first but it's really not!\n",
    "\n",
    "Steps:\n",
    "- Use a map to store the numbers you have already iterated through. Along with the index.\n",
    "- Calculate the target - nums[i] and check if it is in the set. If so, return the index of the current value you're in as well as the index for the second value"
   ]
  },
  {
   "cell_type": "code",
   "execution_count": null,
   "metadata": {},
   "outputs": [],
   "source": [
    "def twoSum(self, nums: List[int], target: int) -> List[int]:\n",
    "    seen = {}\n",
    "    for i in range(len(nums)):\n",
    "        rem = target - nums[i]\n",
    "        if rem in seen:\n",
    "            return [i,seen[rem]]\n",
    "        else:\n",
    "            seen[nums[i]] = i "
   ]
  },
  {
   "cell_type": "markdown",
   "metadata": {},
   "source": [
    "The solution is in O(n)"
   ]
  }
 ],
 "metadata": {
  "kernelspec": {
   "display_name": "Python 3.9.7 64-bit",
   "language": "python",
   "name": "python3"
  },
  "language_info": {
   "name": "python",
   "version": "3.9.7"
  },
  "orig_nbformat": 4,
  "vscode": {
   "interpreter": {
    "hash": "aee8b7b246df8f9039afb4144a1f6fd8d2ca17a180786b69acc140d282b71a49"
   }
  }
 },
 "nbformat": 4,
 "nbformat_minor": 2
}
