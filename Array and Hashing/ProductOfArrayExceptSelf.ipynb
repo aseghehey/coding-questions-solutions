{
 "cells": [
  {
   "cell_type": "markdown",
   "metadata": {},
   "source": [
    "The idea is to get all the prefix products and then multipy with the postfix products, so we're getting the product of every number before and after i which is exactly what we want"
   ]
  },
  {
   "cell_type": "code",
   "execution_count": null,
   "metadata": {},
   "outputs": [],
   "source": [
    "def productExceptSelf(self, nums: List[int]) -> List[int]:\n",
    "    prefix, postfix = 1,1\n",
    "    res = [1]*len(nums)\n",
    "    for i in range(len(nums)):\n",
    "        res[i] = prefix\n",
    "        prefix *= nums[i]\n",
    "        \n",
    "    for i in range(len(nums)-1,-1,-1):\n",
    "        res[i] *= postfix\n",
    "        postfix *= nums[i]\n",
    "    \n",
    "        \n",
    "    return res"
   ]
  }
 ],
 "metadata": {
  "language_info": {
   "name": "python"
  },
  "orig_nbformat": 4
 },
 "nbformat": 4,
 "nbformat_minor": 2
}
