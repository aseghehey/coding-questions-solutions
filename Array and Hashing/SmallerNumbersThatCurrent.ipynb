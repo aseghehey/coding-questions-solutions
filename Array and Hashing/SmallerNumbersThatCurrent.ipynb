{
 "cells": [
  {
   "cell_type": "markdown",
   "metadata": {},
   "source": [
    "Here are two perfectly working solutions"
   ]
  },
  {
   "cell_type": "code",
   "execution_count": null,
   "metadata": {},
   "outputs": [],
   "source": [
    "def smallerNumbersThanCurrent(self, nums: List[int]) -> List[int]:\n",
    "    sorted_list = sorted(nums,reverse=True)\n",
    "    d = {}\n",
    "    j=1\n",
    "    for i in sorted_list:\n",
    "        d[i] = len(nums)-j\n",
    "        j+=1\n",
    "    l=[]\n",
    "    for i in nums:\n",
    "        l.append(d[i])\n",
    "    return l"
   ]
  },
  {
   "cell_type": "code",
   "execution_count": null,
   "metadata": {},
   "outputs": [],
   "source": [
    "def smallerNumbersThanCurrent(self, nums: List[int]) -> List[int]:\n",
    "    res = {}\n",
    "    count = 0\n",
    "    for i in range(len(nums)):\n",
    "        for j in range(len(nums)):\n",
    "            if nums[i] > nums[j]:\n",
    "                count += 1\n",
    "        res[nums[i]] = count\n",
    "        count = 0\n",
    "    ans = []\n",
    "    for num in nums:\n",
    "        ans.append(res[num])\n",
    "    return ans"
   ]
  }
 ],
 "metadata": {
  "language_info": {
   "name": "python"
  },
  "orig_nbformat": 4
 },
 "nbformat": 4,
 "nbformat_minor": 2
}
