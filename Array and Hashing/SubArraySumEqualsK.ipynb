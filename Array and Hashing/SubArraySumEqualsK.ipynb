{
 "cells": [
  {
   "cell_type": "markdown",
   "metadata": {},
   "source": [
    "Genius solution"
   ]
  },
  {
   "cell_type": "code",
   "execution_count": null,
   "metadata": {},
   "outputs": [],
   "source": [
    "def subarraySum(self, nums: List[int], k: int) -> int:\n",
    "    dic = {0: 1}\n",
    "    curr, count = 0, 0\n",
    "\n",
    "    for num in nums:\n",
    "        curr += num\n",
    "        if (curr - k) in dic:\n",
    "            count += dic[curr - k]\n",
    "        if curr in dic:\n",
    "            dic[curr] += 1\n",
    "        else:\n",
    "            dic[curr] = 1\n",
    "            \n",
    "    return count"
   ]
  }
 ],
 "metadata": {
  "language_info": {
   "name": "python"
  },
  "orig_nbformat": 4
 },
 "nbformat": 4,
 "nbformat_minor": 2
}
