{
 "cells": [
  {
   "cell_type": "markdown",
   "metadata": {},
   "source": [
    "This solution is much more efficient than solution #2 since it runs in O(nLogn) because we're sorting and it passes every test case\n",
    "\n",
    "**Intuition**\n",
    "- Go through array in reverse order. The last index is always guaranteed to be in the solution since there won't be any buildings higher than it.\n",
    "- Keep track of the max height we've seen so far, and compare it with the other buildings.\n",
    "- If it finds a higher building, then the index of that building gets added to the solution\n",
    "- Return the sorted index array, since they do need to be in order."
   ]
  },
  {
   "cell_type": "code",
   "execution_count": null,
   "metadata": {},
   "outputs": [],
   "source": [
    "def findBuildings(self, heights: List[int]) -> List[int]:\n",
    "    ans = [len(heights) - 1]\n",
    "    curMaxHeight = heights[-1]\n",
    "    for i in range(len(heights) - 2, -1, -1):\n",
    "        if heights[i] > curMaxHeight:\n",
    "            curMaxHeight = heights[i]\n",
    "            ans.append(i)\n",
    "    return ans[::-1]"
   ]
  },
  {
   "cell_type": "markdown",
   "metadata": {},
   "source": [
    "**Initial solution:**\n",
    "\n",
    "This is a brute force solution which works but it's very slow as it runs in O(n^2) and gets TLE"
   ]
  },
  {
   "cell_type": "code",
   "execution_count": null,
   "metadata": {},
   "outputs": [],
   "source": [
    "def findBuildings(self, heights: List[int]) -> List[int]:\n",
    "    # O(n^2) solution    \n",
    "    add = True\n",
    "    ans = []\n",
    "    for i in range(len(heights)):\n",
    "        add = True\n",
    "        for j in range(i + 1, len(heights)):\n",
    "            if heights[j] >= heights[i]:\n",
    "                add = False\n",
    "        if add:\n",
    "            ans.append(i)\n",
    "    return ans"
   ]
  }
 ],
 "metadata": {
  "language_info": {
   "name": "python"
  },
  "orig_nbformat": 4
 },
 "nbformat": 4,
 "nbformat_minor": 2
}
