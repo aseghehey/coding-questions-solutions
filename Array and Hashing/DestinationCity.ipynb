{
 "cells": [
  {
   "cell_type": "code",
   "execution_count": null,
   "metadata": {},
   "outputs": [],
   "source": [
    "def destCity(self, paths: List[List[str]]) -> str:\n",
    "    dest = {}\n",
    "    for a, b in paths:\n",
    "        dest[a] = b\n",
    "        if b not in dest:\n",
    "            dest[b] = ''\n",
    "        \n",
    "    for k, v in dest.items():\n",
    "        if not v: return k"
   ]
  }
 ],
 "metadata": {
  "language_info": {
   "name": "python"
  },
  "orig_nbformat": 4
 },
 "nbformat": 4,
 "nbformat_minor": 2
}
