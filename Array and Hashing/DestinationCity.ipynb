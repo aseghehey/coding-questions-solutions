{
 "cells": [
  {
   "cell_type": "code",
   "execution_count": null,
   "metadata": {},
   "outputs": [],
   "source": [
    "def destCity(self, paths: List[List[str]]) -> str:\n",
    "    dest = {}\n",
    "    for a, b in paths:\n",
    "        dest[a] = b\n",
    "        if b not in dest:\n",
    "            dest[b] = ''\n",
    "        \n",
    "    for k, v in dest.items():\n",
    "        if not v: return k"
   ]
  }
 ],
 "metadata": {
  "kernelspec": {
   "display_name": "Python 3",
   "language": "python",
   "name": "python3"
  },
  "language_info": {
   "name": "python",
   "version": "3.9.7"
  },
  "orig_nbformat": 4,
  "vscode": {
   "interpreter": {
    "hash": "aee8b7b246df8f9039afb4144a1f6fd8d2ca17a180786b69acc140d282b71a49"
   }
  }
 },
 "nbformat": 4,
 "nbformat_minor": 2
}
