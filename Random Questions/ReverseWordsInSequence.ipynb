{
 "cells": [
  {
   "cell_type": "code",
   "execution_count": 2,
   "metadata": {},
   "outputs": [
    {
     "name": "stdout",
     "output_type": "stream",
     "text": [
      "olleH yadot si a doog yad\n"
     ]
    }
   ],
   "source": [
    "s = 'Hello today is a good day'\n",
    "def reverseWordsInSequence(strng):\n",
    "    sArr = strng.split()\n",
    "    for i in range(len(sArr)):\n",
    "        sArr[i] = sArr[i][::-1]\n",
    "    return ' '.join(sArr)\n",
    "\n",
    "print(reverseWordsInSequence(s))"
   ]
  }
 ],
 "metadata": {
  "kernelspec": {
   "display_name": "Python 3.9.7 64-bit",
   "language": "python",
   "name": "python3"
  },
  "language_info": {
   "codemirror_mode": {
    "name": "ipython",
    "version": 3
   },
   "file_extension": ".py",
   "mimetype": "text/x-python",
   "name": "python",
   "nbconvert_exporter": "python",
   "pygments_lexer": "ipython3",
   "version": "3.9.7"
  },
  "orig_nbformat": 4,
  "vscode": {
   "interpreter": {
    "hash": "aee8b7b246df8f9039afb4144a1f6fd8d2ca17a180786b69acc140d282b71a49"
   }
  }
 },
 "nbformat": 4,
 "nbformat_minor": 2
}
