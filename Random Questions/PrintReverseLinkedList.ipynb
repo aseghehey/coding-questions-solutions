{
 "cells": [
  {
   "cell_type": "code",
   "execution_count": 3,
   "metadata": {},
   "outputs": [
    {
     "name": "stdout",
     "output_type": "stream",
     "text": [
      "2\n",
      "1\n"
     ]
    }
   ],
   "source": [
    "class LinkedList:\n",
    "    def __init__(self, val = 0):\n",
    "        self.val = val\n",
    "        self.next = None\n",
    "\n",
    "def printRLL(head):\n",
    "    if head is None:\n",
    "        return\n",
    "    printRLL(head.next)\n",
    "    print(head.val)\n",
    "\n",
    "def main():\n",
    "    head = LinkedList(1)\n",
    "    head.next = LinkedList(2)\n",
    "\n",
    "    printRLL(head)\n",
    "\n",
    "main()"
   ]
  }
 ],
 "metadata": {
  "kernelspec": {
   "display_name": "Python 3.9.7 64-bit",
   "language": "python",
   "name": "python3"
  },
  "language_info": {
   "codemirror_mode": {
    "name": "ipython",
    "version": 3
   },
   "file_extension": ".py",
   "mimetype": "text/x-python",
   "name": "python",
   "nbconvert_exporter": "python",
   "pygments_lexer": "ipython3",
   "version": "3.9.7"
  },
  "orig_nbformat": 4,
  "vscode": {
   "interpreter": {
    "hash": "aee8b7b246df8f9039afb4144a1f6fd8d2ca17a180786b69acc140d282b71a49"
   }
  }
 },
 "nbformat": 4,
 "nbformat_minor": 2
}
