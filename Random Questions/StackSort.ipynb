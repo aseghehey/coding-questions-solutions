{
 "cells": [
  {
   "cell_type": "code",
   "execution_count": null,
   "metadata": {},
   "outputs": [],
   "source": [
    "stack = [0, 4, 5, 1, 3, 6, 9, 7, 8]\n",
    "stack2 = []\n",
    "temp = []\n",
    "n = len(stack)\n",
    "stack2.append(stack.pop())\n",
    "\n",
    "while stack:\n",
    "    print('here')\n",
    "    if stack[-1] < stack2[-1]:\n",
    "        stack2.append(stack.pop())\n",
    "    else:\n",
    "        while stack2 and stack[-1] > stack2[-1]:\n",
    "            print('in the inner loop')\n",
    "            temp.append(stack2.pop())\n",
    "        stack2.append(stack.pop())\n",
    "        for t in temp[::-1]:\n",
    "            stack2.append(t)\n",
    "            temp.remove(t)\n",
    "print(stack2)"
   ]
  }
 ],
 "metadata": {
  "kernelspec": {
   "display_name": "Python 3.9.7 64-bit",
   "language": "python",
   "name": "python3"
  },
  "language_info": {
   "name": "python",
   "version": "3.9.7"
  },
  "orig_nbformat": 4,
  "vscode": {
   "interpreter": {
    "hash": "aee8b7b246df8f9039afb4144a1f6fd8d2ca17a180786b69acc140d282b71a49"
   }
  }
 },
 "nbformat": 4,
 "nbformat_minor": 2
}
