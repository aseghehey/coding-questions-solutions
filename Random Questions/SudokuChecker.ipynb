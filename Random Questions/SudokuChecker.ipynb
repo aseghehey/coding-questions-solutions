{
 "cells": [
  {
   "cell_type": "code",
   "execution_count": null,
   "metadata": {},
   "outputs": [],
   "source": [
    "def sudoku_checker(grid):\n",
    "    for i in range(len(grid)):\n",
    "        for j in range(len(grid[0])):\n",
    "            if grid[i][j] != 0:\n",
    "                for k in range(len(grid)):\n",
    "                    if k != i and grid[i][j] == grid[k][j]:\n",
    "                        return False\n",
    "                for l in range(len(grid[0])):\n",
    "                    if l != j and grid[i][j] == grid[i][l]:\n",
    "                        return False\n",
    "                for m in range(3):\n",
    "                    for n in range(3):\n",
    "                        if i % 3 == 0 and j % 3 == 0:\n",
    "                            if m != i and n != j and grid[i][j] == grid[i + m][j + n]:\n",
    "                                return False\n",
    "    return True"
   ]
  },
  {
   "cell_type": "markdown",
   "metadata": {},
   "source": []
  }
 ],
 "metadata": {
  "language_info": {
   "name": "python"
  },
  "orig_nbformat": 4
 },
 "nbformat": 4,
 "nbformat_minor": 2
}
