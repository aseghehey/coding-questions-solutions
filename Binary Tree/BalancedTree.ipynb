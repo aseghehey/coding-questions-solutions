{
 "cells": [
  {
   "cell_type": "markdown",
   "metadata": {},
   "source": [
    "**Steps**\n",
    "- Do a dfs and compute the height of the subtrees as we go along"
   ]
  },
  {
   "cell_type": "code",
   "execution_count": null,
   "metadata": {},
   "outputs": [],
   "source": [
    "def isBalanced(self, root: Optional[TreeNode]) -> bool:\n",
    "    def dfs(root):\n",
    "        if not root: return [True, 0]\n",
    "        left, right = dfs(root.left), dfs(root.right)\n",
    "        balanced = (left[0] and right[0] and abs(left[1]-right[1]) <=1)\n",
    "        return [balanced, 1+max(left[1],right[1])]\n",
    "    \n",
    "    return dfs(root)[0]"
   ]
  }
 ],
 "metadata": {
  "kernelspec": {
   "display_name": "Python 3.9.7 64-bit",
   "language": "python",
   "name": "python3"
  },
  "language_info": {
   "name": "python",
   "version": "3.9.7"
  },
  "orig_nbformat": 4,
  "vscode": {
   "interpreter": {
    "hash": "aee8b7b246df8f9039afb4144a1f6fd8d2ca17a180786b69acc140d282b71a49"
   }
  }
 },
 "nbformat": 4,
 "nbformat_minor": 2
}
