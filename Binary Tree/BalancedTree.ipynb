{
 "cells": [
  {
   "cell_type": "markdown",
   "metadata": {},
   "source": [
    "DFS"
   ]
  },
  {
   "cell_type": "code",
   "execution_count": null,
   "metadata": {},
   "outputs": [],
   "source": [
    "def isBalanced(self, root: Optional[TreeNode]) -> bool:\n",
    "    def dfs(root):\n",
    "        if not root: return [True, 0]\n",
    "        left, right = dfs(root.left), dfs(root.right)\n",
    "        balanced = (left[0] and right[0] and abs(left[1]-right[1]) <=1)\n",
    "        return [balanced, 1+max(left[1],right[1])]\n",
    "    \n",
    "    return dfs(root)[0]"
   ]
  }
 ],
 "metadata": {
  "language_info": {
   "name": "python"
  },
  "orig_nbformat": 4
 },
 "nbformat": 4,
 "nbformat_minor": 2
}
