{
 "cells": [
  {
   "cell_type": "markdown",
   "metadata": {},
   "source": [
    "**Question:** Given the root of a binary tree, check whether it is a mirror of itself (i.e., symmetric around its center).\n",
    "\n",
    "The left child of the left subtree = right child of the right subtree **AND**\n",
    "The right child of the left subtree = left child of the right subtree"
   ]
  },
  {
   "cell_type": "markdown",
   "metadata": {},
   "source": [
    "**Recursive Solution**"
   ]
  },
  {
   "cell_type": "code",
   "execution_count": null,
   "metadata": {},
   "outputs": [],
   "source": [
    "def isSymmetric(self, root: Optional[TreeNode]) -> bool:\n",
    "        def symmetric(left, right): # takes the left and right value\n",
    "            if (left is None) or (right is None): # if either is null\n",
    "                return left == right # we check that they're both null - they need to be equal/symmetric\n",
    "            if left.val != right.val: # if they arent equal return False\n",
    "                return False \n",
    "            return symmetric(left.left, right.right) and symmetric(left.right,right.left) # pass the combo because they both need to be true in order for the tree to be symmetric\n",
    "        \n",
    "        if root is None: # checking if root is null, we don't want to pass a null root to the function\n",
    "            return True # would be true because a null root is \"symmetric\"\n",
    "        \n",
    "        return symmetric(root.left,root.right)"
   ]
  },
  {
   "cell_type": "markdown",
   "metadata": {},
   "source": [
    "**Iterative solution**"
   ]
  },
  {
   "cell_type": "code",
   "execution_count": null,
   "metadata": {},
   "outputs": [],
   "source": [
    "def isSymmetric(self, root: Optional[TreeNode]) -> bool:\n",
    "        def symmetric(left, right): # takes the left and right value\n",
    "            if (left is None) or (right is None): # if either is null\n",
    "                return left == right # we check that they're both null - they need to be equal/symmetric\n",
    "            if left.val != right.val: # if they arent equal return False\n",
    "                return False \n",
    "            return symmetric(left.left, right.right) and symmetric(left.right,right.left) # pass the combo because they both need to be true in order for the tree to be symmetric\n",
    "        \n",
    "        if root is None: # checking if root is null, we don't want to pass a null root to the function\n",
    "            return True # would be true because a null root is \"symmetric\"\n",
    "        \n",
    "        return symmetric(root.left,root.right)"
   ]
  }
 ],
 "metadata": {
  "kernelspec": {
   "display_name": "Python 3.9.7 64-bit",
   "language": "python",
   "name": "python3"
  },
  "language_info": {
   "name": "python",
   "version": "3.9.7"
  },
  "orig_nbformat": 4,
  "vscode": {
   "interpreter": {
    "hash": "aee8b7b246df8f9039afb4144a1f6fd8d2ca17a180786b69acc140d282b71a49"
   }
  }
 },
 "nbformat": 4,
 "nbformat_minor": 2
}
