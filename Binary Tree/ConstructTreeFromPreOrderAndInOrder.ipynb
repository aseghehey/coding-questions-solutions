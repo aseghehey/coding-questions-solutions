{
 "cells": [
  {
   "cell_type": "markdown",
   "metadata": {},
   "source": [
    "**Approach**\n",
    "- Need to see that the first value of the preorder array will always be the root\n",
    "- Whatever is to the left of the root value in the inorder array is a part of the left subtree - and what's to the right is the right subtree.\n",
    "\n",
    "Knowing that, we can tackle this problem using recursion. Where we establish the root as the value at index 0 of the preorder array and get the \"mid\" index of it and then make the left and right subtrees."
   ]
  },
  {
   "cell_type": "code",
   "execution_count": null,
   "metadata": {},
   "outputs": [],
   "source": [
    "def buildTree(self, preorder: List[int], inorder: List[int]) -> Optional[TreeNode]:\n",
    "    if not preorder or not inorder:\n",
    "        return None\n",
    "    \n",
    "    root = TreeNode(preorder[0])\n",
    "    mid = inorder.index(preorder[0])\n",
    "    root.left = self.buildTree(preorder[1:mid+1], inorder[:mid+1])\n",
    "    root.right = self.buildTree(preorder[mid+1:], inorder[mid+1:])\n",
    "    \n",
    "    return root"
   ]
  }
 ],
 "metadata": {
  "language_info": {
   "name": "python"
  },
  "orig_nbformat": 4
 },
 "nbformat": 4,
 "nbformat_minor": 2
}
