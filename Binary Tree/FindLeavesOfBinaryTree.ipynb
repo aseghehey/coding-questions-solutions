{
 "cells": [
  {
   "cell_type": "markdown",
   "metadata": {},
   "source": [
    "- PostOrder Traversal\n",
    "- Get height from end of tree\n",
    "- Append height in heights map\n",
    "- Return values of heights map"
   ]
  },
  {
   "cell_type": "code",
   "execution_count": null,
   "metadata": {},
   "outputs": [],
   "source": [
    "def findLeaves(self, root: Optional[TreeNode]) -> List[List[int]]:\n",
    "    heights = collections.defaultdict(list)\n",
    "    def getHeight(root):\n",
    "        if not root:\n",
    "            return 0\n",
    "\n",
    "        height = max(getHeight(root.left), getHeight(root.right)) + 1\n",
    "        heights[height].append(root.val)\n",
    "        \n",
    "        return height\n",
    "    \n",
    "    getHeight(root)\n",
    "    return heights.values()"
   ]
  }
 ],
 "metadata": {
  "language_info": {
   "name": "python"
  },
  "orig_nbformat": 4
 },
 "nbformat": 4,
 "nbformat_minor": 2
}
