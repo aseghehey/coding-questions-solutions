{
 "cells": [
  {
   "cell_type": "code",
   "execution_count": null,
   "metadata": {},
   "outputs": [],
   "source": [
    "def isSameTree(self, p: Optional[TreeNode], q: Optional[TreeNode]) -> bool:\n",
    "    if not p and not q:\n",
    "        return True\n",
    "    if not p or not q or p.val!=q.val:\n",
    "        return False\n",
    "    return self.isSameTree(p.left, q.left) and self.isSameTree(p.right, q.right)"
   ]
  },
  {
   "cell_type": "code",
   "execution_count": null,
   "metadata": {},
   "outputs": [],
   "source": [
    "def isSameTree(self, p: Optional[TreeNode], q: Optional[TreeNode]) -> bool:\n",
    "    stack = [(p,q)]\n",
    "    while stack:\n",
    "        node1, node2 = stack.pop()\n",
    "        \n",
    "        if (node1 and not node2) or (node2 and not node1):\n",
    "            return False\n",
    "        \n",
    "        if node1 and node2:\n",
    "            if node1.val != node2.val:\n",
    "                print(node1.val, node2.val)\n",
    "                return False\n",
    "            stack.append((node1.left,node2.left))\n",
    "            stack.append((node1.right,node2.right))\n",
    "\n",
    "    return True"
   ]
  }
 ],
 "metadata": {
  "kernelspec": {
   "display_name": "Python 3.9.7 64-bit",
   "language": "python",
   "name": "python3"
  },
  "language_info": {
   "name": "python",
   "version": "3.9.7"
  },
  "orig_nbformat": 4,
  "vscode": {
   "interpreter": {
    "hash": "aee8b7b246df8f9039afb4144a1f6fd8d2ca17a180786b69acc140d282b71a49"
   }
  }
 },
 "nbformat": 4,
 "nbformat_minor": 2
}
