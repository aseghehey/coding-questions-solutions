{
 "cells": [
  {
   "cell_type": "markdown",
   "metadata": {},
   "source": [
    "I knew I could do it with recursion but my initial solution was flawed as I was trying to be fancy and not use two pointers. Anyways, it didn't workout and it doesn't matter but my idea was right!\n",
    "\n",
    "This is the proper way to do it:\n",
    "\n",
    "I think it's self explanatory but here is the explanation:\n",
    "\n",
    "- Since the array is already sorted, the root is going to be the middle value each time.\n",
    "- The left subarray is the left subtree, and the same applies to the right subarray\n",
    "- So we recursively pass the bounds for the left subarray to node.left and the same for the right subarray\n",
    "\n",
    "We then return the node"
   ]
  },
  {
   "cell_type": "code",
   "execution_count": null,
   "metadata": {},
   "outputs": [],
   "source": [
    "def sortedArrayToBST(self, nums: List[int]) -> Optional[TreeNode]:\n",
    "    def constructBST(left, right):\n",
    "        if left <= right:\n",
    "            mid = (left + right) // 2\n",
    "            node = TreeNode(nums[mid])\n",
    "            node.left = constructBST(left, mid-1)\n",
    "            node.right = constructBST(mid+1,right)\n",
    "            \n",
    "            return node\n",
    "        \n",
    "    return constructBST(0, len(nums)-1)\n",
    "        "
   ]
  }
 ],
 "metadata": {
  "kernelspec": {
   "display_name": "Python 3.9.7 64-bit",
   "language": "python",
   "name": "python3"
  },
  "language_info": {
   "name": "python",
   "version": "3.9.7"
  },
  "orig_nbformat": 4,
  "vscode": {
   "interpreter": {
    "hash": "aee8b7b246df8f9039afb4144a1f6fd8d2ca17a180786b69acc140d282b71a49"
   }
  }
 },
 "nbformat": 4,
 "nbformat_minor": 2
}
