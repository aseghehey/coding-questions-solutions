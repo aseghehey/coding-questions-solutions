{
 "cells": [
  {
   "cell_type": "code",
   "execution_count": null,
   "metadata": {},
   "outputs": [],
   "source": [
    "def levelOrder(self, root: Optional[TreeNode]) -> List[List[int]]:\n",
    "    if not root:\n",
    "        return []\n",
    "    \n",
    "    queue = [root]\n",
    "    cur,res = [],[]\n",
    "    while queue:\n",
    "        cur = []\n",
    "        for i in range(len(queue)):\n",
    "            node = queue.pop(0)\n",
    "            if node:\n",
    "                cur.append(node.val)\n",
    "                queue.append(node.left)\n",
    "                queue.append(node.right)\n",
    "        if cur:\n",
    "            res.append(cur)\n",
    "    return res"
   ]
  }
 ],
 "metadata": {
  "language_info": {
   "name": "python"
  },
  "orig_nbformat": 4
 },
 "nbformat": 4,
 "nbformat_minor": 2
}
