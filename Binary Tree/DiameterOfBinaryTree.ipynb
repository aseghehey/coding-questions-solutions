{
 "cells": [
  {
   "cell_type": "markdown",
   "metadata": {},
   "source": [
    "This one is HARD. It's set as an easy on LC, but in my honest opinion it should be classified as a Medium.\n",
    "\n",
    "I wasn't able to do it all alone but I did realize that the longest path will be between two leaf nodes. Left most and right most.\n",
    "\n",
    "**Approach:**\n",
    "One must compute the diameter and height of each node and then get the max diameter and return it."
   ]
  },
  {
   "cell_type": "code",
   "execution_count": null,
   "metadata": {},
   "outputs": [],
   "source": [
    "def diameterOfBinaryTree(self, root: Optional[TreeNode]) -> int:\n",
    "    res = [0]\n",
    "    def dfs(root):\n",
    "        if not root:\n",
    "            return -1\n",
    "        left = dfs(root.left)\n",
    "        right = dfs(root.right)\n",
    "        res[0] = max(res[0], 2 + left + right)\n",
    "        \n",
    "        return 1 + max(left,right)\n",
    "    dfs(root)\n",
    "    return res[0]\n",
    "            "
   ]
  }
 ],
 "metadata": {
  "language_info": {
   "name": "python"
  },
  "orig_nbformat": 4
 },
 "nbformat": 4,
 "nbformat_minor": 2
}
