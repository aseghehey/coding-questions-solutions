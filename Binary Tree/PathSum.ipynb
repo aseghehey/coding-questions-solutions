{
 "cells": [
  {
   "cell_type": "markdown",
   "metadata": {},
   "source": [
    "Do a dfs traversal and decrement the target sum by the root value each time\n",
    "\n",
    "That way, we get to our target sum if cur value has reached 0.\n",
    "\n",
    "It could happen that the target sum is present but not in a root-leaf relationship, so it is important to check that it is the leaf node, hence why we have the checks in line 8.\n",
    "\n",
    "After that, we append the left and right nodes with their respectives values. We can't just add them, we need to check that they exist, otherwise, we get an error because a Null node does not have attribute \"val\""
   ]
  },
  {
   "cell_type": "code",
   "execution_count": null,
   "metadata": {},
   "outputs": [],
   "source": [
    "def hasPathSum(self, root: Optional[TreeNode], targetSum: int) -> bool:\n",
    "    if not root:\n",
    "        return False\n",
    "    stack = [(root,targetSum-root.val)]\n",
    "    while stack:\n",
    "        node, curval = stack.pop()\n",
    "        if node:\n",
    "            if not node.left and not node.right and curval == 0:\n",
    "                return True\n",
    "            if node.left:\n",
    "                stack.append((node.left, curval - node.left.val))\n",
    "            if node.right:\n",
    "                stack.append((node.right,curval - node.right.val))\n",
    "    return False"
   ]
  }
 ],
 "metadata": {
  "language_info": {
   "name": "python"
  },
  "orig_nbformat": 4
 },
 "nbformat": 4,
 "nbformat_minor": 2
}
