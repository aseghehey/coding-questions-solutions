{
 "cells": [
  {
   "cell_type": "markdown",
   "metadata": {},
   "source": [
    "Trick here is to remember that for a tree to be a valid BST then each node has to pass:\n",
    "\n",
    "lower bound < node.val <  upper.bound\n",
    "\n",
    "where if you go to the left subtree, the node.val needs to be below its parents.val (upper bound)\n",
    "\n",
    "and if you go to the right subtree, the node.val needs to be greater than its parents.val (lower bound)"
   ]
  },
  {
   "cell_type": "code",
   "execution_count": null,
   "metadata": {},
   "outputs": [],
   "source": [
    "def isValidBST(self, root: Optional[TreeNode]) -> bool:\n",
    "    def valid(root, left, right): # helper function\n",
    "        if not root: return True # an empty tree is still technically considered a BST\n",
    "        if not (root.val > left and root.val < right): # if it fails the test\n",
    "            return False\n",
    "        return valid(root.left, left, root.val) and valid(root.right, root.val, right) # both need to be valid\n",
    "    \n",
    "    return valid(root, -float('inf'), float('inf')) # we set the two bounds as -inf,inf to check for the root since it can be any number"
   ]
  }
 ],
 "metadata": {
  "language_info": {
   "name": "python"
  },
  "orig_nbformat": 4
 },
 "nbformat": 4,
 "nbformat_minor": 2
}
