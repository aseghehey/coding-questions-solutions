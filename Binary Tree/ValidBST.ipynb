{
 "cells": [
  {
   "cell_type": "markdown",
   "metadata": {},
   "source": [
    "Trick here is to remember that for a tree to be a valid BST then each node has to pass:\n",
    "\n",
    "lower bound < node.val <  upper.bound\n",
    "\n",
    "where if you go to the left subtree, the node.val needs to be below its parents.val (upper bound)\n",
    "\n",
    "and if you go to the right subtree, the node.val needs to be greater than its parents.val (lower bound)"
   ]
  },
  {
   "cell_type": "code",
   "execution_count": null,
   "metadata": {},
   "outputs": [],
   "source": [
    "def isValidBST(self, root: Optional[TreeNode]) -> bool:\n",
    "    def valid(root, left, right): # helper function\n",
    "        if not root: return True # an empty tree is still technically considered a BST\n",
    "        if not (root.val > left and root.val < right): # if it fails the test\n",
    "            return False\n",
    "        return valid(root.left, left, root.val) and valid(root.right, root.val, right) # both need to be valid\n",
    "    \n",
    "    return valid(root, -float('inf'), float('inf')) # we set the two bounds as -inf,inf to check for the root since it can be any number"
   ]
  }
 ],
 "metadata": {
  "kernelspec": {
   "display_name": "Python 3.9.7 64-bit",
   "language": "python",
   "name": "python3"
  },
  "language_info": {
   "name": "python",
   "version": "3.9.7"
  },
  "orig_nbformat": 4,
  "vscode": {
   "interpreter": {
    "hash": "aee8b7b246df8f9039afb4144a1f6fd8d2ca17a180786b69acc140d282b71a49"
   }
  }
 },
 "nbformat": 4,
 "nbformat_minor": 2
}
