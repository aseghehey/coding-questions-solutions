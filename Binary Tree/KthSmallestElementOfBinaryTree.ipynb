{
 "cells": [
  {
   "cell_type": "markdown",
   "metadata": {},
   "source": [
    "**My first implementation:**\n",
    "\n",
    "#### Steps:\n",
    "- Do DFS on tree\n",
    "- Add all the values into the array\n",
    "- Sort array\n",
    "- Return [k-1] element of array"
   ]
  },
  {
   "cell_type": "code",
   "execution_count": null,
   "metadata": {},
   "outputs": [],
   "source": [
    "def kthSmallest(self, root: Optional[TreeNode], k: int) -> int:\n",
    "    stack = [root]\n",
    "    arr = []\n",
    "    while stack:\n",
    "        node = stack.pop()\n",
    "        if node:\n",
    "            # print(node.val)\n",
    "            arr.append(node.val)\n",
    "            stack.append(node.left)\n",
    "            stack.append(node.right)\n",
    "    arr.sort()\n",
    "    return arr[k-1]"
   ]
  },
  {
   "cell_type": "markdown",
   "metadata": {},
   "source": [
    "**With an actual heap**\n",
    "\n",
    "Runs slightly slower than the first solution but works."
   ]
  },
  {
   "cell_type": "code",
   "execution_count": null,
   "metadata": {},
   "outputs": [],
   "source": [
    "def kthSmallest(self, root: Optional[TreeNode], k: int) -> int:\n",
    "    stack = [root]\n",
    "    heap = []\n",
    "    heapq.heapify(heap)\n",
    "    while stack:\n",
    "        node = stack.pop()\n",
    "        if node:\n",
    "            heapq.heappush(heap,node.val)\n",
    "            stack.append(node.left)\n",
    "            stack.append(node.right)\n",
    "    res = 0\n",
    "    for i in range(k):\n",
    "        res = heapq.heappop(heap)\n",
    "    return res"
   ]
  },
  {
   "cell_type": "markdown",
   "metadata": {},
   "source": [
    "**Neetcode's solution**\n",
    "\n",
    "My 1st solution runs faster than his but here is his solution:"
   ]
  },
  {
   "cell_type": "code",
   "execution_count": null,
   "metadata": {},
   "outputs": [],
   "source": [
    "def kthSmallest(self, root: Optional[TreeNode], k: int) -> int:\n",
    "    stack = []\n",
    "    curr = root\n",
    "\n",
    "    while stack or curr:\n",
    "        while curr:\n",
    "            stack.append(curr)\n",
    "            curr = curr.left\n",
    "        curr = stack.pop()\n",
    "        k -= 1\n",
    "        if k == 0:\n",
    "            return curr.val\n",
    "        curr = curr.right"
   ]
  }
 ],
 "metadata": {
  "kernelspec": {
   "display_name": "Python 3.9.7 64-bit",
   "language": "python",
   "name": "python3"
  },
  "language_info": {
   "name": "python",
   "version": "3.9.7"
  },
  "orig_nbformat": 4,
  "vscode": {
   "interpreter": {
    "hash": "aee8b7b246df8f9039afb4144a1f6fd8d2ca17a180786b69acc140d282b71a49"
   }
  }
 },
 "nbformat": 4,
 "nbformat_minor": 2
}
