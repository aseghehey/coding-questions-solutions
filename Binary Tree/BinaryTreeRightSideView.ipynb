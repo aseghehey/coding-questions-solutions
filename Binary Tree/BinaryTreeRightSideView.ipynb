{
 "cells": [
  {
   "cell_type": "markdown",
   "metadata": {},
   "source": [
    "O(n) for both runtime and space complexity\n",
    "\n",
    "What I did was:\n",
    "- Do bfs traversal\n",
    "- Keep a map that will store depth and the last node seen at that depth (meaning, the rightmost node)\n",
    "- return the values of map, which is the equivalent of a list of the right side view of the tree"
   ]
  },
  {
   "cell_type": "code",
   "execution_count": null,
   "metadata": {},
   "outputs": [],
   "source": [
    "def rightSideView(self, root: Optional[TreeNode]) -> List[int]:\n",
    "    queue = [(root,1)]\n",
    "    res = {}\n",
    "    while queue:\n",
    "        node, depth = queue.pop(0)\n",
    "        if node:\n",
    "            res[depth] = node.val\n",
    "            if node.left:\n",
    "                queue.append((node.left, depth + 1))\n",
    "            if node.right:\n",
    "                queue.append((node.right, depth + 1))\n",
    "                \n",
    "    return res.values()"
   ]
  },
  {
   "cell_type": "markdown",
   "metadata": {},
   "source": [
    "I was bored so I decided to attempt the Left Side View and I came up with this code:\n",
    "\n",
    "The idea is the same, except now we get the leftmost value which is at index 0 in the list of all our values"
   ]
  },
  {
   "cell_type": "code",
   "execution_count": null,
   "metadata": {},
   "outputs": [],
   "source": [
    "def leftSideView(self, root: Optional[TreeNode]) -> List[int]:\n",
    "    queue = [(root,1)]\n",
    "    res = defaultdict(list)\n",
    "    while queue:\n",
    "        node, depth = queue.pop(0)\n",
    "        if node:\n",
    "            res[depth].append(node.val)\n",
    "            if node.left:\n",
    "                queue.append((node.left, depth + 1))\n",
    "            if node.right:\n",
    "                queue.append((node.right, depth + 1))\n",
    "    ans = []\n",
    "    for vals in res.values():\n",
    "        ans.append(vals[0])\n",
    "    \n",
    "    return ans"
   ]
  }
 ],
 "metadata": {
  "language_info": {
   "name": "python"
  },
  "orig_nbformat": 4
 },
 "nbformat": 4,
 "nbformat_minor": 2
}
