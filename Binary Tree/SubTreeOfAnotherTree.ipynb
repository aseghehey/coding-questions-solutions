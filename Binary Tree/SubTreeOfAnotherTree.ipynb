{
 "cells": [
  {
   "cell_type": "code",
   "execution_count": null,
   "metadata": {},
   "outputs": [],
   "source": [
    "def isSubtree(self, root: Optional[TreeNode], subRoot: Optional[TreeNode]) -> bool:\n",
    "    if not subRoot: return True # if subRoot is Null, then it technically is a subtree of any tree\n",
    "    if not root: return False # if it fails the first if-statement, and there is no root but a subRoot has been given, then straight away we know it's false\n",
    "    \n",
    "    if self.sameTree(root,subRoot): # if it is the same tree, return True\n",
    "        return True\n",
    "    \n",
    "    return self.isSubtree(root.left, subRoot) or self.isSubtree(root.right, subRoot) # we only need one T\n",
    "    \n",
    "def sameTree(self, r, s):\n",
    "    if not r and not s:\n",
    "        return True\n",
    "    if not r or not s or r.val!=s.val:\n",
    "        return False\n",
    "    return self.sameTree(r.left,s.left) and self.sameTree(r.right,s.right)\n"
   ]
  }
 ],
 "metadata": {
  "kernelspec": {
   "display_name": "Python 3.9.7 64-bit",
   "language": "python",
   "name": "python3"
  },
  "language_info": {
   "name": "python",
   "version": "3.9.7"
  },
  "orig_nbformat": 4,
  "vscode": {
   "interpreter": {
    "hash": "aee8b7b246df8f9039afb4144a1f6fd8d2ca17a180786b69acc140d282b71a49"
   }
  }
 },
 "nbformat": 4,
 "nbformat_minor": 2
}
