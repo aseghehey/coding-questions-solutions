{
 "cells": [
  {
   "cell_type": "markdown",
   "metadata": {},
   "source": [
    "**Recursive solution**\n",
    "\n",
    "This runs fast and works all test cases."
   ]
  },
  {
   "cell_type": "code",
   "execution_count": null,
   "metadata": {},
   "outputs": [],
   "source": [
    "def inorderTraversal(self, root: Optional[TreeNode]) -> List[int]:\n",
    "    arr = []\n",
    "    def inorder(root):\n",
    "        if root !=None:\n",
    "            inorder(root.left)\n",
    "            arr.append(root.val)\n",
    "            inorder(root.right)\n",
    "    inorder(root)\n",
    "    return arr"
   ]
  },
  {
   "cell_type": "markdown",
   "metadata": {},
   "source": [
    "**Iterative solution:**\n",
    "\n",
    "This solution runs faster"
   ]
  },
  {
   "cell_type": "code",
   "execution_count": null,
   "metadata": {},
   "outputs": [],
   "source": [
    "def inorderTraversal(self, root: Optional[TreeNode]) -> List[int]:\n",
    "    res, stack = [], []\n",
    "    while True:\n",
    "        while root:\n",
    "            stack.append(root)\n",
    "            root = root.left\n",
    "        if not stack:\n",
    "            return res\n",
    "        node = stack.pop()\n",
    "        res.append(node.val)\n",
    "        root = node.right"
   ]
  }
 ],
 "metadata": {
  "language_info": {
   "name": "python"
  },
  "orig_nbformat": 4
 },
 "nbformat": 4,
 "nbformat_minor": 2
}
