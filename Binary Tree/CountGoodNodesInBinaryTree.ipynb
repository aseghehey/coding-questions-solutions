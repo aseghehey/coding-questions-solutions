{
 "cells": [
  {
   "cell_type": "code",
   "execution_count": null,
   "metadata": {},
   "outputs": [],
   "source": [
    "# Definition for a binary tree node.\n",
    "# class TreeNode:\n",
    "#     def __init__(self, val=0, left=None, right=None):\n",
    "#         self.val = val\n",
    "#         self.left = left\n",
    "#         self.right = right\n",
    "class Solution:\n",
    "    def goodNodes(self, root: TreeNode) -> int:\n",
    "        \n",
    "        def numberGoodNodes(max_val, root):\n",
    "            if not root:\n",
    "                return 0\n",
    "            result = 1 if root.val >= max_val else 0\n",
    "            current_max = max(max_val, root.val)\n",
    "            result += numberGoodNodes(current_max, root.left)\n",
    "            result += numberGoodNodes(current_max, root.right)\n",
    "\n",
    "            return result\n",
    "        \n",
    "        return numberGoodNodes(root.val, root)\n"
   ]
  },
  {
   "cell_type": "markdown",
   "metadata": {},
   "source": [
    "Here we take a dfs but keep the max so far and count whenever the actual node is greater than the max so far."
   ]
  },
  {
   "cell_type": "code",
   "execution_count": null,
   "metadata": {},
   "outputs": [],
   "source": [
    "def goodNodes(self, root: TreeNode) -> int:\n",
    "    stack = [(root, float('-inf'))]\n",
    "    cnt = 0\n",
    "    while stack:\n",
    "        node, max_prev = stack.pop()\n",
    "        if node:\n",
    "            if node.val >= max_prev:\n",
    "                cnt+=1\n",
    "            if node.left:\n",
    "                stack.append((node.left, max(max_prev, node.val)))\n",
    "            if node.right:\n",
    "                stack.append((node.right, max(max_prev, node.val)))                 \n",
    "    return cnt"
   ]
  }
 ],
 "metadata": {
  "language_info": {
   "name": "python"
  },
  "orig_nbformat": 4
 },
 "nbformat": 4,
 "nbformat_minor": 2
}
