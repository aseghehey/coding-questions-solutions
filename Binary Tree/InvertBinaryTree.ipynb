{
 "cells": [
  {
   "cell_type": "markdown",
   "metadata": {},
   "source": [
    "My initial approach was the following:\n",
    "\n",
    "I do a bfs traversal on the tree and swap the right and left subtrees\n",
    "\n",
    "It passes all test cases, however, it's bit slow as it came back with 71 as a percentage."
   ]
  },
  {
   "cell_type": "code",
   "execution_count": null,
   "metadata": {},
   "outputs": [],
   "source": [
    "def invertTree(self, root: Optional[TreeNode]) -> Optional[TreeNode]:\n",
    "    if not root:\n",
    "        return None\n",
    "    \n",
    "    queue =[]\n",
    "    queue.append(root)\n",
    "    \n",
    "    while queue:\n",
    "        node = queue.pop(0)\n",
    "        # Here I am swapping the left and right subtrees\n",
    "        temp = node.right\n",
    "        node.right = node.left\n",
    "        node.left = temp\n",
    "            \n",
    "        if node.left:\n",
    "            queue.append(node.left)\n",
    "        if node.right:\n",
    "            queue.append(node.right)\n",
    "\n",
    "    return root"
   ]
  },
  {
   "cell_type": "markdown",
   "metadata": {},
   "source": [
    "The optimal solution is not too too different from mine.\n",
    "\n",
    "The only difference is that it is done recursively. If you understood mine, you can understand this one as well."
   ]
  },
  {
   "cell_type": "code",
   "execution_count": null,
   "metadata": {},
   "outputs": [],
   "source": [
    "def invertTree(self, root: Optional[TreeNode]) -> Optional[TreeNode]:\n",
    "    if root:\n",
    "        temp = root.right\n",
    "        root.right = root.left\n",
    "        root.left = temp\n",
    "\n",
    "        self.invertTree(root.left)\n",
    "        self.invertTree(root.right)\n",
    "    return root"
   ]
  }
 ],
 "metadata": {
  "language_info": {
   "name": "python"
  },
  "orig_nbformat": 4
 },
 "nbformat": 4,
 "nbformat_minor": 2
}
