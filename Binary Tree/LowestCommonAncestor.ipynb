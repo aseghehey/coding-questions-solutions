{
 "cells": [
  {
   "cell_type": "markdown",
   "metadata": {},
   "source": [
    "The trick is to realize that the correct value is in the split between p and q.\n",
    "\n",
    "They're either both children of a node or they are connected by an ancestor which is the split."
   ]
  },
  {
   "cell_type": "code",
   "execution_count": null,
   "metadata": {},
   "outputs": [],
   "source": [
    "def lowestCommonAncestor(self, root: 'TreeNode', p: 'TreeNode', q: 'TreeNode') -> 'TreeNode':\n",
    "    cur = root\n",
    "    while cur:\n",
    "        if p.val > cur.val and q.val > cur.val: # if both values are greater than the cur val, then we check the right subtree\n",
    "            cur = cur.right\n",
    "        elif p.val < cur.val and q.val < cur.val: # check left subtree\n",
    "            cur = cur.left\n",
    "        else: \n",
    "            return cur # the split "
   ]
  }
 ],
 "metadata": {
  "kernelspec": {
   "display_name": "Python 3.9.7 64-bit",
   "language": "python",
   "name": "python3"
  },
  "language_info": {
   "name": "python",
   "version": "3.9.7"
  },
  "orig_nbformat": 4,
  "vscode": {
   "interpreter": {
    "hash": "aee8b7b246df8f9039afb4144a1f6fd8d2ca17a180786b69acc140d282b71a49"
   }
  }
 },
 "nbformat": 4,
 "nbformat_minor": 2
}
