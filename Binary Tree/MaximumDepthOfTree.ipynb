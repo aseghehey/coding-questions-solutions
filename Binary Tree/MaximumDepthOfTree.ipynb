{
 "cells": [
  {
   "cell_type": "code",
   "execution_count": null,
   "metadata": {},
   "outputs": [],
   "source": [
    "def search(self, nums: List[int], target: int) -> int:\n",
    "    l,r  = 0, len(nums)-1\n",
    "    while l <= r:\n",
    "        mid = (l+r)//2\n",
    "        if nums[mid] == target:\n",
    "            return mid\n",
    "        \n",
    "        if nums[l] <= nums[mid]: # this allows us to see where to set our pointers to next\n",
    "            #left portion\n",
    "            if target > nums[mid] or target < nums[l]: # meaning it's after the middle index\n",
    "                l = mid+1 # checks range [middle+1, right]\n",
    "            else:\n",
    "                r = mid-1 # [left, middle-1]\n",
    "        else:\n",
    "            # right portion\n",
    "            if target < nums[mid] or target > nums[r]: # meaning its before middle index\n",
    "                r = mid-1\n",
    "            else:\n",
    "                l= mid+1\n",
    "                \n",
    "    return -1"
   ]
  }
 ],
 "metadata": {
  "kernelspec": {
   "display_name": "Python 3.9.7 64-bit",
   "language": "python",
   "name": "python3"
  },
  "language_info": {
   "name": "python",
   "version": "3.9.7"
  },
  "orig_nbformat": 4,
  "vscode": {
   "interpreter": {
    "hash": "aee8b7b246df8f9039afb4144a1f6fd8d2ca17a180786b69acc140d282b71a49"
   }
  }
 },
 "nbformat": 4,
 "nbformat_minor": 2
}
