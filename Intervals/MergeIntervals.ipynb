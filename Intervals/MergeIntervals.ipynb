{
 "cells": [
  {
   "cell_type": "markdown",
   "metadata": {},
   "source": [
    "This one is pretty straight forward"
   ]
  },
  {
   "cell_type": "code",
   "execution_count": null,
   "metadata": {},
   "outputs": [],
   "source": [
    "def merge(self, intervals: List[List[int]]) -> List[List[int]]:\n",
    "    \n",
    "    intervals.sort(key = lambda i : i[0])\n",
    "    merge = [intervals[0]]\n",
    "    \n",
    "    for a,b in intervals[1:]:\n",
    "        if a <= merge[-1][1]:\n",
    "            merge[-1][1] = max(b, merge[-1][1])\n",
    "        else:\n",
    "            merge.append([a,b])\n",
    "    return merge"
   ]
  }
 ],
 "metadata": {
  "kernelspec": {
   "display_name": "Python 3.9.7 64-bit",
   "language": "python",
   "name": "python3"
  },
  "language_info": {
   "name": "python",
   "version": "3.9.7"
  },
  "orig_nbformat": 4,
  "vscode": {
   "interpreter": {
    "hash": "aee8b7b246df8f9039afb4144a1f6fd8d2ca17a180786b69acc140d282b71a49"
   }
  }
 },
 "nbformat": 4,
 "nbformat_minor": 2
}
