{
 "cells": [
  {
   "cell_type": "markdown",
   "metadata": {},
   "source": [
    "This one is pretty straight forward"
   ]
  },
  {
   "cell_type": "code",
   "execution_count": null,
   "metadata": {},
   "outputs": [],
   "source": [
    "def merge(self, intervals: List[List[int]]) -> List[List[int]]:\n",
    "    \n",
    "    intervals.sort(key = lambda i : i[0])\n",
    "    merge = [intervals[0]]\n",
    "    \n",
    "    for a,b in intervals[1:]:\n",
    "        if a <= merge[-1][1]:\n",
    "            merge[-1][1] = max(b, merge[-1][1])\n",
    "        else:\n",
    "            merge.append([a,b])\n",
    "    return merge"
   ]
  }
 ],
 "metadata": {
  "language_info": {
   "name": "python"
  },
  "orig_nbformat": 4
 },
 "nbformat": 4,
 "nbformat_minor": 2
}
