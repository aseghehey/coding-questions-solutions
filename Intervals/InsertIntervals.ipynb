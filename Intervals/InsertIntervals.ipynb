{
 "cells": [
  {
   "cell_type": "markdown",
   "metadata": {},
   "source": [
    "Efficient solution:"
   ]
  },
  {
   "cell_type": "code",
   "execution_count": null,
   "metadata": {},
   "outputs": [],
   "source": [
    "def insert(self, intervals: List[List[int]], newInterval: List[int]) -> List[List[int]]:\n",
    "    res = []\n",
    "    for i in range(len(intervals)):\n",
    "        if newInterval[1] < intervals[i][0]:\n",
    "            res.append(newInterval)\n",
    "            return res + intervals[i:]\n",
    "        elif newInterval[0] > intervals[i][1]:\n",
    "            res.append(intervals[i])\n",
    "        else:\n",
    "            newInterval = [min(newInterval[0], intervals[i][0]), max(newInterval[1], intervals[i][1])]\n",
    "            \n",
    "    res.append(newInterval)\n",
    "    return res"
   ]
  },
  {
   "cell_type": "markdown",
   "metadata": {},
   "source": [
    "Very brute force but passes all the test cases. Very slow.\n",
    "Runs in O(nlogn)"
   ]
  },
  {
   "cell_type": "code",
   "execution_count": null,
   "metadata": {},
   "outputs": [],
   "source": [
    "def insert(self, intervals: List[List[int]], newInterval: List[int]) -> List[List[int]]:\n",
    "    if not intervals:\n",
    "        return [newInterval]\n",
    "    \n",
    "    notgood = []\n",
    "    res = []\n",
    "    for i in range(len(intervals)):\n",
    "        if intervals[i][1] >= newInterval[0] and intervals[i][0] <= newInterval[1]:\n",
    "            notgood.append(i)\n",
    "    \n",
    "    if not notgood:\n",
    "        intervals.append(newInterval)\n",
    "        intervals.sort(key=lambda x: x[0])\n",
    "        res = intervals\n",
    "        return res\n",
    "    \n",
    "    start = min(newInterval[0], intervals[notgood[0]][0])\n",
    "    end = max(newInterval[1], intervals[notgood[-1]][1])\n",
    "    \n",
    "    newInterval = [start, end]\n",
    "    \n",
    "    for i in range(len(intervals)):\n",
    "        if i == notgood[0]:\n",
    "            res.append(newInterval)\n",
    "        if i in set(notgood): continue\n",
    "        res.append(intervals[i])\n",
    "    \n",
    "    return res"
   ]
  }
 ],
 "metadata": {
  "language_info": {
   "name": "python"
  },
  "orig_nbformat": 4
 },
 "nbformat": 4,
 "nbformat_minor": 2
}
