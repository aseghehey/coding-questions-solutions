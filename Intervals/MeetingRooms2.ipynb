{
 "cells": [
  {
   "cell_type": "markdown",
   "metadata": {},
   "source": [
    "Basically count all the meetings that go on at the same time. Return the maximum number of meetings that occur at the same time."
   ]
  },
  {
   "cell_type": "code",
   "execution_count": null,
   "metadata": {},
   "outputs": [],
   "source": [
    "def minMeetingRooms(self, intervals: List[List[int]]) -> int:\n",
    "    start, end = [], []\n",
    "    for s, e in intervals:\n",
    "        start.append(s)\n",
    "        end.append(e)\n",
    "    \n",
    "    start.sort()\n",
    "    end.sort()\n",
    "    \n",
    "    s, e = 0, 0\n",
    "    res, count = 0, 0\n",
    "    \n",
    "    while s < len(intervals):\n",
    "        if start[s] < end[e]:\n",
    "            count += 1\n",
    "            s += 1  \n",
    "        else:\n",
    "            count -= 1\n",
    "            e += 1\n",
    "        res = max(res, count)\n",
    "            \n",
    "    return res"
   ]
  }
 ],
 "metadata": {
  "language_info": {
   "name": "python"
  },
  "orig_nbformat": 4
 },
 "nbformat": 4,
 "nbformat_minor": 2
}
