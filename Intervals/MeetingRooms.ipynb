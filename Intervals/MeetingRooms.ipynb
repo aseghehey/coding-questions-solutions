{
 "cells": [
  {
   "cell_type": "markdown",
   "metadata": {},
   "source": [
    "The trick to this question is basically realizing that for it to be valid, the bounds of the next meeting cannot be within the bounds of another meeting.\n",
    "\n",
    "If we sort it, we have the meetings in chronological order.\n",
    "\n",
    "Checking if the lower bound of the next meeting is smaller than the upper bound of the previous meeting allows us to determine that the output is false"
   ]
  },
  {
   "cell_type": "code",
   "execution_count": null,
   "metadata": {},
   "outputs": [],
   "source": [
    "def canAttendMeetings(self, intervals: List[List[int]]) -> bool:\n",
    "    intervals.sort()\n",
    "    for i in range(1, len(intervals)):\n",
    "        if intervals[i][0] < intervals[i-1][1]:\n",
    "            return False\n",
    "    return True"
   ]
  }
 ],
 "metadata": {
  "kernelspec": {
   "display_name": "Python 3.9.7 64-bit",
   "language": "python",
   "name": "python3"
  },
  "language_info": {
   "name": "python",
   "version": "3.9.7"
  },
  "orig_nbformat": 4,
  "vscode": {
   "interpreter": {
    "hash": "aee8b7b246df8f9039afb4144a1f6fd8d2ca17a180786b69acc140d282b71a49"
   }
  }
 },
 "nbformat": 4,
 "nbformat_minor": 2
}
