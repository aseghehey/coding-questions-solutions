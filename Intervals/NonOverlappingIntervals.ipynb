{
 "cells": [
  {
   "cell_type": "markdown",
   "metadata": {},
   "source": [
    "This answer is very intuitive, we keep the prev all the time and compare the values start indexes of each interval against it. If there's a overlap, then we increase the count, if there isn't then we simply overwrite the prev variable with the most recent end bound."
   ]
  },
  {
   "cell_type": "code",
   "execution_count": null,
   "metadata": {},
   "outputs": [],
   "source": [
    "def eraseOverlapIntervals(self, intervals: List[List[int]]) -> int:\n",
    "    intervals.sort(key=lambda i:i[0])\n",
    "    prev_bound = intervals[0][1]\n",
    "    delcnt = 0\n",
    "    for i in range(1, len(intervals)):\n",
    "        if intervals[i][0] < prev_bound:\n",
    "            delcnt+=1\n",
    "            prev_bound = min(prev_bound, intervals[i][1])\n",
    "        else:\n",
    "            prev_bound = intervals[i][1]\n",
    "            \n",
    "    return delcnt"
   ]
  }
 ],
 "metadata": {
  "language_info": {
   "name": "python"
  },
  "orig_nbformat": 4
 },
 "nbformat": 4,
 "nbformat_minor": 2
}
