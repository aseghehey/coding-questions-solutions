{
 "cells": [
  {
   "cell_type": "code",
   "execution_count": null,
   "metadata": {},
   "outputs": [],
   "source": [
    "from collections import defaultdict\n",
    "class TrieNode:\n",
    "    def __init__(self):\n",
    "        self.children = {}\n",
    "        self.end = False\n",
    "        \n",
    "class WordDictionary:\n",
    "    def __init__(self):\n",
    "        self.root = TrieNode()\n",
    "        self.searchWord = defaultdict(list)\n",
    "\n",
    "    def addWord(self, word: str) -> None:\n",
    "        cur = self.root\n",
    "        for c in word:\n",
    "            if c not in cur.children:\n",
    "                cur.children[c] = TrieNode()\n",
    "            cur = cur.children[c]\n",
    "        cur.end = True\n",
    "        \n",
    "        self.searchWord[len(word)].append(word)\n",
    "\n",
    "    def search(self, word: str) -> bool:\n",
    "        lookup = ''\n",
    "        if '.' in word:\n",
    "            for w in self.searchWord[len(word)]:\n",
    "                for i,c in enumerate(word):\n",
    "                    if c == '.':\n",
    "                        lookup += w[i]\n",
    "                    else:\n",
    "                        lookup += c   \n",
    "                if self.searchTrie(lookup): return True\n",
    "                lookup = ''\n",
    "            return False\n",
    "                        \n",
    "        return self.searchTrie(word)\n",
    "        \n",
    "    \n",
    "    def searchTrie(self, word):\n",
    "        cur = self.root  \n",
    "        for c in word:\n",
    "            if c not in cur.children: return False\n",
    "            cur = cur.children[c]\n",
    "        return cur.end"
   ]
  }
 ],
 "metadata": {
  "language_info": {
   "name": "python"
  },
  "orig_nbformat": 4
 },
 "nbformat": 4,
 "nbformat_minor": 2
}
