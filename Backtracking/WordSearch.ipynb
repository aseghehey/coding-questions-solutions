{
 "cells": [
  {
   "cell_type": "code",
   "execution_count": null,
   "metadata": {},
   "outputs": [],
   "source": [
    "def exist(self, board: List[List[str]], word: str) -> bool:\n",
    "    ROWS, COLS = len(board), len(board[0])\n",
    "    path = set()\n",
    "    \n",
    "    def dfs(r, c, i):\n",
    "        if i == len(word):\n",
    "            return True\n",
    "        if (r < 0 or c < 0 or r >= ROWS or c >= COLS or word[i] != board[r][c] or (r,c) in path):\n",
    "            return False\n",
    "        \n",
    "        path.add((r,c))\n",
    "        res = (dfs(r + 1, c, i + 1) or dfs(r - 1, c, i + 1) or dfs(r, c + 1, i + 1) or dfs(r, c - 1, i + 1))\n",
    "        path.remove((r,c))\n",
    "        return res\n",
    "    \n",
    "    for r in range(ROWS):\n",
    "        for c in range(COLS):\n",
    "            if dfs(r, c, 0):\n",
    "                return True\n",
    "    return False\n",
    "    "
   ]
  }
 ],
 "metadata": {
  "language_info": {
   "name": "python"
  },
  "orig_nbformat": 4
 },
 "nbformat": 4,
 "nbformat_minor": 2
}
