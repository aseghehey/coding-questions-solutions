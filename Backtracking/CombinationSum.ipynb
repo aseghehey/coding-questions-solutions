{
 "cells": [
  {
   "cell_type": "code",
   "execution_count": null,
   "metadata": {},
   "outputs": [],
   "source": [
    "def combinationSum(self, candidates: List[int], target: int) -> List[List[int]]:\n",
    "    res = []\n",
    "    \n",
    "    def dfs(i, cur, total):\n",
    "        # base cases:\n",
    "        if total == target:\n",
    "            res.append(cur.copy())\n",
    "            return\n",
    "        if i >= len(candidates) or total > target: # if i is out of bounds or our current combination is too high\n",
    "            return\n",
    "        \n",
    "        cur.append(candidates[i])\n",
    "        dfs(i, cur, total + candidates[i]) # decision 1, combination with candidate at i\n",
    "        cur.pop() # to avoid using candidate at i\n",
    "        dfs(i + 1, cur, total) # decision 2, combination without candidate at i. Only from index i + 1\n",
    "    \n",
    "    dfs(0, [], 0)\n",
    "    return res"
   ]
  }
 ],
 "metadata": {
  "language_info": {
   "name": "python"
  },
  "orig_nbformat": 4
 },
 "nbformat": 4,
 "nbformat_minor": 2
}
