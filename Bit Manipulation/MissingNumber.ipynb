{
 "cells": [
  {
   "cell_type": "markdown",
   "metadata": {},
   "source": [
    "Neetcode's solution which allows code to be O(1) in memory and O(n) in runtime"
   ]
  },
  {
   "cell_type": "code",
   "execution_count": null,
   "metadata": {},
   "outputs": [],
   "source": [
    "def missingNumber(self, nums: List[int]) -> int:\n",
    "    res = len(nums)\n",
    "    for i in range(len(nums)):\n",
    "        res += (i-nums[i])\n",
    "        \n",
    "    return res"
   ]
  },
  {
   "cell_type": "markdown",
   "metadata": {},
   "source": [
    "Runs but has memory O(n)"
   ]
  },
  {
   "cell_type": "code",
   "execution_count": null,
   "metadata": {},
   "outputs": [],
   "source": [
    "def missingNumber(self, nums: List[int]) -> int:\n",
    "    numrange = set(num for num in nums)\n",
    "    for n in range(len(nums)+1):\n",
    "        if n not in numrange:\n",
    "            return n"
   ]
  }
 ],
 "metadata": {
  "language_info": {
   "name": "python"
  },
  "orig_nbformat": 4
 },
 "nbformat": 4,
 "nbformat_minor": 2
}
