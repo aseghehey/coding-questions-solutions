{
 "cells": [
  {
   "cell_type": "markdown",
   "metadata": {},
   "source": [
    "Optimal solution\n",
    "To me, that is just beautiful:\n",
    "I didn't come up with this, but whoever did, you are a genius.\n",
    "\n",
    "This approach combines dynamic programming with bit manipulation."
   ]
  },
  {
   "cell_type": "code",
   "execution_count": null,
   "metadata": {},
   "outputs": [],
   "source": [
    "def countBits(self, n: int) -> List[int]:\n",
    "    dp = [0]*(n+1) \n",
    "    offset = 1\n",
    "    for i in range(1,n+1):\n",
    "        if offset*2==i:\n",
    "            offset = i # offset becomes the last seen significant bit\n",
    "        dp[i] = 1 + dp[i-offset] \n",
    "    return dp"
   ]
  },
  {
   "cell_type": "markdown",
   "metadata": {},
   "source": [
    "This is very slow, however, it's the first solution I came up with.\n",
    "Made helper function to count the \"one\" bits. Made array of the desired size. Converted each index to binary, then did a count\n",
    "on the 1s and passed it to ith slot of the res array."
   ]
  },
  {
   "cell_type": "code",
   "execution_count": null,
   "metadata": {},
   "outputs": [],
   "source": [
    "def countBits(self, n: int) -> List[int]:\n",
    "    def count_ones(b):\n",
    "        counter = 0\n",
    "        while b:\n",
    "            counter += b%2\n",
    "            b = b>>1\n",
    "        return counter\n",
    "\n",
    "    res = [0]*(n+1)\n",
    "    for i in range(len(res)):\n",
    "        x = format(i,\"b\")\n",
    "        count = count_ones(int(x,2))\n",
    "        res[i] = count\n",
    "    return res"
   ]
  }
 ],
 "metadata": {
  "kernelspec": {
   "display_name": "Python 3.9.7 64-bit",
   "language": "python",
   "name": "python3"
  },
  "language_info": {
   "name": "python",
   "version": "3.9.7"
  },
  "orig_nbformat": 4,
  "vscode": {
   "interpreter": {
    "hash": "aee8b7b246df8f9039afb4144a1f6fd8d2ca17a180786b69acc140d282b71a49"
   }
  }
 },
 "nbformat": 4,
 "nbformat_minor": 2
}
