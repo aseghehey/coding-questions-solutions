{
 "cells": [
  {
   "cell_type": "markdown",
   "metadata": {},
   "source": [
    "So basically, we get each number, AND it with 1 and then we OR it with the current value at its new position\n",
    "\n",
    "Runs in O(1)"
   ]
  },
  {
   "cell_type": "code",
   "execution_count": null,
   "metadata": {},
   "outputs": [],
   "source": [
    "def reverseBits(self, n: int) -> int:\n",
    "    res = 0\n",
    "    for i in range(32):\n",
    "        bit = (n>>i) & 1 # shift to the right and get bit\n",
    "        res = res | (bit << (31-i)) # or it and shift it all the way to the left\n",
    "    return res"
   ]
  }
 ],
 "metadata": {
  "language_info": {
   "name": "python"
  },
  "orig_nbformat": 4
 },
 "nbformat": 4,
 "nbformat_minor": 2
}
