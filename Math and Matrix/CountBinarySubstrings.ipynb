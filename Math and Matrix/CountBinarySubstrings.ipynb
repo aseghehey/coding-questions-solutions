{
 "cells": [
  {
   "cell_type": "markdown",
   "metadata": {},
   "source": [
    "Not my particular solution nor my initial approach.\n",
    "I attempted to do a linear scan but gave up as my linear scan approach was far too complicated. This approach is intuitive and I prefer it in comparison to the linear one.\n",
    "\n",
    "suppose we have \"00011\", we can only make 2 groups. \"0011\" and \"01\". There's a pattern.\n",
    "The smallest size of contiguous bits is the number of substrings for the whole combination of two bits.\n"
   ]
  },
  {
   "cell_type": "code",
   "execution_count": null,
   "metadata": {},
   "outputs": [],
   "source": [
    "def countBinarySubstrings(self, s: str) -> int:\n",
    "    groups = [1] # initially the group of contiguous bits will be set to 1, since we are sure to always have at least one bit.\n",
    "    for i in range(1, len(s)): # traversing the array to find the other bits\n",
    "        if s[i-1] != s[i]: # if the bits differ, like 01 or 10, then we start another group, since the bits arent contiguous anymore.\n",
    "            groups.append(1) # initialize a group of size 1\n",
    "        else: # if they do not differ, like 00 or 11, then we proceed to increment it.\n",
    "            groups[-1] += 1 # increment group\n",
    "    ans = 0 # initially it is 0. Since we do not know of any groups before we traverse the group array.\n",
    "    for i in range(1, len(groups)):\n",
    "        ans += min(groups[i-1], groups[i]) # we increment ans by the minimum size of two given bits.\n",
    "    return ans"
   ]
  }
 ],
 "metadata": {
  "kernelspec": {
   "display_name": "Python 3.9.7 64-bit",
   "language": "python",
   "name": "python3"
  },
  "language_info": {
   "name": "python",
   "version": "3.9.7"
  },
  "orig_nbformat": 4,
  "vscode": {
   "interpreter": {
    "hash": "aee8b7b246df8f9039afb4144a1f6fd8d2ca17a180786b69acc140d282b71a49"
   }
  }
 },
 "nbformat": 4,
 "nbformat_minor": 2
}
