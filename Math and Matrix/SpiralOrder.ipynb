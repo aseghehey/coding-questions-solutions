{
 "cells": [
  {
   "cell_type": "code",
   "execution_count": null,
   "metadata": {},
   "outputs": [],
   "source": [
    "def spiralOrder(self, matrix: List[List[int]]) -> List[int]:\n",
    "    res = []\n",
    "    left, right = 0, len(matrix[0])\n",
    "    top, bot = 0, len(matrix)\n",
    "\n",
    "    # require right and bot to be out of bounds\n",
    "    \n",
    "    while left < right and top < bot:\n",
    "        for i in range(left, right): # adding everything in top row from left to right\n",
    "            res.append(matrix[top][i])\n",
    "        top += 1\n",
    "        \n",
    "        for i in range(top, bot): # adding everything in right most row from top to bottom\n",
    "            res.append(matrix[i][right - 1])\n",
    "        right -= 1\n",
    "        \n",
    "        if not (left < right and top < bot): # required check\n",
    "            break\n",
    "        \n",
    "        for i in range(right - 1, left - 1, -1): # adding from right to left in bottom row\n",
    "            res.append(matrix[bot - 1][i])\n",
    "        bot -= 1\n",
    "        \n",
    "        for i in range(bot - 1, top - 1, -1): # adding from bottom to top in leftmost\n",
    "            res.append(matrix[i][left])\n",
    "        left += 1\n",
    "        \n",
    "    return res"
   ]
  }
 ],
 "metadata": {
  "language_info": {
   "name": "python"
  },
  "orig_nbformat": 4
 },
 "nbformat": 4,
 "nbformat_minor": 2
}
