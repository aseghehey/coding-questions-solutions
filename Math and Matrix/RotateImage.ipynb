{
 "cells": [
  {
   "cell_type": "markdown",
   "metadata": {},
   "source": [
    "This may not be the most optimal solution. It's what I came up with. It runs in O(n^2) but the memory could be reduced to O(1)\n",
    "\n",
    "The idea behind it is the following:\n",
    "- Traverse the matrix and add all the values at the same idx to a map\n",
    "- Traverse the map, override the vals at idx \"key\" of the matrix with the reverse of the list of values (as the reverse of it, is the rotation)"
   ]
  },
  {
   "cell_type": "code",
   "execution_count": null,
   "metadata": {},
   "outputs": [],
   "source": [
    "def rotate(self, matrix: List[List[int]]) -> None:\n",
    "    \"\"\"\n",
    "    Do not return anything, modify matrix in-place instead.\n",
    "    \"\"\"\n",
    "    rotateMap = defaultdict(list)\n",
    "    for i in range(len(matrix)):\n",
    "        for j in range(len(matrix[i])):\n",
    "            rotateMap[j].append(matrix[i][j])\n",
    "    for key, val in rotateMap.items():\n",
    "        matrix[key] = val[::-1]"
   ]
  },
  {
   "cell_type": "markdown",
   "metadata": {},
   "source": [
    "**Optimal solution**"
   ]
  },
  {
   "cell_type": "code",
   "execution_count": null,
   "metadata": {},
   "outputs": [],
   "source": [
    "def rotate(self, matrix: List[List[int]]) -> None:\n",
    "    \"\"\"\n",
    "    Do not return anything, modify matrix in-place instead.\n",
    "    \"\"\"\n",
    "    l,r = 0, len(matrix)-1\n",
    "    while l < r:\n",
    "        for i in range(r-l):\n",
    "            top, bot = l,r\n",
    "            topleft = matrix[top][l+i]\n",
    "            matrix[top][l + i] = matrix[bot - i][l]\n",
    "            matrix[bot - i][l] = matrix[bot][r - i]\n",
    "            matrix[bot][r - i] = matrix[top + i][r]\n",
    "            matrix[top + i][r] = topleft\n",
    "        l+=1\n",
    "        r-=1"
   ]
  }
 ],
 "metadata": {
  "language_info": {
   "name": "python"
  },
  "orig_nbformat": 4
 },
 "nbformat": 4,
 "nbformat_minor": 2
}
