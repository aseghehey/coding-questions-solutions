{
 "cells": [
  {
   "cell_type": "markdown",
   "metadata": {},
   "source": [
    "Sliding window and compare the map of string 1 with the map counter of each window that we go through\n",
    "\n",
    "Immediately return True when we find it, return False at the end"
   ]
  },
  {
   "cell_type": "code",
   "execution_count": null,
   "metadata": {},
   "outputs": [],
   "source": [
    "def checkInclusion(self, s1: str, s2: str) -> bool:\n",
    "    \n",
    "    if len(s1) > len(s2): \n",
    "        return False\n",
    "\n",
    "    s1_counter = Counter(s1)\n",
    "    l, r = 0, len(s1)\n",
    "    \n",
    "    while r <= len(s2):\n",
    "        if Counter(s2[l:r]) == s1_counter:\n",
    "            return True\n",
    "        l += 1\n",
    "        r += 1\n",
    "    return False\n",
    "    "
   ]
  }
 ],
 "metadata": {
  "language_info": {
   "name": "python"
  },
  "orig_nbformat": 4
 },
 "nbformat": 4,
 "nbformat_minor": 2
}
