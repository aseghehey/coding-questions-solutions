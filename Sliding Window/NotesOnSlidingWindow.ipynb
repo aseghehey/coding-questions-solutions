{
 "cells": [
  {
   "cell_type": "markdown",
   "metadata": {},
   "source": [
    "The sliding window technique is most useful for sub array problems."
   ]
  },
  {
   "cell_type": "markdown",
   "metadata": {},
   "source": [
    "Suppose you want to find the largest sum for a subarray of size k. \n",
    "\n",
    "\n",
    "Computing the sum of every value and its next (k-1) elements is the brute force way to do it. However, it would run in O(k*n) which is not what we want.\n",
    "\n",
    "What we want is to be able to make it run in linear time - O(N).\n",
    "Therefore we take the following approach:"
   ]
  },
  {
   "cell_type": "code",
   "execution_count": 5,
   "metadata": {},
   "outputs": [
    {
     "name": "stdout",
     "output_type": "stream",
     "text": [
      "35\n"
     ]
    }
   ],
   "source": [
    "def LargestSubArraySum(arr, k):\n",
    "    n = len(arr)-1\n",
    "    res = sum(arr[:k])\n",
    "\n",
    "    for i in range(n - k + 1):\n",
    "        res = max(res, res - arr[i] + arr[i+k])\n",
    "    return res\n",
    "\n",
    "def main():\n",
    "    arr = [1,2,4,5,6,7,8,9,0]\n",
    "    print(LargestSubArraySum(arr,5))\n",
    "main()"
   ]
  },
  {
   "cell_type": "markdown",
   "metadata": {},
   "source": [
    "That is an example of a fixed size sliding window.\n",
    "\n",
    "Now, lets do one for a dynamic sliding window. Meaning we do not get a \"k\" that tells us what the bounds should be.\n",
    "\n",
    "Look at this example where we try to find the sequence in which its sum is equal to the target value."
   ]
  },
  {
   "cell_type": "code",
   "execution_count": 19,
   "metadata": {},
   "outputs": [
    {
     "name": "stdout",
     "output_type": "stream",
     "text": [
      "[[4, 5, 6], 15]\n"
     ]
    }
   ],
   "source": [
    "def DynamicSlidingWindow(arr, target):\n",
    "    left = 0\n",
    "    for right in range(len(arr)):\n",
    "        while sum(arr[left:right]) > target:\n",
    "            left+=1\n",
    "        if sum(arr[left:right]) == target:\n",
    "            return [arr[left:right], sum(arr[left:right])]\n",
    "\n",
    "def main():\n",
    "    arr = [1,2,4,5,6,7,8,9]\n",
    "    print(DynamicSlidingWindow(arr, 15))\n",
    "main()"
   ]
  },
  {
   "cell_type": "markdown",
   "metadata": {},
   "source": [
    "A variation of the above question could be to find the length of the shortest sequence in which its sum equals the target."
   ]
  },
  {
   "cell_type": "code",
   "execution_count": 20,
   "metadata": {},
   "outputs": [
    {
     "name": "stdout",
     "output_type": "stream",
     "text": [
      "(2, [7, 8])\n"
     ]
    }
   ],
   "source": [
    "def DynamicSlidingWindow(arr, target):\n",
    "    left = 0\n",
    "    minlength = float('inf')\n",
    "    toret = []\n",
    "    for right in range(len(arr)):\n",
    "        while sum(arr[left:right]) > target:\n",
    "            left+=1\n",
    "        if sum(arr[left:right]) == target:\n",
    "            minlength = min(minlength, len(arr[left:right]))\n",
    "            if len(arr[left:right]) == minlength:\n",
    "                toret = arr[left:right]\n",
    "\n",
    "    return minlength, toret\n",
    "\n",
    "def main():\n",
    "    arr = [1,2,4,5,6,7,8,9]\n",
    "    print(DynamicSlidingWindow(arr, 15))\n",
    "main()"
   ]
  },
  {
   "cell_type": "markdown",
   "metadata": {},
   "source": [
    "Another example of a dynamically sized sliding window is Leetcode's #3 question: Longest Substring Without Repeating Characters\n"
   ]
  }
 ],
 "metadata": {
  "kernelspec": {
   "display_name": "Python 3.9.7 64-bit",
   "language": "python",
   "name": "python3"
  },
  "language_info": {
   "codemirror_mode": {
    "name": "ipython",
    "version": 3
   },
   "file_extension": ".py",
   "mimetype": "text/x-python",
   "name": "python",
   "nbconvert_exporter": "python",
   "pygments_lexer": "ipython3",
   "version": "3.9.7"
  },
  "orig_nbformat": 4,
  "vscode": {
   "interpreter": {
    "hash": "aee8b7b246df8f9039afb4144a1f6fd8d2ca17a180786b69acc140d282b71a49"
   }
  }
 },
 "nbformat": 4,
 "nbformat_minor": 2
}
