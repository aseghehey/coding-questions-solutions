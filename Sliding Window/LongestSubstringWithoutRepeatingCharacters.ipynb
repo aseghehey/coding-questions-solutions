{
 "cells": [
  {
   "cell_type": "markdown",
   "metadata": {},
   "source": [
    "Dynamic sliding window"
   ]
  },
  {
   "cell_type": "code",
   "execution_count": null,
   "metadata": {},
   "outputs": [],
   "source": [
    "def lengthOfLongestSubstring(self, s: str) -> int:\n",
    "    seen = set() # to determine duplicates\n",
    "    left = 0 # for substring\n",
    "    ans = 0 # the result\n",
    "    \n",
    "    for right in range(len(s)): # right pointer\n",
    "        while s[right] in seen: \n",
    "            seen.remove(s[left])\n",
    "            left+=1 # increment left pointer to decrease length of substring\n",
    "        seen.add(s[right]) # add the characters not in the set already\n",
    "        ans = max(ans, right - left + 1) # right - left +1 indicates length of substring\n",
    "        \n",
    "    return ans"
   ]
  },
  {
   "cell_type": "code",
   "execution_count": null,
   "metadata": {},
   "outputs": [],
   "source": [
    "def lengthOfLongestSubstring(self, s: str) -> int:\n",
    "    longest_length = 0\n",
    "    left, right = 0, 0\n",
    "    \n",
    "    while right < len(s):\n",
    "        while s[right] in s[left : right]:\n",
    "            left += 1\n",
    "        longest_length = max(right - left + 1, longest_length)            \n",
    "        right += 1\n",
    "    \n",
    "    return longest_length"
   ]
  }
 ],
 "metadata": {
  "kernelspec": {
   "display_name": "Python 3.9.7 64-bit",
   "language": "python",
   "name": "python3"
  },
  "language_info": {
   "name": "python",
   "version": "3.9.7"
  },
  "orig_nbformat": 4,
  "vscode": {
   "interpreter": {
    "hash": "aee8b7b246df8f9039afb4144a1f6fd8d2ca17a180786b69acc140d282b71a49"
   }
  }
 },
 "nbformat": 4,
 "nbformat_minor": 2
}
