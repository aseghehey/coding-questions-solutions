{
 "cells": [
  {
   "cell_type": "code",
   "execution_count": null,
   "metadata": {},
   "outputs": [],
   "source": [
    "def characterReplacement(self, s: str, k: int) -> int:\n",
    "    count = {}\n",
    "    maxf = 0 # computes max frequency seen so far\n",
    "    l, res = 0, 0\n",
    "    \n",
    "    for r in range(len(s)):\n",
    "        count[s[r]] = 1 + count.get(s[r], 0) # giving it a frequency\n",
    "        maxf = max(maxf, count[s[r]]) \n",
    "        \n",
    "        while (r - l + 1) - maxf > k: # while its invalid, shift our window\n",
    "            count[s[l]] -= 1 # decrement char that we passed\n",
    "            l += 1     # shift window\n",
    "        res = max(res, r - l + 1) # update it to the max seen so far\n",
    "    return res"
   ]
  },
  {
   "cell_type": "markdown",
   "metadata": {},
   "source": [
    "Brute force:\n",
    "\n",
    "Sliding window approach where you have get the length of the window - the "
   ]
  },
  {
   "cell_type": "code",
   "execution_count": null,
   "metadata": {},
   "outputs": [],
   "source": [
    "def characterReplacement(self, s: str, k: int) -> int:\n",
    "    count = 0\n",
    "    dic = {}\n",
    "    l, res = 0, 0\n",
    "    \n",
    "    for r in range(len(s)):\n",
    "        dic = Counter(s[l : r + 1])            \n",
    "        while len(s[l : r + 1]) - max(dic.values()) > k:\n",
    "            l += 1\n",
    "            dic = Counter(s[l : r + 1])\n",
    "        res = max(res, len(s[l : r + 1]))\n",
    "    return res"
   ]
  }
 ],
 "metadata": {
  "language_info": {
   "name": "python"
  },
  "orig_nbformat": 4
 },
 "nbformat": 4,
 "nbformat_minor": 2
}
