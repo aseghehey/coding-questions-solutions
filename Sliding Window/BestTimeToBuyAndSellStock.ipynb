{
 "cells": [
  {
   "cell_type": "markdown",
   "metadata": {},
   "source": [
    "# Brute force approach"
   ]
  },
  {
   "cell_type": "code",
   "execution_count": null,
   "metadata": {},
   "outputs": [],
   "source": [
    "def maxProfit(self, prices: List[int]) -> int:\n",
    "    profit = 0\n",
    "    for i in range(len(prices)):\n",
    "        for j in range (i, len(prices)): # starts at i, since you cannot back in days\n",
    "              profit = max(profit, prices[j]-prices[i])\n",
    "    return profit"
   ]
  },
  {
   "cell_type": "markdown",
   "metadata": {},
   "source": [
    "# Optimized solutions:"
   ]
  },
  {
   "cell_type": "code",
   "execution_count": null,
   "metadata": {},
   "outputs": [],
   "source": [
    "def maxProfit(self, prices: List[int]) -> int:\n",
    "    l,r = 0,1\n",
    "    profit = 0\n",
    "    while r < len(prices):\n",
    "        if prices[r] > prices[l]:\n",
    "            profit = max(profit, prices[r]-prices[l])\n",
    "        else:\n",
    "            l=r\n",
    "        r+=1\n",
    "    return profit\n",
    "\n",
    "# Other solution that works just as fine\n",
    "def maxProfit(prices):\n",
    "    max_profit, min_price = 0, float('inf')\n",
    "    for price in prices:\n",
    "        min_price = min(min_price, price)\n",
    "        profit = price - min_price\n",
    "        max_profit = max(max_profit, profit)\n",
    "    return max_profit"
   ]
  }
 ],
 "metadata": {
  "kernelspec": {
   "display_name": "Python 3.9.7 64-bit",
   "language": "python",
   "name": "python3"
  },
  "language_info": {
   "name": "python",
   "version": "3.9.7"
  },
  "orig_nbformat": 4,
  "vscode": {
   "interpreter": {
    "hash": "aee8b7b246df8f9039afb4144a1f6fd8d2ca17a180786b69acc140d282b71a49"
   }
  }
 },
 "nbformat": 4,
 "nbformat_minor": 2
}
