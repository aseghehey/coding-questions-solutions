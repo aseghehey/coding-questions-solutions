{
 "cells": [
  {
   "cell_type": "markdown",
   "metadata": {},
   "source": [
    "I make a dictionary that stores the count of how many times a number appears. \n",
    "\n",
    "Since we iterating from left to right, we are sure that the i < j condition is validated.\n",
    "\n",
    "I checked the Hint and got the formula n(n-1)//2 to get the number of good pairs, with n = # of times that number appears"
   ]
  },
  {
   "cell_type": "code",
   "execution_count": null,
   "metadata": {},
   "outputs": [],
   "source": [
    "def numIdenticalPairs(self, nums: List[int]) -> int:\n",
    "        d = {}\n",
    "        for n in nums:\n",
    "            if n in d:\n",
    "                d[n]+=1\n",
    "            else:\n",
    "                d[n]=1\n",
    "        ans = 0    \n",
    "        for k,v in d.items():\n",
    "            if v > 1: # to make sure we only get repeated numbers\n",
    "                ans+=((v*(v-1))//2)\n",
    "        return ans"
   ]
  }
 ],
 "metadata": {
  "kernelspec": {
   "display_name": "Python 3.9.7 64-bit",
   "language": "python",
   "name": "python3"
  },
  "language_info": {
   "name": "python",
   "version": "3.9.7"
  },
  "orig_nbformat": 4,
  "vscode": {
   "interpreter": {
    "hash": "aee8b7b246df8f9039afb4144a1f6fd8d2ca17a180786b69acc140d282b71a49"
   }
  }
 },
 "nbformat": 4,
 "nbformat_minor": 2
}
