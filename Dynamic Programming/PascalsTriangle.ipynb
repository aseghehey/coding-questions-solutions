{
 "cells": [
  {
   "cell_type": "code",
   "execution_count": null,
   "metadata": {},
   "outputs": [],
   "source": [
    "def generate(self, numRows: int) -> List[List[int]]:\n",
    "    res, prev = [],[] \n",
    "    for n in range(1,numRows+1): # ignore the '0' slot\n",
    "        lst = [1]*n # each time make an array of size n for the triangle\n",
    "        if len(lst)>2: # past the first 2\n",
    "            for i in range(1, len(lst)-1):  # both the first and last slots are always 1\n",
    "                lst[i] = prev[i-1] + prev[i] \n",
    "        prev = lst \n",
    "        res.append(lst)\n",
    "    return res\n"
   ]
  }
 ],
 "metadata": {
  "kernelspec": {
   "display_name": "Python 3.9.7 64-bit",
   "language": "python",
   "name": "python3"
  },
  "language_info": {
   "name": "python",
   "version": "3.9.7"
  },
  "orig_nbformat": 4,
  "vscode": {
   "interpreter": {
    "hash": "aee8b7b246df8f9039afb4144a1f6fd8d2ca17a180786b69acc140d282b71a49"
   }
  }
 },
 "nbformat": 4,
 "nbformat_minor": 2
}
