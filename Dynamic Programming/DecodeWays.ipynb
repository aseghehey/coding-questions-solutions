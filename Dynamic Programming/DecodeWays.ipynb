{
 "cells": [
  {
   "cell_type": "code",
   "execution_count": null,
   "metadata": {},
   "outputs": [],
   "source": [
    "def numDecodings(self, s: str) -> int:\n",
    "    dp = {len(s): 1}\n",
    "    \n",
    "    def dfs(i):\n",
    "        if i in dp:\n",
    "            return dp[i]\n",
    "        if s[i] == '0': # zero cannot be decoded\n",
    "            return 0\n",
    "        \n",
    "        res = dfs(i + 1) # check next index\n",
    "        if (i + 1 < len(s) and (s[i] == '1' or (s[i] == '2' and s[i + 1] in \"0123456\"))):\n",
    "            res += dfs(i + 2) # check two digit number\n",
    "        dp[i] = res\n",
    "        return res\n",
    "    \n",
    "    return dfs(0)"
   ]
  }
 ],
 "metadata": {
  "kernelspec": {
   "display_name": "Python 3.9.7 64-bit",
   "language": "python",
   "name": "python3"
  },
  "language_info": {
   "name": "python",
   "version": "3.9.7"
  },
  "orig_nbformat": 4,
  "vscode": {
   "interpreter": {
    "hash": "aee8b7b246df8f9039afb4144a1f6fd8d2ca17a180786b69acc140d282b71a49"
   }
  }
 },
 "nbformat": 4,
 "nbformat_minor": 2
}
