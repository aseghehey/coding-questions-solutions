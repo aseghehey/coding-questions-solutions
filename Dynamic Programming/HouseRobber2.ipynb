{
 "cells": [
  {
   "cell_type": "markdown",
   "metadata": {},
   "source": [
    "Reduce the problem to house robber. Where you only have to pass array from [0, n-1] and [1, n] where the problem of the two first and last houses are solved"
   ]
  },
  {
   "cell_type": "code",
   "execution_count": null,
   "metadata": {},
   "outputs": [],
   "source": [
    "def rob(self, nums: List[int]) -> int:\n",
    "    if len(nums) == 1: return nums[-1]\n",
    "    \n",
    "    def houserobber(arr):\n",
    "        rob1, rob2 = 0, 0\n",
    "        for n in arr:\n",
    "            temp = max(n + rob1, rob2)\n",
    "            rob1 = rob2\n",
    "            rob2 = temp\n",
    "        return rob2\n",
    "    \n",
    "#         print(nums[:-1], nums[1:])\n",
    "    r1, r2 = houserobber(nums[:-1]), houserobber(nums[1:])\n",
    "    return max(r1,r2)"
   ]
  }
 ],
 "metadata": {
  "language_info": {
   "name": "python"
  },
  "orig_nbformat": 4
 },
 "nbformat": 4,
 "nbformat_minor": 2
}
