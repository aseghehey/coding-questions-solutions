{
 "cells": [
  {
   "cell_type": "markdown",
   "metadata": {},
   "source": [
    "Brute Force Approach"
   ]
  },
  {
   "cell_type": "code",
   "execution_count": null,
   "metadata": {},
   "outputs": [],
   "source": [
    "def longestPalindrome(self, s: str) -> str:\n",
    "    if len(s) <= 1 or s==s[::-1]:\n",
    "        return s\n",
    "    res = {}\n",
    "    word = ''\n",
    "    for i in range(len(s)):\n",
    "        for j in range(i, len(s)+1):\n",
    "            word = s[i:j]\n",
    "            print(word)\n",
    "            if word == word[::-1]:\n",
    "                res[len(word)] = word\n",
    "    print(res)\n",
    "    return res[max(res.keys())]"
   ]
  }
 ],
 "metadata": {
  "kernelspec": {
   "display_name": "Python 3.9.7 64-bit",
   "language": "python",
   "name": "python3"
  },
  "language_info": {
   "name": "python",
   "version": "3.9.7"
  },
  "orig_nbformat": 4,
  "vscode": {
   "interpreter": {
    "hash": "aee8b7b246df8f9039afb4144a1f6fd8d2ca17a180786b69acc140d282b71a49"
   }
  }
 },
 "nbformat": 4,
 "nbformat_minor": 2
}
