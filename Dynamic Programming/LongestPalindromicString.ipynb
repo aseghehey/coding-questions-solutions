{
 "cells": [
  {
   "cell_type": "markdown",
   "metadata": {},
   "source": [
    "Brute Force Approach"
   ]
  },
  {
   "cell_type": "code",
   "execution_count": null,
   "metadata": {},
   "outputs": [],
   "source": [
    "def longestPalindrome(self, s: str) -> str:\n",
    "    if len(s) <= 1 or s==s[::-1]:\n",
    "        return s\n",
    "    res = {}\n",
    "    word = ''\n",
    "    for i in range(len(s)):\n",
    "        for j in range(i, len(s)+1):\n",
    "            word = s[i:j]\n",
    "            print(word)\n",
    "            if word == word[::-1]:\n",
    "                res[len(word)] = word\n",
    "    print(res)\n",
    "    return res[max(res.keys())]"
   ]
  }
 ],
 "metadata": {
  "language_info": {
   "name": "python"
  },
  "orig_nbformat": 4
 },
 "nbformat": 4,
 "nbformat_minor": 2
}
