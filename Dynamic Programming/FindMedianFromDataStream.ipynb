{
 "cells": [
  {
   "cell_type": "code",
   "execution_count": null,
   "metadata": {},
   "outputs": [],
   "source": [
    "import heapq\n",
    "class MedianFinder:\n",
    "\n",
    "    def __init__(self):\n",
    "        self.small, self.large = [], []\n",
    "\n",
    "    def addNum(self, num: int) -> None:\n",
    "        heapq.heappush(self.small, -num)\n",
    "        \n",
    "        # maintain the \"sorted\" order\n",
    "        if (self.small and self.large and (-self.small[0]) > self.large[0]):\n",
    "            val = -heapq.heappop(self.small)\n",
    "            heapq.heappush(self.large, val)\n",
    "\n",
    "        # lenghts cannot differ by more than 1\n",
    "        if len(self.small) > 1 + len(self.large):\n",
    "            val = -heapq.heappop(self.small)\n",
    "            heapq.heappush(self.large, val)\n",
    "\n",
    "        if len(self.large) > 1 + len(self.small):\n",
    "            val = -heapq.heappop(self.large)\n",
    "            heapq.heappush(self.small, val)\n",
    "\n",
    "    def findMedian(self) -> float:\n",
    "        # odd\n",
    "        if len(self.small) > len(self.large):\n",
    "            return -self.small[0]\n",
    "        if len(self.large) > len(self.small):\n",
    "            return self.large[0]\n",
    "\n",
    "        # even\n",
    "        return ((-self.small[0]) + self.large[0]) / 2\n",
    "        "
   ]
  },
  {
   "cell_type": "markdown",
   "metadata": {},
   "source": [
    "Passes 16/21 cases, TLE"
   ]
  },
  {
   "cell_type": "code",
   "execution_count": null,
   "metadata": {},
   "outputs": [],
   "source": [
    "import heapq\n",
    "class MedianFinder:\n",
    "    def __init__(self):\n",
    "        self.heap = []\n",
    "        heapq.heapify(self.heap)\n",
    "\n",
    "    def addNum(self, num: int) -> None:\n",
    "        heapq.heappush(self.heap, num)\n",
    "\n",
    "    def findMedian(self) -> float:\n",
    "        tmparr = self.heap.copy()\n",
    "        ret = self.heap[0]\n",
    "        \n",
    "        if len(self.heap) % 2 == 0: # even\n",
    "            i = 0\n",
    "            length = round((len(tmparr))/2)\n",
    "            while i < length: \n",
    "                ret = heapq.heappop(self.heap)\n",
    "                i += 1\n",
    "            ret = ((ret + heapq.heappop(self.heap)) / 2)\n",
    "            \n",
    "        else: # odd \n",
    "            length = round((len(tmparr) - 1)/2)\n",
    "            i = 0\n",
    "            while i <= length:\n",
    "                ret = heapq.heappop(self.heap)\n",
    "                i += 1\n",
    "                \n",
    "        self.heap = tmparr.copy()\n",
    "        return ret\n",
    "        \n",
    "\n",
    "# Your MedianFinder object will be instantiated and called as such:\n",
    "# obj = MedianFinder()\n",
    "# obj.addNum(num)\n",
    "# param_2 = obj.findMedian()"
   ]
  }
 ],
 "metadata": {
  "language_info": {
   "name": "python"
  },
  "orig_nbformat": 4
 },
 "nbformat": 4,
 "nbformat_minor": 2
}
