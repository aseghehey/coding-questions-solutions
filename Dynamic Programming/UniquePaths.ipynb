{
 "cells": [
  {
   "cell_type": "markdown",
   "metadata": {},
   "source": [
    "Make the above row all 1s, and the left most column all 1s\n",
    "\n",
    "Then go from the position [1,1] all the way until [-1,-1], and set each position to the sum of the position above and the position to its left.\n",
    "\n",
    "Return dp[-1][-1] which contains the result"
   ]
  },
  {
   "cell_type": "code",
   "execution_count": null,
   "metadata": {},
   "outputs": [],
   "source": [
    "def uniquePaths(self, m: int, n: int) -> int:\n",
    "    dp = [[0 for _ in range(m)] for _ in range(n)]\n",
    "    \n",
    "    for i in range(n):\n",
    "        dp[i][0] = 1\n",
    "    \n",
    "    for i in range(m):\n",
    "        dp[0][i] = 1\n",
    "        \n",
    "    for i in range(1, n):\n",
    "        for j in range(1, m):\n",
    "            dp[i][j] = dp[i - 1][j] + dp[i][j - 1]\n",
    "    \n",
    "    return dp[-1][-1]"
   ]
  },
  {
   "cell_type": "markdown",
   "metadata": {},
   "source": [
    "Calculate row by row."
   ]
  },
  {
   "cell_type": "code",
   "execution_count": null,
   "metadata": {},
   "outputs": [],
   "source": [
    "def uniquePaths(self, m: int, n: int) -> int:\n",
    "    row = [1] * n\n",
    "    \n",
    "    for i in range(m - 1): # all the rows except the last one\n",
    "        newRow = [1] * n # row above\n",
    "        for j in range(n - 2, -1, -1): # every column except the last one\n",
    "            newRow[j] = newRow[j + 1] + row[j] # addition of R and D\n",
    "        row = newRow\n",
    "    \n",
    "    return row[0]"
   ]
  },
  {
   "cell_type": "markdown",
   "metadata": {},
   "source": [
    "Working solution that passes 37/63 but fails TLE. \n",
    "\n",
    "Essentially computing and counting how many times we are able to get to the end."
   ]
  },
  {
   "cell_type": "code",
   "execution_count": null,
   "metadata": {},
   "outputs": [],
   "source": [
    "def uniquePaths(self, m: int, n: int) -> int:\n",
    "    dp = [0]\n",
    "    def dfs(r, c):        \n",
    "        if (r >= m or r < 0 or c >= n or c < 0):\n",
    "            return False\n",
    "        if r == (m - 1) and c == (n - 1):\n",
    "            dp[0] += 1\n",
    "            return True\n",
    "        \n",
    "        dfs(r + 1, c)\n",
    "        dfs(r, c + 1)\n",
    "        \n",
    "    dfs(0,0)\n",
    "    return dp[0]"
   ]
  }
 ],
 "metadata": {
  "language_info": {
   "name": "python"
  },
  "orig_nbformat": 4
 },
 "nbformat": 4,
 "nbformat_minor": 2
}
