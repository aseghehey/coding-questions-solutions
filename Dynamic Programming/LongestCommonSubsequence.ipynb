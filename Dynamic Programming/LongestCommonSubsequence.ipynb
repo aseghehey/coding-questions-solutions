{
 "cells": [
  {
   "cell_type": "markdown",
   "metadata": {},
   "source": [
    "Calculate each and make a sum for all the diagonals."
   ]
  },
  {
   "cell_type": "code",
   "execution_count": null,
   "metadata": {},
   "outputs": [],
   "source": [
    "def longestCommonSubsequence(self, text1: str, text2: str) -> int:\n",
    "    \n",
    "    # Make a grid of 0's with len(text2) + 1 columns \n",
    "    # and len(text1) + 1 rows.\n",
    "    dp_grid = [[0] * (len(text2) + 1) for _ in range(len(text1) + 1)]\n",
    "    \n",
    "    # Iterate up each column, starting from the last one.\n",
    "    for col in reversed(range(len(text2))):\n",
    "        for row in reversed(range(len(text1))):\n",
    "            # If the corresponding characters for this cell are the same...\n",
    "            if text2[col] == text1[row]:\n",
    "                dp_grid[row][col] = 1 + dp_grid[row + 1][col + 1]\n",
    "            # Otherwise they must be different...\n",
    "            else:\n",
    "                dp_grid[row][col] = max(dp_grid[row + 1][col], dp_grid[row][col + 1])\n",
    "    \n",
    "    # The original problem's answer is in dp_grid[0][0]. Return it.\n",
    "    return dp_grid[0][0]"
   ]
  },
  {
   "cell_type": "markdown",
   "metadata": {},
   "source": [
    "Brute force:\n",
    "Passes 14/45\n",
    "\n",
    "Fails \n",
    "\n",
    "\"ezupkr\"\n",
    "\"ubmrapg\""
   ]
  },
  {
   "cell_type": "code",
   "execution_count": null,
   "metadata": {},
   "outputs": [],
   "source": [
    "def longestCommonSubsequence(self, text1: str, text2: str) -> int:\n",
    "    txtset = set(text1)\n",
    "    combSet = set()\n",
    "    for c in text2:\n",
    "        if c in txtset:\n",
    "            combSet.add(c)\n",
    "            \n",
    "    cmp1, cmp2 = '', ''\n",
    "    \n",
    "    for ch in text1:\n",
    "        if ch in combSet:\n",
    "            cmp1 += ch\n",
    "    \n",
    "    for ch in text2:\n",
    "        if ch in combSet:\n",
    "            cmp2 += ch\n",
    "    print(cmp1, cmp2)\n",
    "    if cmp1 == cmp2: \n",
    "        return len(cmp1)\n",
    "    \n",
    "    length = min(len(cmp1), len(cmp2))\n",
    "    word1 = cmp1 if len(cmp1) == length else cmp2\n",
    "    word2 = cmp1 if word1 == cmp2 else cmp2\n",
    "    res = 0\n",
    "    \n",
    "    for i in range(length):\n",
    "        wrd = word1[i:]\n",
    "        for j in range(len(word2)):\n",
    "            if word2[j: j + len(wrd)] == wrd:\n",
    "                res = max(res, len(wrd))\n",
    "    return res"
   ]
  }
 ],
 "metadata": {
  "language_info": {
   "name": "python"
  },
  "orig_nbformat": 4
 },
 "nbformat": 4,
 "nbformat_minor": 2
}
