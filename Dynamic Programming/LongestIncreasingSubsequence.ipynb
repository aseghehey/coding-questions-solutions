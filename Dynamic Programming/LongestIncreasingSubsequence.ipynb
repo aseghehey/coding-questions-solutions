{
 "cells": [
  {
   "cell_type": "markdown",
   "metadata": {},
   "source": [
    "Neetcode:"
   ]
  },
  {
   "cell_type": "code",
   "execution_count": null,
   "metadata": {},
   "outputs": [],
   "source": [
    "def lengthOfLIS(self, nums: List[int]) -> int:\n",
    "    dp = [1] * len(nums)\n",
    "    for i in range(len(nums)-1, -1, -1):\n",
    "        for j in range(i + 1, len(nums)):\n",
    "            if nums[i] < nums[j]:\n",
    "                dp[i] = max(dp[i], 1 + dp[j])\n",
    "    return max(dp)"
   ]
  },
  {
   "cell_type": "markdown",
   "metadata": {},
   "source": [
    "Optimal"
   ]
  },
  {
   "cell_type": "code",
   "execution_count": null,
   "metadata": {},
   "outputs": [],
   "source": [
    "def lengthOfLIS(self, nums: List[int]) -> int:\n",
    "    sub = [nums[0]]\n",
    "    \n",
    "    for num in nums[1:]:\n",
    "        if num > sub[-1]:\n",
    "            sub.append(num)\n",
    "        else:\n",
    "            # Find the first element in sub that is greater than or equal to num\n",
    "            i = 0\n",
    "            while num > sub[i]:\n",
    "                i += 1\n",
    "            sub[i] = num\n",
    "    return len(sub)"
   ]
  },
  {
   "cell_type": "markdown",
   "metadata": {},
   "source": [
    "Brute force... fails lots of test cases"
   ]
  },
  {
   "cell_type": "code",
   "execution_count": null,
   "metadata": {},
   "outputs": [],
   "source": [
    "def lengthOfLIS(self, nums: List[int]) -> int:\n",
    "    res = [nums[0]]\n",
    "    \n",
    "    for i in range(1, len(nums)):\n",
    "        if nums[i] > res[-1]:\n",
    "            res.append(nums[i])\n",
    "            continue\n",
    "        while (res and nums[i] < res[-1] and nums[i] not in res):\n",
    "            res.pop()\n",
    "        if nums[i] not in res:\n",
    "            res.append(nums[i])\n",
    "            \n",
    "    return len(res)"
   ]
  }
 ],
 "metadata": {
  "language_info": {
   "name": "python"
  },
  "orig_nbformat": 4
 },
 "nbformat": 4,
 "nbformat_minor": 2
}
