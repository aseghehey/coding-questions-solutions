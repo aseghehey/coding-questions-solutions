{
 "cells": [
  {
   "cell_type": "markdown",
   "metadata": {},
   "source": []
  },
  {
   "cell_type": "code",
   "execution_count": null,
   "metadata": {},
   "outputs": [],
   "source": [
    "def maxProduct(self, nums: List[int]) -> int:\n",
    "    res = max(nums)\n",
    "    curMax, curMin = 1, 1\n",
    "    \n",
    "    for n in nums:\n",
    "        if n == 0:\n",
    "            curMax, curMin = 1, 1\n",
    "            continue\n",
    "        tmp = curMax * n\n",
    "        curMax = max(curMax * n, curMin * n, n)\n",
    "        curMin = min(tmp, curMin * n, n)\n",
    "        res = max(curMax, res)\n",
    "    return res"
   ]
  },
  {
   "cell_type": "markdown",
   "metadata": {},
   "source": [
    "Works for 55/180 cases. Fails at [0, 2]"
   ]
  },
  {
   "cell_type": "code",
   "execution_count": null,
   "metadata": {},
   "outputs": [],
   "source": [
    "def maxProduct(self, nums: List[int]) -> int:\n",
    "    def product(arr, l, r):\n",
    "        prod = 1\n",
    "        for i in range(l, r + 1):\n",
    "            prod *= arr[i]\n",
    "        return prod\n",
    "    \n",
    "    res = nums[0]\n",
    "    l, r = 0, 1\n",
    "    \n",
    "    while l <= r and r < len(nums):\n",
    "        print(l, r)\n",
    "        res = max(res, product(nums, l, r))\n",
    "        while product(nums, l, r) <= 0:\n",
    "            l += 1\n",
    "        # res = max(res, product(nums, l, r))\n",
    "        l+=1\n",
    "        r+=1\n",
    "        \n",
    "    return res"
   ]
  }
 ],
 "metadata": {
  "language_info": {
   "name": "python"
  },
  "orig_nbformat": 4
 },
 "nbformat": 4,
 "nbformat_minor": 2
}
