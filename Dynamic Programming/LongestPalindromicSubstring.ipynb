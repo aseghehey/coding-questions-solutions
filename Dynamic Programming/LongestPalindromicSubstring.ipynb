{
 "cells": [
  {
   "cell_type": "markdown",
   "metadata": {},
   "source": [
    "The intuition is to go through each character and basically check the left and right pointer from the character outward, until we find a palindrome with a length higher than what we currently store. We need to check for both even and odd palindromes (edge cases)"
   ]
  },
  {
   "cell_type": "code",
   "execution_count": null,
   "metadata": {},
   "outputs": [],
   "source": [
    "def longestPalindrome(self, s: str) -> str:\n",
    "    res = \"\"\n",
    "    resLength = 0\n",
    "    \n",
    "    for i in range(len(s)):\n",
    "        # odd\n",
    "        l, r = i, i\n",
    "        while l >= 0 and r < len(s) and s[r] == s[l]:\n",
    "            if (r - l + 1) > resLength:\n",
    "                res = s[l : r + 1]\n",
    "                resLength = r - l + 1\n",
    "            l -= 1\n",
    "            r += 1\n",
    "        \n",
    "        # even\n",
    "        l, r = i, i + 1\n",
    "        while l >= 0 and r < len(s) and s[l] == s[r]:\n",
    "            if (r - l + 1) > resLength:\n",
    "                res = s[l : r + 1]\n",
    "                resLength = r - l + 1\n",
    "            l -= 1\n",
    "            r += 1\n",
    "            \n",
    "    return res"
   ]
  },
  {
   "cell_type": "markdown",
   "metadata": {},
   "source": [
    "Brute force:"
   ]
  },
  {
   "cell_type": "code",
   "execution_count": null,
   "metadata": {},
   "outputs": [],
   "source": [
    "def longestPalindrome(self, s: str) -> str:\n",
    "    def palindrome(wrd):\n",
    "        return wrd == wrd[::-1]\n",
    "    \n",
    "    res = []\n",
    "    for i in range(len(s)):\n",
    "        for j in range(len(s)):\n",
    "            if palindrome(s[i : j + 1]):\n",
    "                res.append(s[i : j + 1])\n",
    "                \n",
    "    ans = ''            \n",
    "    for word in res:\n",
    "        if len(word) > len(ans):\n",
    "            ans = word\n",
    "    return ans"
   ]
  }
 ],
 "metadata": {
  "language_info": {
   "name": "python"
  },
  "orig_nbformat": 4
 },
 "nbformat": 4,
 "nbformat_minor": 2
}
