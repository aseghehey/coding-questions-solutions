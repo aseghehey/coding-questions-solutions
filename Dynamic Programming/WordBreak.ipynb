{
 "cells": [
  {
   "cell_type": "markdown",
   "metadata": {},
   "source": [
    "Bottom up dynamic programming\n",
    "\n",
    "Where we check the characters and the words in s, of length correspondent to the words in the dictionary, and then we update the dp array\n",
    "\n",
    "If it's valid, dp[0] must be True, emphasizing that we have proved every word to be correct"
   ]
  },
  {
   "cell_type": "code",
   "execution_count": null,
   "metadata": {},
   "outputs": [],
   "source": [
    "def wordBreak(self, s: str, wordDict: List[str]) -> bool:\n",
    "    dp = [False] * (len(s) + 1)\n",
    "    dp[len(s)] = True\n",
    "    \n",
    "    for i in range(len(s) - 1, -1, -1):\n",
    "        for w in wordDict:\n",
    "            if (i + len(w)) <= len(s) and s[i : i + len(w)] == w:\n",
    "                dp[i] = dp[i + len(w)]\n",
    "            if dp[i]:\n",
    "                break\n",
    "    return dp[0]"
   ]
  },
  {
   "cell_type": "markdown",
   "metadata": {},
   "source": [
    "Brute force. Fails some test cases but works for 35/40. \n",
    "\n",
    "Fails at:\n",
    "\n",
    "\"aaaaaaa\"\n",
    "[\"aaaa\",\"aaa\"]"
   ]
  },
  {
   "cell_type": "code",
   "execution_count": null,
   "metadata": {},
   "outputs": [],
   "source": [
    "def wordBreak(self, s: str, wordDict: List[str]) -> bool:\n",
    "    l = 0\n",
    "    strng = ''\n",
    "    wrdSet = set(wordDict)\n",
    "    \n",
    "    for r in range(len(s)):\n",
    "        \n",
    "        if s[l : r + 1] in wrdSet:\n",
    "            strng += s[l: r + 1]\n",
    "            l = r + 1\n",
    "            r += 1\n",
    "\n",
    "    return strng == s"
   ]
  }
 ],
 "metadata": {
  "kernelspec": {
   "display_name": "Python 3.9.7 64-bit",
   "language": "python",
   "name": "python3"
  },
  "language_info": {
   "name": "python",
   "version": "3.9.7"
  },
  "orig_nbformat": 4,
  "vscode": {
   "interpreter": {
    "hash": "aee8b7b246df8f9039afb4144a1f6fd8d2ca17a180786b69acc140d282b71a49"
   }
  }
 },
 "nbformat": 4,
 "nbformat_minor": 2
}
