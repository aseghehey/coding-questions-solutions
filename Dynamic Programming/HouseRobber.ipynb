{
 "cells": [
  {
   "cell_type": "markdown",
   "metadata": {},
   "source": [
    "rob1 will always be 2 houses down, while rob2 will be the most money we've made so far\n",
    "\n",
    "temp will pick max between how much money rob1 + current val would be vs the current max value weve come across so far"
   ]
  },
  {
   "cell_type": "code",
   "execution_count": null,
   "metadata": {},
   "outputs": [],
   "source": [
    "def rob(self, nums: List[int]) -> int:\n",
    "    rob1, rob2 = 0,0\n",
    "    for n in nums:\n",
    "        temp = max(n+rob1, rob2)\n",
    "        rob1 = rob2\n",
    "        rob2 = temp\n",
    "    return rob2"
   ]
  }
 ],
 "metadata": {
  "language_info": {
   "name": "python"
  },
  "orig_nbformat": 4
 },
 "nbformat": 4,
 "nbformat_minor": 2
}
