{
 "cells": [
  {
   "cell_type": "markdown",
   "metadata": {},
   "source": [
    "rob1 will always be 2 houses down, while rob2 will be the most money we've made so far\n",
    "\n",
    "temp will pick max between how much money rob1 + current val would be vs the current max value weve come across so far"
   ]
  },
  {
   "cell_type": "code",
   "execution_count": null,
   "metadata": {},
   "outputs": [],
   "source": [
    "def rob(self, nums: List[int]) -> int:\n",
    "    rob1, rob2 = 0,0\n",
    "    for n in nums:\n",
    "        temp = max(n+rob1, rob2)\n",
    "        rob1 = rob2\n",
    "        rob2 = temp\n",
    "    return rob2"
   ]
  }
 ],
 "metadata": {
  "kernelspec": {
   "display_name": "Python 3.9.7 64-bit",
   "language": "python",
   "name": "python3"
  },
  "language_info": {
   "name": "python",
   "version": "3.9.7"
  },
  "orig_nbformat": 4,
  "vscode": {
   "interpreter": {
    "hash": "aee8b7b246df8f9039afb4144a1f6fd8d2ca17a180786b69acc140d282b71a49"
   }
  }
 },
 "nbformat": 4,
 "nbformat_minor": 2
}
