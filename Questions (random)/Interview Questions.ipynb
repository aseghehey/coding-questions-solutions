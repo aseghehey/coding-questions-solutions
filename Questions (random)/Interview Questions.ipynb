{
 "cells": [
  {
   "cell_type": "markdown",
   "metadata": {},
   "source": [
    "Convert a given input string such that all matching braces are replaced with zeros, all unmatched opening braces are replaced with a positive one and all unmatched closing braces are replaced with a negative one. All other characters from the input should just remain in place in the output.\n",
    "\n",
    "Example(s):\n",
    "- \"()\" -> \"00\"\n",
    "- \")(\" -> \"-11\"\n",
    "- \"((a)\" -> \"10a0\""
   ]
  },
  {
   "cell_type": "code",
   "execution_count": 4,
   "metadata": {},
   "outputs": [
    {
     "name": "stdout",
     "output_type": "stream",
     "text": [
      "11001000010010a0\n",
      "10a0\n",
      "-11\n"
     ]
    }
   ],
   "source": [
    "def match_braces(braces_input):\n",
    "    output = ['0'] * len(braces_input)\n",
    "    stack = []\n",
    "\n",
    "    for i in range(len(braces_input)):\n",
    "        if braces_input[i] == '(':\n",
    "            stack.append(i)\n",
    "        elif braces_input[i] == ')':\n",
    "            if not stack:\n",
    "                output[i] = '-1'\n",
    "            else:\n",
    "                stack.pop()\n",
    "        else:\n",
    "            output[i] = braces_input[i]\n",
    "\n",
    "    for index in stack:\n",
    "        output[index] = '1'\n",
    "    \n",
    "    result = ''.join(output)\n",
    "    return result\n",
    "\n",
    "print(match_braces(\"((()(()()(()((a)\"))\n",
    "print(match_braces(\"((a)\"))\n",
    "print(match_braces(\")(\"))"
   ]
  }
 ],
 "metadata": {
  "kernelspec": {
   "display_name": "Python 3.9.7 64-bit",
   "language": "python",
   "name": "python3"
  },
  "language_info": {
   "codemirror_mode": {
    "name": "ipython",
    "version": 3
   },
   "file_extension": ".py",
   "mimetype": "text/x-python",
   "name": "python",
   "nbconvert_exporter": "python",
   "pygments_lexer": "ipython3",
   "version": "3.9.7"
  },
  "orig_nbformat": 4,
  "vscode": {
   "interpreter": {
    "hash": "aee8b7b246df8f9039afb4144a1f6fd8d2ca17a180786b69acc140d282b71a49"
   }
  }
 },
 "nbformat": 4,
 "nbformat_minor": 2
}
