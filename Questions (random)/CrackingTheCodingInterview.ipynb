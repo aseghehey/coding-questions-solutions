{
 "cells": [
  {
   "cell_type": "code",
   "execution_count": 52,
   "metadata": {},
   "outputs": [],
   "source": [
    "from collections import defaultdict, Counter\n",
    "\n",
    "class Node: # singly linked list\n",
    "    def __init__(self, val):\n",
    "        self.val = val\n",
    "        self.next = None\n",
    "\n",
    "class Tree: # binary tree\n",
    "    def __init__(self, value) -> None:\n",
    "        self.val = value\n",
    "        self.left = None\n",
    "        self.right = None"
   ]
  },
  {
   "cell_type": "markdown",
   "metadata": {},
   "source": [
    "1.1 Implement an algorithm to determine if a string has all unique characters. What if you cannot use additional data structures?"
   ]
  },
  {
   "cell_type": "code",
   "execution_count": 8,
   "metadata": {},
   "outputs": [
    {
     "data": {
      "text/plain": [
       "True"
      ]
     },
     "execution_count": 8,
     "metadata": {},
     "output_type": "execute_result"
    }
   ],
   "source": [
    "def isunique(strng):\n",
    "    duplicate = set()\n",
    "    for character in strng:\n",
    "        if character in duplicate:\n",
    "            return False\n",
    "        duplicate.add(character)\n",
    "    return True\n",
    "\n",
    "# no data structures\n",
    "\n",
    "def isunique_noDS(strng):\n",
    "    # brute force\n",
    "    for i in range(len(strng)):\n",
    "        for j in range(i + 1, len(strng)):\n",
    "            if strng[i] == strng[j]:\n",
    "                return False\n",
    "    return True\n",
    "\n",
    "# optimized (no ds)\n",
    "\n",
    "def isunique_noDS_optimal(strng):\n",
    "    strng = sorted(strng)\n",
    "    for i in range(len(strng) - 1):\n",
    "        if strng[i] == strng[i + 1]:\n",
    "            return False\n",
    "    return True"
   ]
  },
  {
   "cell_type": "markdown",
   "metadata": {},
   "source": [
    "1.2 Given two strings, write a method to decide if one is a permutation of the other."
   ]
  },
  {
   "cell_type": "code",
   "execution_count": 15,
   "metadata": {},
   "outputs": [
    {
     "data": {
      "text/plain": [
       "True"
      ]
     },
     "execution_count": 15,
     "metadata": {},
     "output_type": "execute_result"
    }
   ],
   "source": [
    "# ABC, ACB, BCA, CBA, CAB, BAC\n",
    "\n",
    "def checkpermutation(word1, word2):\n",
    "    word1 = sorted(word1)\n",
    "    word2 = sorted(word2)\n",
    "\n",
    "    return word1 == word2\n",
    "\n",
    "def checkpermutation_space(word1, word2): # more space, less time\n",
    "    word1Set = set(word1)\n",
    "    word2Set = set(word2)\n",
    "\n",
    "    return word1Set == word2Set\n",
    "\n",
    "checkpermutation('abc', 'bac')"
   ]
  },
  {
   "cell_type": "markdown",
   "metadata": {},
   "source": [
    "1.3 Write a method to replace all spaces in a string with a \"%20\". You may assume that the string has sufficient space at the end to hold the additional characters, and that you are given the true length of the string.\n",
    "\n",
    "- Input: \"Mr John Smith    \", 13\n",
    "- Output: \"Mr%20John%20Smith\""
   ]
  },
  {
   "cell_type": "code",
   "execution_count": 18,
   "metadata": {},
   "outputs": [
    {
     "data": {
      "text/plain": [
       "'Emanuel%20Aseghh%20hey%20123%20yo'"
      ]
     },
     "execution_count": 18,
     "metadata": {},
     "output_type": "execute_result"
    }
   ],
   "source": [
    "def URLify(word, n):\n",
    "    result = ''\n",
    "    for i in range(n):\n",
    "        if word[i] == ' ':\n",
    "            result += '%20'\n",
    "        else:\n",
    "            result += word[i]\n",
    "    return result\n",
    "\n",
    "URLify('Mr John Smith    ', 13)\n",
    "URLify('Emanuel Aseghh hey 123 yo   ', 25)"
   ]
  },
  {
   "cell_type": "markdown",
   "metadata": {},
   "source": [
    "1.4 Given a string, write a function to check if it is a permutation of a palindrome. A palindrome is a word or phrase that is the same forwards and backwards. A permutations is a rearrangement of letters. The palindrome does not need to be limited to just dictionary words. You can ignore casing and non-letter characters.\n",
    "\n",
    "- Input: Tact Coa\n",
    "- Output: True for \"taco cat\", \"atco cta\", etc."
   ]
  },
  {
   "cell_type": "code",
   "execution_count": 53,
   "metadata": {},
   "outputs": [
    {
     "data": {
      "text/plain": [
       "True"
      ]
     },
     "execution_count": 53,
     "metadata": {},
     "output_type": "execute_result"
    }
   ],
   "source": [
    "word = 'tacocat'\n",
    "word2 = 'atcocta'\n",
    "def palindrome_permutation(s):\n",
    "        s = s.lower().replace(' ', '')\n",
    "        wordSet = set()\n",
    "        for char in s:\n",
    "            if char in wordSet:\n",
    "                wordSet.remove(char)\n",
    "                continue\n",
    "            wordSet.add(char)\n",
    "        return len(wordSet) <= 1\n",
    "\n",
    "def palindrome_permutation2(s):\n",
    "        s = s.lower().replace(' ', '')\n",
    "        frequency = Counter(s)\n",
    "        count = 0\n",
    "        for v in frequency.values():\n",
    "            count += v % 2\n",
    "        return count  <= 1\n",
    "\n",
    "palindrome_permutation2('Tact Coa')"
   ]
  },
  {
   "cell_type": "markdown",
   "metadata": {},
   "source": [
    "1.6 Implement a method to perform basic string compression using the counts of repeated characters. For example, the string aabcccccaaa would become a2b1c5a3. If the \"compressed\" string would not become smaller than the original string, your method should return the original string. You can assume the string has only uppercase and lowercase letters (a-z)."
   ]
  },
  {
   "cell_type": "code",
   "execution_count": 47,
   "metadata": {},
   "outputs": [
    {
     "name": "stdout",
     "output_type": "stream",
     "text": [
      "a2b1c2d1e2a2\n"
     ]
    },
    {
     "data": {
      "text/plain": [
       "'aabccdeeaa'"
      ]
     },
     "execution_count": 47,
     "metadata": {},
     "output_type": "execute_result"
    }
   ],
   "source": [
    "def string_compression(word):\n",
    "    result = ''\n",
    "    i = 0\n",
    "    while i < len(word):\n",
    "        count = 1\n",
    "        for j in range(i + 1, len(word)):\n",
    "            if word[i] != word[j]:\n",
    "                break\n",
    "            count += 1\n",
    "        result += word[i] + str(count)\n",
    "        i += count\n",
    "    print(result)\n",
    "    if len(result) > len(word):\n",
    "        return word\n",
    "    return result\n",
    "\n",
    "string_compression('aabccdeeaa')"
   ]
  },
  {
   "cell_type": "markdown",
   "metadata": {},
   "source": [
    "1.7 **Rotate Matrix**: Given an image represented by an N x N matrix, where each pixel in the image is represented by an integer, write a method to rotate the image by 90 degrees. Can you do this in place?"
   ]
  },
  {
   "cell_type": "code",
   "execution_count": 103,
   "metadata": {},
   "outputs": [
    {
     "name": "stdout",
     "output_type": "stream",
     "text": [
      "0 2\n",
      "1 1\n",
      "2 0\n"
     ]
    },
    {
     "data": {
      "text/plain": [
       "[[7, 4, 1], [8, 5, 2], [9, 6, 3]]"
      ]
     },
     "execution_count": 103,
     "metadata": {},
     "output_type": "execute_result"
    }
   ],
   "source": [
    "matrix = [[1,2,3,4],[5,6,7,8],[9,10,11,12],[13,14,15,16]]\n",
    "matrix = [[1,2,3],[4,5,6],[7,8,9]]\n",
    "\n",
    "def rotateMatrix(matrix):\n",
    "    ROWS, COLS = len(matrix), len(matrix[0])\n",
    "    result = [[0 for _ in range(ROWS)] for _ in range(COLS)]\n",
    "    \n",
    "    # rows become columns\n",
    "    r, c = 0, COLS - 1\n",
    "    # print(r,c)\n",
    "\n",
    "    while r >= 0 and r < ROWS and c >= 0 and c <= COLS:\n",
    "        print(r, c)\n",
    "        for i in range(ROWS):\n",
    "            result[i][c] = matrix[r][i]\n",
    "        c -= 1\n",
    "        r += 1\n",
    "\n",
    "    return result\n",
    "\n",
    "# approach 2\n",
    "\n",
    "def rotateMatrix(matrix):\n",
    "    n = len(matrix)\n",
    "    for i in range(n//2):\n",
    "        last = n - 1 - i\n",
    "        for j in range(i, last):\n",
    "            offset = j - i\n",
    "            top = matrix[i][j] # save\n",
    "\n",
    "            # left -> top\n",
    "            matrix[i][j] = matrix[last - offset][i]\n",
    "            # bottom -> left\n",
    "            matrix[last-offset][i] = matrix[last][last-offset]\n",
    "            # right -> bottom\n",
    "            matrix[last][last-offset] = matrix[i][last]\n",
    "            # top -> right\n",
    "            matrix[i][last] = top\n",
    "\n",
    "rotateMatrix(matrix)"
   ]
  },
  {
   "cell_type": "markdown",
   "metadata": {},
   "source": [
    "1.8 Write an algorithm such that if an element in an M x M matrix is 0, its entire row and column are set to zero."
   ]
  },
  {
   "cell_type": "code",
   "execution_count": 33,
   "metadata": {},
   "outputs": [
    {
     "data": {
      "text/plain": [
       "[[0, 0, 0, 0], [0, 0, 0, 0], [0, 2, 5, 0], [0, 2, 2, 0]]"
      ]
     },
     "execution_count": 33,
     "metadata": {},
     "output_type": "execute_result"
    }
   ],
   "source": [
    "# [1,2,4,0], \n",
    "def zeromatrix(matrix):\n",
    "    m, n = len(matrix), len(matrix[0])\n",
    "    rowSet, columnSet = set(), set()\n",
    "    for r in range(m):\n",
    "        for c in range(n):\n",
    "            if matrix[r][c] == 0:\n",
    "                rowSet.add(r)\n",
    "                columnSet.add(c)\n",
    "    \n",
    "    # print(rowSet, columnSet)\n",
    "    for r in range(m):\n",
    "        for c in range(n):\n",
    "            if r in rowSet:\n",
    "                matrix[r][c] = 0\n",
    "            if c in columnSet:\n",
    "                matrix[r][c] = 0\n",
    "\n",
    "    return matrix\n",
    "mtrx = [[1,2,4,0], [0,1,1,1], [3,2,5,8],[2,2,2,2]]\n",
    "zeromatrix(mtrx)"
   ]
  },
  {
   "cell_type": "markdown",
   "metadata": {},
   "source": [
    "2.1 Write code to remove duplicates from an unsorted linked list"
   ]
  },
  {
   "cell_type": "code",
   "execution_count": null,
   "metadata": {},
   "outputs": [],
   "source": [
    "head = Node(0)\n",
    "cur = head\n",
    "\n",
    "nums = [1,2,4,5,2,1,32,2,2,1,5,0,13,2]\n",
    "\n",
    "for num in nums:\n",
    "    cur.next = Node(num)\n",
    "    cur = cur.next\n",
    "\n",
    "head = head.next\n",
    "\n",
    "# function\n",
    "def remove_duplicates(head):\n",
    "    result = Node(0)\n",
    "    cur = result\n",
    "    duplicates = set()\n",
    "\n",
    "    while head:\n",
    "        if head.val not in duplicates:\n",
    "            cur.next = Node(head.val)\n",
    "            cur = cur.next\n",
    "        duplicates.add(head.val)\n",
    "        head = head.next\n",
    "        \n",
    "    return result.next\n",
    "\n",
    "node = remove_duplicates(head)\n",
    "while node:\n",
    "    print(node.val)\n",
    "    node = node.next"
   ]
  },
  {
   "cell_type": "markdown",
   "metadata": {},
   "source": [
    "2.2 Implement an algorithm to find the kth to last element of a singly linked list"
   ]
  },
  {
   "cell_type": "code",
   "execution_count": null,
   "metadata": {},
   "outputs": [],
   "source": [
    "head = Node(0)\n",
    "cur = head\n",
    "\n",
    "nums = [1,2,4,5,2,1,32,2,2,1,5,0,13,2]\n",
    "\n",
    "for num in nums:\n",
    "    cur.next = Node(num)\n",
    "    cur = cur.next\n",
    "\n",
    "head = head.next\n",
    "\n",
    "def find_kth_to_last_element(head, k):\n",
    "    cur = head\n",
    "    count = 0\n",
    "    while cur:\n",
    "        count += 1\n",
    "        cur = cur.next\n",
    "    \n",
    "    count = count - k\n",
    "    cur = head\n",
    "    while count > 0:\n",
    "        count -= 1\n",
    "        cur = cur.next\n",
    "\n",
    "    return cur\n",
    "\n",
    "print(find_kth_to_last_element(head, 2))"
   ]
  },
  {
   "cell_type": "markdown",
   "metadata": {},
   "source": [
    "2.3 Implement an algorithm to delete a node in the middle (i.e., any node but the first and last node, not necessarily the exact middle) of a singly linked list, given only access to that node.\n",
    "\n",
    "Example:\n",
    "a -> b -> c -> d -> e -> f must turn to a -> b -> d -> e -> f"
   ]
  },
  {
   "cell_type": "code",
   "execution_count": null,
   "metadata": {},
   "outputs": [],
   "source": [
    "head = Node(0)\n",
    "cur = head\n",
    "\n",
    "nums = [1,2,4,5,2,1,32,2,2,1,5,0,13,2]\n",
    "# nums = ['a','b','c','d','e','f']\n",
    "\n",
    "for num in nums:\n",
    "    cur.next = Node(num)\n",
    "    cur = cur.next\n",
    "\n",
    "head = head.next\n",
    "\n",
    "# function\n",
    "\n",
    "def delete_middle_node(head):\n",
    "    prev = None\n",
    "    cur = head\n",
    "    fast = head.next\n",
    "\n",
    "    while fast and fast.next:\n",
    "        prev = cur\n",
    "        cur = cur.next\n",
    "        fast = fast.next.next\n",
    "\n",
    "    prev.next = cur.next\n",
    "    del cur\n",
    "\n",
    "    return head\n",
    "\n",
    "head = delete_middle_node(head)\n",
    "\n",
    "while head:\n",
    "    print(head.val)\n",
    "    head = head.next"
   ]
  },
  {
   "cell_type": "markdown",
   "metadata": {},
   "source": [
    "2.4 Write code to partition a linked list around a value x, such that all nodes less than x come before all nodes greater than or equal to x.\n",
    "\n",
    "- Example:\n",
    "- [1,2,4,5,2,1,32,2,2,1,5,0,13,2]\n",
    "- where x = 5, then output\n",
    "- 1 -> 2 -> 4 -> 2 -> 1 -> 2 -> 2 -> 1 -> 0 -> 2  ->  5 -> 32 -> 5 -> 13"
   ]
  },
  {
   "cell_type": "code",
   "execution_count": null,
   "metadata": {},
   "outputs": [],
   "source": [
    "head = Node(0)\n",
    "cur = head\n",
    "\n",
    "nums = [1,2,4,5,2,1,32,2,2,1,5,0,13,2]\n",
    "# nums = ['a','b','c','d','e','f']\n",
    "\n",
    "for num in nums:\n",
    "    cur.next = Node(num)\n",
    "    cur = cur.next\n",
    "\n",
    "head = head.next\n",
    "\n",
    "#function\n",
    "\n",
    "def partition_linked_list(head, x):\n",
    "    smaller = Node(0)\n",
    "    greater = Node(0)\n",
    "    \n",
    "    small = smaller\n",
    "    great = greater\n",
    "\n",
    "    cur = head\n",
    "\n",
    "    while cur:\n",
    "        if cur.val < x:\n",
    "            small.next = Node(cur.val)\n",
    "            small = small.next\n",
    "        else:\n",
    "            great.next = Node(cur.val)\n",
    "            great = great.next\n",
    "        cur = cur.next\n",
    "\n",
    "    smaller = smaller.next\n",
    "    greater = greater.next\n",
    "    small.next = greater\n",
    "\n",
    "    return smaller\n",
    "    \n",
    "\n",
    "\n",
    "node = partition_linked_list(head, 5)\n",
    "cnt = 0\n",
    "while node:\n",
    "    print(node.val)\n",
    "    cnt += 1\n",
    "    node = node.next\n",
    "\n",
    "# print(len(nums), nums, cnt)"
   ]
  },
  {
   "cell_type": "markdown",
   "metadata": {},
   "source": [
    "2.6 Implement a function to check if a linked list is a palindrome"
   ]
  },
  {
   "cell_type": "code",
   "execution_count": 83,
   "metadata": {},
   "outputs": [
    {
     "data": {
      "text/plain": [
       "False"
      ]
     },
     "execution_count": 83,
     "metadata": {},
     "output_type": "execute_result"
    }
   ],
   "source": [
    "pali_word = 'emanue;'\n",
    "linked = Node(pali_word[0])\n",
    "cur = linked\n",
    "for c in pali_word[1:]:\n",
    "    cur.next = Node(c)\n",
    "    cur = cur.next\n",
    "\n",
    "def Palindrome(node):\n",
    "    frequency = {}\n",
    "    while node:\n",
    "        if node.val in frequency:\n",
    "            frequency[node.val] += 1\n",
    "        else:\n",
    "            frequency[node.val] = 1\n",
    "        node = node.next\n",
    "    \n",
    "    count = 0\n",
    "    for v in frequency.values():\n",
    "        count += v % 2\n",
    "    \n",
    "    return count <= 1\n",
    "\n",
    "def Palindrome_Stack(node):\n",
    "    fast = node\n",
    "    slow = node\n",
    "    stack = []\n",
    "    while fast and fast.next:\n",
    "        stack.append(slow.val)\n",
    "        slow = slow.next\n",
    "        fast = fast.next.next\n",
    "\n",
    "    if fast: # if odd length\n",
    "        slow = slow.next\n",
    "    \n",
    "    while slow:\n",
    "        if slow.val != stack.pop():\n",
    "            return False\n",
    "        slow = slow.next\n",
    "    return True\n",
    "\n",
    "Palindrome_Stack(linked)"
   ]
  },
  {
   "cell_type": "markdown",
   "metadata": {},
   "source": [
    "2.8 Loop detection: Given a linked list which might contain a loop, implement an algorithm that returns the node at the beginning of the loop (if one exists)"
   ]
  },
  {
   "cell_type": "code",
   "execution_count": null,
   "metadata": {},
   "outputs": [],
   "source": [
    "def CycleDetection(head): # works because they wouldnt meet unless there was a cycle, but they do not meet where the cycle happens\n",
    "    if not head:\n",
    "        return False\n",
    "    \n",
    "    slow = head\n",
    "    fast = head.next\n",
    "    \n",
    "    while fast and fast.next:\n",
    "        if slow == fast:\n",
    "            return True\n",
    "        slow = slow.next\n",
    "        fast = fast.next.next\n",
    "        \n",
    "    return False"
   ]
  },
  {
   "cell_type": "code",
   "execution_count": 84,
   "metadata": {},
   "outputs": [],
   "source": [
    "def LoopDetection(head):\n",
    "    slow, fast = head, head\n",
    "\n",
    "    while fast and fast.next:\n",
    "        slow = slow.next\n",
    "        fast = fast.next.next\n",
    "\n",
    "        if slow == fast:\n",
    "            break\n",
    "\n",
    "    if not fast or not fast.next.next: # no loop\n",
    "        return None\n",
    "    \n",
    "    slow = head\n",
    "    while slow != fast:\n",
    "        slow = slow.next\n",
    "        fast = fast.next\n",
    "\n",
    "    return fast # when they meet\n"
   ]
  },
  {
   "cell_type": "markdown",
   "metadata": {},
   "source": [
    "3.2 How would you design a stack which, in addition to push and pop, has a function which returns the minimum element? Push, pop and min should all operate in O(1) time"
   ]
  },
  {
   "cell_type": "code",
   "execution_count": 105,
   "metadata": {},
   "outputs": [
    {
     "name": "stdout",
     "output_type": "stream",
     "text": [
      "-1\n"
     ]
    }
   ],
   "source": [
    "class Stack:\n",
    "    def __init__(self):\n",
    "        self.arr = []\n",
    "    \n",
    "    def push(self, val):\n",
    "        minval = val\n",
    "        if self.arr:\n",
    "            minval = min(self.arr[-1][1], minval)\n",
    "        \n",
    "        self.arr.append([val, minval])\n",
    "    \n",
    "    def peek(self):\n",
    "        return self.arr[-1]\n",
    "    \n",
    "    def pop(self):\n",
    "        self.arr.pop()\n",
    "\n",
    "    def min_item(self):\n",
    "        return self.arr[-1][1]\n",
    "\n",
    "def main():\n",
    "    stack = Stack()\n",
    "    stack.push(1)\n",
    "    stack.push(10)\n",
    "    stack.push(11)\n",
    "    stack.push(0)\n",
    "    stack.push(-1)\n",
    "    stack.push(0)\n",
    "    # print(stack.peek())\n",
    "    # stack.pop()\n",
    "    print(stack.min_item())\n",
    "    # print(stack.peek())\n",
    "\n",
    "main()"
   ]
  },
  {
   "cell_type": "markdown",
   "metadata": {},
   "source": [
    "4.1 Given a directed graph and two nodes (S and E), design an algorithm to find out whether there is a route from S to E."
   ]
  },
  {
   "cell_type": "code",
   "execution_count": null,
   "metadata": {},
   "outputs": [],
   "source": [
    "# bfs\n",
    "\n",
    "graph = {'A': ['B','C'], 'B': ['C'], 'C': ['D','A'], 'D': ['C']}\n",
    "\n",
    "def RouteBetweenNodes(graph, S,E) -> bool: # returns a boolean\n",
    "    queue = [S]\n",
    "    visit = set(S)\n",
    "\n",
    "    while queue:\n",
    "        node = queue.pop(0)\n",
    "        print(node)\n",
    "        if node == E:\n",
    "            return True\n",
    "\n",
    "        for edge in graph[node]:\n",
    "            if edge not in visit:\n",
    "                queue.append(edge)\n",
    "                visit.add(edge)\n",
    "\n",
    "    return False\n",
    "\n",
    "RouteBetweenNodes(graph, 'A','D')\n"
   ]
  },
  {
   "cell_type": "markdown",
   "metadata": {},
   "source": [
    "4.2 Given a sorted (increasing order) array with unique integer elements, write an algorithm to create a binary search tree with minimal height"
   ]
  },
  {
   "cell_type": "code",
   "execution_count": null,
   "metadata": {},
   "outputs": [],
   "source": [
    "arr = [1,2,3,4,5,6,7,8,9,10]\n",
    "\n",
    "def createMinimalBST(arr) -> Tree:\n",
    "    return helper(arr, 0, len(arr) - 1)\n",
    "\n",
    "\n",
    "def helper(arr, start, end):\n",
    "    if end < start:\n",
    "        return None\n",
    "    mid = (start + end) // 2\n",
    "    tree = Tree(arr[mid])\n",
    "    tree.left = helper(arr, start, mid - 1)\n",
    "    tree.right = helper(arr, mid + 1, end)\n",
    "\n",
    "    return tree\n",
    " \n",
    "\n",
    "def bfs(root):\n",
    "    queue = [root]\n",
    "    while queue:\n",
    "        node = queue.pop(0)\n",
    "        if node:\n",
    "            print(node.val)\n",
    "            queue.append(node.left)\n",
    "            queue.append(node.right)\n",
    "\n",
    "bfs(createMinimalBST(arr))"
   ]
  },
  {
   "cell_type": "markdown",
   "metadata": {},
   "source": [
    "4.3 Given a binary tree, design an algorithm which creates a linked list of all the nodes at each depth (e.g., if you have a tree with depth D, you'll have D linked lists)"
   ]
  },
  {
   "cell_type": "code",
   "execution_count": null,
   "metadata": {},
   "outputs": [],
   "source": [
    "# tree already given\n",
    "# bfs\n",
    "# map = depth : linked list at depth\n",
    "\n",
    "root = createMinimalBST([1,2,3,4,5,6,7,8,9,10]) # constructing a tree\n",
    "\n",
    "def ListOfDepths(root):\n",
    "    queue = [(root, 1)]\n",
    "    depthNodes = defaultdict(list)\n",
    "\n",
    "    while queue:\n",
    "        node, depth = queue.pop(0)\n",
    "        if node:\n",
    "            depthNodes[depth].append(node)\n",
    "            queue.append((node.left, depth + 1))\n",
    "            queue.append((node.right, depth + 1))\n",
    "        \n",
    "    depthLinkedLists = defaultdict(Node)\n",
    "    \n",
    "    for depth, node in depthNodes.items():\n",
    "        linked = Node(0)\n",
    "        current = linked\n",
    "        for n in node:\n",
    "            current.next = Node(n.val)\n",
    "            current = current.next\n",
    "        depthLinkedLists[depth] = linked.next\n",
    "    \n",
    "    return depthLinkedLists\n",
    "    \n",
    "\n",
    "test = ListOfDepths(root)\n",
    "\n",
    "# test\n",
    "'''\n",
    "def traversal(linked):\n",
    "    while linked:\n",
    "        print(linked.val)\n",
    "        linked = linked.next\n",
    "\n",
    "for depth in test.keys():\n",
    "    traversal(test[depth])\n",
    "    print()\n",
    "'''\n"
   ]
  },
  {
   "cell_type": "markdown",
   "metadata": {},
   "source": [
    "4.4 Implement a function to check if a binary tree is balanced. For the purposes of this question, a balanced tree is defined to be a tree such that the heights of the two subtrees of any node never differ by more than one."
   ]
  },
  {
   "cell_type": "code",
   "execution_count": 74,
   "metadata": {},
   "outputs": [
    {
     "data": {
      "text/plain": [
       "True"
      ]
     },
     "execution_count": 74,
     "metadata": {},
     "output_type": "execute_result"
    }
   ],
   "source": [
    "def height(root) -> int:\n",
    "    queue = [(root,1)]\n",
    "    height = 1\n",
    "    while queue:\n",
    "        node, depth = queue.pop(0)\n",
    "        if node:\n",
    "            height = max(height, depth)\n",
    "            queue.append((node.left, depth + 1))\n",
    "            queue.append((node.right, depth + 1))\n",
    "    return height\n",
    "\n",
    "\n",
    "def CheckBalanced(root):\n",
    "    heightLeft = height(root.left)\n",
    "    heightRight = height(root.right)\n",
    "\n",
    "    return abs(heightRight - heightLeft) <= 1\n",
    "\n",
    "CheckBalanced(root)\n"
   ]
  }
 ],
 "metadata": {
  "kernelspec": {
   "display_name": "Python 3.9.7 64-bit",
   "language": "python",
   "name": "python3"
  },
  "language_info": {
   "codemirror_mode": {
    "name": "ipython",
    "version": 3
   },
   "file_extension": ".py",
   "mimetype": "text/x-python",
   "name": "python",
   "nbconvert_exporter": "python",
   "pygments_lexer": "ipython3",
   "version": "3.9.7"
  },
  "orig_nbformat": 4,
  "vscode": {
   "interpreter": {
    "hash": "aee8b7b246df8f9039afb4144a1f6fd8d2ca17a180786b69acc140d282b71a49"
   }
  }
 },
 "nbformat": 4,
 "nbformat_minor": 2
}
