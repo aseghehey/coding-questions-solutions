{
 "cells": [
  {
   "cell_type": "markdown",
   "metadata": {},
   "source": [
    "1.1 Implement an algorithm to determine if a string has all unique characters. What if you cannot use additional data structures?"
   ]
  },
  {
   "cell_type": "code",
   "execution_count": 8,
   "metadata": {},
   "outputs": [
    {
     "data": {
      "text/plain": [
       "True"
      ]
     },
     "execution_count": 8,
     "metadata": {},
     "output_type": "execute_result"
    }
   ],
   "source": [
    "def isunique(strng):\n",
    "    duplicate = set()\n",
    "    for character in strng:\n",
    "        if character in duplicate:\n",
    "            return False\n",
    "        duplicate.add(character)\n",
    "    return True\n",
    "\n",
    "# no data structures\n",
    "\n",
    "def isunique_noDS(strng):\n",
    "    # brute force\n",
    "    for i in range(len(strng)):\n",
    "        for j in range(i + 1, len(strng)):\n",
    "            if strng[i] == strng[j]:\n",
    "                return False\n",
    "    return True\n",
    "\n",
    "# optimized (no ds)\n",
    "\n",
    "def isunique_noDS_optimal(strng):\n",
    "    strng = sorted(strng)\n",
    "    for i in range(len(strng) - 1):\n",
    "        if strng[i] == strng[i + 1]:\n",
    "            return False\n",
    "    return True"
   ]
  },
  {
   "cell_type": "markdown",
   "metadata": {},
   "source": [
    "1.2 Given two strings, write a method to decide if one is a permutation of the other."
   ]
  },
  {
   "cell_type": "code",
   "execution_count": 15,
   "metadata": {},
   "outputs": [
    {
     "data": {
      "text/plain": [
       "True"
      ]
     },
     "execution_count": 15,
     "metadata": {},
     "output_type": "execute_result"
    }
   ],
   "source": [
    "# ABC, ACB, BCA, CBA, CAB, BAC\n",
    "\n",
    "def checkpermutation(word1, word2):\n",
    "    word1 = sorted(word1)\n",
    "    word2 = sorted(word2)\n",
    "\n",
    "    return word1 == word2\n",
    "\n",
    "def checkpermutation_space(word1, word2): # more space, less time\n",
    "    word1Set = set(word1)\n",
    "    word2Set = set(word2)\n",
    "\n",
    "    return word1Set == word2Set\n",
    "\n",
    "checkpermutation('abc', 'bac')"
   ]
  },
  {
   "cell_type": "markdown",
   "metadata": {},
   "source": [
    "1.3 Write a method to replace all spaces in a string with a \"%20\". You may assume that the string has sufficient space at the end to hold the additional characters, and that you are given the true length of the string.\n",
    "\n",
    "- Input: \"Mr John Smith    \", 13\n",
    "- Output: \"Mr%20John%20Smith\""
   ]
  },
  {
   "cell_type": "code",
   "execution_count": 18,
   "metadata": {},
   "outputs": [
    {
     "data": {
      "text/plain": [
       "'Emanuel%20Aseghh%20hey%20123%20yo'"
      ]
     },
     "execution_count": 18,
     "metadata": {},
     "output_type": "execute_result"
    }
   ],
   "source": [
    "def URLify(word, n):\n",
    "    result = ''\n",
    "    for i in range(n):\n",
    "        if word[i] == ' ':\n",
    "            result += '%20'\n",
    "        else:\n",
    "            result += word[i]\n",
    "    return result\n",
    "\n",
    "URLify('Mr John Smith    ', 13)\n",
    "URLify('Emanuel Aseghh hey 123 yo   ', 25)"
   ]
  },
  {
   "cell_type": "markdown",
   "metadata": {},
   "source": [
    "1.4 Given a string, write a function to check if it is a permutation of a palindrome. A palindrome is a word or phrase that is the same forwards and backwards. A permutations is a rearrangement of letters. The palindrome does not need to be limited to just dictionary words. You can ignore casing and non-letter characters.\n",
    "\n",
    "- Input: Tact Coa\n",
    "- Output: True for \"taco cat\", \"atco cta\", etc."
   ]
  },
  {
   "cell_type": "code",
   "execution_count": 28,
   "metadata": {},
   "outputs": [
    {
     "data": {
      "text/plain": [
       "True"
      ]
     },
     "execution_count": 28,
     "metadata": {},
     "output_type": "execute_result"
    }
   ],
   "source": [
    "from collections import Counter\n",
    "\n",
    "word = 'tacocat'\n",
    "word2 = 'atcocta'\n",
    "def palindrome_permutation(s):\n",
    "        s = s.lower().replace(' ', '')\n",
    "        wordSet = set()\n",
    "        for char in s:\n",
    "            if char in wordSet:\n",
    "                wordSet.remove(char)\n",
    "                continue\n",
    "            wordSet.add(char)\n",
    "        return len(wordSet) <= 1\n",
    "\n",
    "def palindrome_permutation2(s):\n",
    "        s = s.lower().replace(' ', '')\n",
    "        frequency = Counter(s)\n",
    "        count = 0\n",
    "        for v in frequency.values():\n",
    "            count += v % 2\n",
    "        return count  <= 1\n",
    "\n",
    "palindrome_permutation2('Tact Coa')"
   ]
  },
  {
   "cell_type": "markdown",
   "metadata": {},
   "source": [
    "1.6 Implement a method to perform basic string compression using the counts of repeated characters. For example, the string aabcccccaaa would become a2b1c5a3. If the \"compressed\" string would not become smaller than the original string, your method should return the original string. You can assume the string has only uppercase and lowercase letters (a-z)."
   ]
  },
  {
   "cell_type": "code",
   "execution_count": 47,
   "metadata": {},
   "outputs": [
    {
     "name": "stdout",
     "output_type": "stream",
     "text": [
      "a2b1c2d1e2a2\n"
     ]
    },
    {
     "data": {
      "text/plain": [
       "'aabccdeeaa'"
      ]
     },
     "execution_count": 47,
     "metadata": {},
     "output_type": "execute_result"
    }
   ],
   "source": [
    "def string_compression(word):\n",
    "    result = ''\n",
    "    i = 0\n",
    "    while i < len(word):\n",
    "        count = 1\n",
    "        for j in range(i + 1, len(word)):\n",
    "            if word[i] != word[j]:\n",
    "                break\n",
    "            count += 1\n",
    "        result += word[i] + str(count)\n",
    "        i += count\n",
    "    print(result)\n",
    "    if len(result) > len(word):\n",
    "        return word\n",
    "    return result\n",
    "\n",
    "string_compression('aabccdeeaa')"
   ]
  },
  {
   "cell_type": "markdown",
   "metadata": {},
   "source": [
    "1.7"
   ]
  },
  {
   "cell_type": "code",
   "execution_count": null,
   "metadata": {},
   "outputs": [],
   "source": [
    "pass"
   ]
  },
  {
   "cell_type": "markdown",
   "metadata": {},
   "source": [
    "1.8 Write an algorithm such that if an element in an M x M matrix is 0, its entire row and column are set to zero."
   ]
  },
  {
   "cell_type": "code",
   "execution_count": 33,
   "metadata": {},
   "outputs": [
    {
     "data": {
      "text/plain": [
       "[[0, 0, 0, 0], [0, 0, 0, 0], [0, 2, 5, 0], [0, 2, 2, 0]]"
      ]
     },
     "execution_count": 33,
     "metadata": {},
     "output_type": "execute_result"
    }
   ],
   "source": [
    "# [1,2,4,0], \n",
    "def zeromatrix(matrix):\n",
    "    m, n = len(matrix), len(matrix[0])\n",
    "    rowSet, columnSet = set(), set()\n",
    "    for r in range(m):\n",
    "        for c in range(n):\n",
    "            if matrix[r][c] == 0:\n",
    "                rowSet.add(r)\n",
    "                columnSet.add(c)\n",
    "    \n",
    "    # print(rowSet, columnSet)\n",
    "    for r in range(m):\n",
    "        for c in range(n):\n",
    "            if r in rowSet:\n",
    "                matrix[r][c] = 0\n",
    "            if c in columnSet:\n",
    "                matrix[r][c] = 0\n",
    "\n",
    "    return matrix\n",
    "mtrx = [[1,2,4,0], [0,1,1,1], [3,2,5,8],[2,2,2,2]]\n",
    "zeromatrix(mtrx)"
   ]
  },
  {
   "cell_type": "markdown",
   "metadata": {},
   "source": [
    "2.1 Write code to remove duplicates from an unsorted linked list"
   ]
  },
  {
   "cell_type": "code",
   "execution_count": 77,
   "metadata": {},
   "outputs": [],
   "source": [
    "class Node:\n",
    "    def __init__(self, data) -> None:\n",
    "        self.val = data\n",
    "        self.next = None\n",
    "\n",
    "head = Node(0)\n",
    "cur = head\n",
    "\n",
    "nums = [1,2,4,5,2,1,32,2,2,1,5,0,13,2]\n",
    "\n",
    "for num in nums:\n",
    "    cur.next = Node(num)\n",
    "    cur = cur.next\n",
    "\n",
    "head = head.next\n",
    "\n",
    "# function\n",
    "def remove_duplicates(head):\n",
    "    result = Node(0)\n",
    "    cur = result\n",
    "    duplicates = set()\n",
    "\n",
    "    while head:\n",
    "        if head.val not in duplicates:\n",
    "            cur.next = Node(head.val)\n",
    "            cur = cur.next\n",
    "        duplicates.add(head.val)\n",
    "        head = head.next\n",
    "        \n",
    "    return result.next\n",
    "\n",
    "node = remove_duplicates(head)\n",
    "while node:\n",
    "    print(node.val)\n",
    "    node = node.next"
   ]
  },
  {
   "cell_type": "markdown",
   "metadata": {},
   "source": [
    "2.2 Implement an algorithm to find the kth to last element of a singly linked list"
   ]
  },
  {
   "cell_type": "code",
   "execution_count": null,
   "metadata": {},
   "outputs": [],
   "source": [
    "class Node:\n",
    "    def __init__(self, data) -> None:\n",
    "        self.val = data\n",
    "        self.next = None\n",
    "\n",
    "head = Node(0)\n",
    "cur = head\n",
    "\n",
    "nums = [1,2,4,5,2,1,32,2,2,1,5,0,13,2]\n",
    "\n",
    "for num in nums:\n",
    "    cur.next = Node(num)\n",
    "    cur = cur.next\n",
    "\n",
    "head = head.next\n",
    "\n",
    "def find_kth_to_last_element(head, k):\n",
    "    cur = head\n",
    "    count = 0\n",
    "    while cur:\n",
    "        count += 1\n",
    "        cur = cur.next\n",
    "    \n",
    "    count = count - k\n",
    "    cur = head\n",
    "    while count > 0:\n",
    "        count -= 1\n",
    "        cur = cur.next\n",
    "\n",
    "    return cur\n",
    "\n",
    "print(find_kth_to_last_element(head, 2))"
   ]
  },
  {
   "cell_type": "markdown",
   "metadata": {},
   "source": [
    "2.3 Implement an algorithm to delete a node in the middle (i.e., any node but the first and last node, not necessarily the exact middle) of a singly linked list, given only access to that node.\n",
    "\n",
    "Example:\n",
    "a -> b -> c -> d -> e -> f must turn to a -> b -> d -> e -> f"
   ]
  },
  {
   "cell_type": "code",
   "execution_count": null,
   "metadata": {},
   "outputs": [],
   "source": [
    "class Node:\n",
    "    def __init__(self, data) -> None:\n",
    "        self.val = data\n",
    "        self.next = None\n",
    "\n",
    "head = Node(0)\n",
    "cur = head\n",
    "\n",
    "nums = [1,2,4,5,2,1,32,2,2,1,5,0,13,2]\n",
    "# nums = ['a','b','c','d','e','f']\n",
    "\n",
    "for num in nums:\n",
    "    cur.next = Node(num)\n",
    "    cur = cur.next\n",
    "\n",
    "head = head.next\n",
    "\n",
    "# function\n",
    "\n",
    "def delete_middle_node(head):\n",
    "    prev = None\n",
    "    cur = head\n",
    "    fast = head.next\n",
    "\n",
    "    while fast and fast.next:\n",
    "        prev = cur\n",
    "        cur = cur.next\n",
    "        fast = fast.next.next\n",
    "\n",
    "    prev.next = cur.next\n",
    "    del cur\n",
    "\n",
    "    return head\n",
    "\n",
    "head = delete_middle_node(head)\n",
    "\n",
    "while head:\n",
    "    print(head.val)\n",
    "    head = head.next"
   ]
  },
  {
   "cell_type": "markdown",
   "metadata": {},
   "source": [
    "2.4 Write code to partition a linked list around a value x, such that all nodes less than x come before all nodes greater than or equal to x.\n",
    "\n",
    "- Example:\n",
    "- [1,2,4,5,2,1,32,2,2,1,5,0,13,2]\n",
    "- where x = 5, then output\n",
    "- 1 -> 2 -> 4 -> 2 -> 1 -> 2 -> 2 -> 1 -> 0 -> 2  ->  5 -> 32 -> 5 -> 13"
   ]
  },
  {
   "cell_type": "code",
   "execution_count": null,
   "metadata": {},
   "outputs": [],
   "source": [
    "class Node:\n",
    "    def __init__(self, data) -> None:\n",
    "        self.val = data\n",
    "        self.next = None\n",
    "\n",
    "head = Node(0)\n",
    "cur = head\n",
    "\n",
    "nums = [1,2,4,5,2,1,32,2,2,1,5,0,13,2]\n",
    "# nums = ['a','b','c','d','e','f']\n",
    "\n",
    "for num in nums:\n",
    "    cur.next = Node(num)\n",
    "    cur = cur.next\n",
    "\n",
    "head = head.next\n",
    "\n",
    "#function\n",
    "\n",
    "def partition_linked_list(head, x):\n",
    "    smaller = Node(0)\n",
    "    greater = Node(0)\n",
    "    \n",
    "    small = smaller\n",
    "    great = greater\n",
    "\n",
    "    cur = head\n",
    "\n",
    "    while cur:\n",
    "        if cur.val < x:\n",
    "            small.next = Node(cur.val)\n",
    "            small = small.next\n",
    "        else:\n",
    "            great.next = Node(cur.val)\n",
    "            great = great.next\n",
    "        cur = cur.next\n",
    "\n",
    "    smaller = smaller.next\n",
    "    greater = greater.next\n",
    "    small.next = greater\n",
    "\n",
    "    return smaller\n",
    "    \n",
    "\n",
    "\n",
    "node = partition_linked_list(head, 5)\n",
    "cnt = 0\n",
    "while node:\n",
    "    print(node.val)\n",
    "    cnt += 1\n",
    "    node = node.next\n",
    "\n",
    "# print(len(nums), nums, cnt)"
   ]
  },
  {
   "cell_type": "markdown",
   "metadata": {},
   "source": [
    "3.2 How would you design a stack which, in addition to push and pop, has a function which returns the minimum element? Push, pop and min should all operate in O(1) time"
   ]
  },
  {
   "cell_type": "code",
   "execution_count": 105,
   "metadata": {},
   "outputs": [
    {
     "name": "stdout",
     "output_type": "stream",
     "text": [
      "-1\n"
     ]
    }
   ],
   "source": [
    "class Stack:\n",
    "    def __init__(self):\n",
    "        self.arr = []\n",
    "    \n",
    "    def push(self, val):\n",
    "        minval = val\n",
    "        if self.arr:\n",
    "            minval = min(self.arr[-1][1], minval)\n",
    "        \n",
    "        self.arr.append([val, minval])\n",
    "    \n",
    "    def peek(self):\n",
    "        return self.arr[-1]\n",
    "    \n",
    "    def pop(self):\n",
    "        self.arr.pop()\n",
    "\n",
    "    def min_item(self):\n",
    "        return self.arr[-1][1]\n",
    "\n",
    "def main():\n",
    "    stack = Stack()\n",
    "    stack.push(1)\n",
    "    stack.push(10)\n",
    "    stack.push(11)\n",
    "    stack.push(0)\n",
    "    stack.push(-1)\n",
    "    stack.push(0)\n",
    "    # print(stack.peek())\n",
    "    # stack.pop()\n",
    "    print(stack.min_item())\n",
    "    # print(stack.peek())\n",
    "\n",
    "main()"
   ]
  }
 ],
 "metadata": {
  "kernelspec": {
   "display_name": "Python 3.9.7 64-bit",
   "language": "python",
   "name": "python3"
  },
  "language_info": {
   "codemirror_mode": {
    "name": "ipython",
    "version": 3
   },
   "file_extension": ".py",
   "mimetype": "text/x-python",
   "name": "python",
   "nbconvert_exporter": "python",
   "pygments_lexer": "ipython3",
   "version": "3.9.7"
  },
  "orig_nbformat": 4,
  "vscode": {
   "interpreter": {
    "hash": "aee8b7b246df8f9039afb4144a1f6fd8d2ca17a180786b69acc140d282b71a49"
   }
  }
 },
 "nbformat": 4,
 "nbformat_minor": 2
}
