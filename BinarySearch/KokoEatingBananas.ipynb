{
 "cells": [
  {
   "cell_type": "markdown",
   "metadata": {},
   "source": [
    "**The way to approach this problem is to:**\n",
    "- Do a binary search and try k values in the range [1,max(piles)]\n",
    "- Calculate the hours for the k rate (by iterating through the piles array)\n",
    "- If the hours are less than or equal to h, then we pass that result to our res (checking if it is smaller than our current val) and then check a smaller value\n",
    "- If the hours are more, then we check the right subarray"
   ]
  },
  {
   "cell_type": "code",
   "execution_count": null,
   "metadata": {},
   "outputs": [],
   "source": [
    "def minEatingSpeed(self, piles: List[int], h: int) -> int:\n",
    "    l,r = 1, max(piles)\n",
    "    res = r\n",
    "    while l <= r:\n",
    "        k = (l+r)//2\n",
    "        hours = 0      \n",
    "        for p in piles:\n",
    "            hours += math.ceil(p/k)\n",
    "        \n",
    "        if hours <= h:\n",
    "            res = min(res,k)\n",
    "            r = k-1\n",
    "        else:\n",
    "            l = k+1\n",
    "    return res"
   ]
  }
 ],
 "metadata": {
  "language_info": {
   "name": "python"
  },
  "orig_nbformat": 4
 },
 "nbformat": 4,
 "nbformat_minor": 2
}
