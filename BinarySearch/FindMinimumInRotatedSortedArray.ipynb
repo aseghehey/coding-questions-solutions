{
 "cells": [
  {
   "cell_type": "markdown",
   "metadata": {},
   "source": [
    "Once you've done the Search Rotated Array problem, doing this problem becomes easier\n",
    "\n",
    "**Steps:**\n",
    "- Initialize a cur_min variable that will constantly keep the minimum number seen\n",
    "- Check the conditions and move pointers accordingly"
   ]
  },
  {
   "cell_type": "code",
   "execution_count": null,
   "metadata": {},
   "outputs": [],
   "source": [
    "def findMin(self, nums: List[int]) -> int:\n",
    "    cur_min = float('inf')\n",
    "    l, r = 0, len(nums) - 1\n",
    "\n",
    "    while l <= r:\n",
    "        mid = (l + r) // 2\n",
    "        cur_min = min(cur_min, nums[mid])\n",
    "        if nums[l] <= nums[mid]:\n",
    "            if nums[l] < nums[r]:\n",
    "                r = mid - 1\n",
    "            else:\n",
    "                l = mid + 1\n",
    "        else:\n",
    "            if nums[r] < nums[mid]:\n",
    "                l = mid + 1\n",
    "            else:\n",
    "                r = mid - 1\n",
    "    return cur_min "
   ]
  },
  {
   "cell_type": "markdown",
   "metadata": {},
   "source": [
    "Optimal solution:"
   ]
  },
  {
   "cell_type": "code",
   "execution_count": null,
   "metadata": {},
   "outputs": [],
   "source": [
    "def findMin(self, nums: List[int]) -> int:\n",
    "    cur_min = nums[0]\n",
    "    l, r = 0, len(nums) - 1\n",
    "\n",
    "    while l <= r:\n",
    "        if nums[l] < nums[r]:\n",
    "            cur_min = min(cur_min, nums[l])\n",
    "            break\n",
    "            \n",
    "        mid = (l + r) // 2\n",
    "        cur_min = min(cur_min, nums[mid])\n",
    "        \n",
    "        if nums[l] <= nums[mid]:\n",
    "            l = mid + 1\n",
    "        else:\n",
    "            r = mid - 1\n",
    "        \n",
    "    return cur_min "
   ]
  }
 ],
 "metadata": {
  "language_info": {
   "name": "python"
  },
  "orig_nbformat": 4
 },
 "nbformat": 4,
 "nbformat_minor": 2
}
