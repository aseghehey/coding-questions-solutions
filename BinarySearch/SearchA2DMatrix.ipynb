{
 "cells": [
  {
   "cell_type": "markdown",
   "metadata": {},
   "source": [
    "This solution works however it's very slow and I think I can optimize it but it would stop being a binary search solution."
   ]
  },
  {
   "cell_type": "code",
   "execution_count": null,
   "metadata": {},
   "outputs": [],
   "source": [
    "def searchMatrix(self, matrix: List[List[int]], target: int) -> bool:\n",
    "    arr = []\n",
    "    \n",
    "    for r in range(len(matrix)):\n",
    "        for c in range(len(matrix[r])):\n",
    "            if matrix[r][c] > target:\n",
    "                break\n",
    "            arr.append(matrix[r][c])\n",
    "            \n",
    "    l, r = 0, len(arr) - 1\n",
    "    \n",
    "    while l <= r:\n",
    "        m = (l + r) // 2\n",
    "        if arr[m] == target:\n",
    "            return True\n",
    "        elif arr[m] < target:\n",
    "            l = m + 1\n",
    "        else: # arr[m] > targert\n",
    "            r = m - 1\n",
    "            \n",
    "    return False\n",
    "    "
   ]
  },
  {
   "cell_type": "markdown",
   "metadata": {},
   "source": [
    "The optimal answer goes the following way:\n",
    "\n",
    "- Use binary search to find our designated row\n",
    "- Once we found it, we perform binary search on our row and determine if the target is in our row\n",
    "- Return True if found, return False otherwise"
   ]
  },
  {
   "cell_type": "code",
   "execution_count": null,
   "metadata": {},
   "outputs": [],
   "source": [
    "def searchMatrix(self, matrix: List[List[int]], target: int) -> bool:\n",
    "    rows, cols = len(matrix), len(matrix[0])\n",
    "    top, bot = 0, rows - 1\n",
    "    \n",
    "    # find what row we should be in \n",
    "    while top <= bot:\n",
    "        m = (top + bot) // 2\n",
    "        \n",
    "        if matrix[m][-1] < target:\n",
    "            top = m + 1\n",
    "        elif matrix[m][0] > target:\n",
    "            bot = m - 1\n",
    "        else:\n",
    "            break\n",
    "    \n",
    "    # if the loop stopped for the reason that top became greater than bot, we know we never found our row --> False\n",
    "    if not top <= bot:\n",
    "        return False\n",
    "    \n",
    "    # get our chosen row\n",
    "    row = (top + bot) // 2\n",
    "    l, r = 0, cols - 1\n",
    "    \n",
    "    # do binary search on the row\n",
    "    while l <= r:\n",
    "        m = (l + r) // 2\n",
    "        \n",
    "        if matrix[row][m] == target:\n",
    "            return True\n",
    "        elif matrix[row][m] < target: \n",
    "            l = m + 1\n",
    "        else:\n",
    "            r = m - 1\n",
    "            \n",
    "    # returns False if we haven't found target\n",
    "    return False"
   ]
  }
 ],
 "metadata": {
  "language_info": {
   "name": "python"
  },
  "orig_nbformat": 4
 },
 "nbformat": 4,
 "nbformat_minor": 2
}
