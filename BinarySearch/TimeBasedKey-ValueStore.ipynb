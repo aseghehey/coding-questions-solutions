{
 "cells": [
  {
   "cell_type": "markdown",
   "metadata": {},
   "source": [
    "At first, I didn't realize a binary search was needed to optimize this problem. I had done it a different way that worked but it failed the time limit constraint.\n",
    "\n",
    "Basically, you try to get the \"largest smallest\" timestamp through a binary search and once you have it, return res."
   ]
  },
  {
   "cell_type": "code",
   "execution_count": null,
   "metadata": {},
   "outputs": [],
   "source": [
    "from collections import defaultdict\n",
    "class TimeMap:\n",
    "\n",
    "    def __init__(self):\n",
    "        self.timemap = defaultdict(list)\n",
    "\n",
    "    def set(self, key: str, value: str, timestamp: int) -> None:\n",
    "        self.timemap[key].append([value, timestamp])\n",
    "\n",
    "    def get(self, key: str, timestamp: int) -> str:\n",
    "        res = \"\"\n",
    "        vals = self.timemap.get(key, [])\n",
    "        l, r = 0, len(vals) - 1\n",
    "    \n",
    "        while l <= r:\n",
    "            mid = (l + r) // 2\n",
    "            \n",
    "            if vals[mid][1] <= timestamp:\n",
    "                res = vals[mid][0]\n",
    "                l = mid + 1\n",
    "            else:\n",
    "                r = mid - 1\n",
    "                \n",
    "        return res"
   ]
  },
  {
   "cell_type": "markdown",
   "metadata": {},
   "source": [
    "I went through the problem a second time and was able to come up with the below solution. Beats 83.73% (675 ms) runtime and 94.5% memory - Faster than the first"
   ]
  },
  {
   "cell_type": "code",
   "execution_count": null,
   "metadata": {},
   "outputs": [],
   "source": [
    "from collections import defaultdict\n",
    "class TimeMap:\n",
    "\n",
    "    def __init__(self):\n",
    "        self.map = defaultdict(list)\n",
    "        self.timestamp = defaultdict(list)\n",
    "\n",
    "    def set(self, key: str, value: str, timestamp: int) -> None:\n",
    "        self.map[key].append(value)\n",
    "        self.timestamp[key].append(timestamp)\n",
    "\n",
    "    def get(self, key: str, timestamp: int) -> str:\n",
    "        if not key in self.map or self.timestamp[key][0] > timestamp:\n",
    "            return \"\"\n",
    "        left, right = 0, len(self.timestamp[key]) - 1\n",
    "        timestamp_prev = 0\n",
    "        while left <= right:\n",
    "            mid = (left + right) // 2\n",
    "            if self.timestamp[key][mid] == timestamp:\n",
    "                return self.map[key][mid]\n",
    "            elif self.timestamp[key][mid] > timestamp:\n",
    "                right = mid - 1\n",
    "            else:\n",
    "                timestamp_prev = mid\n",
    "                left = mid + 1\n",
    "        return self.map[key][timestamp_prev]"
   ]
  }
 ],
 "metadata": {
  "language_info": {
   "name": "python"
  },
  "orig_nbformat": 4
 },
 "nbformat": 4,
 "nbformat_minor": 2
}
