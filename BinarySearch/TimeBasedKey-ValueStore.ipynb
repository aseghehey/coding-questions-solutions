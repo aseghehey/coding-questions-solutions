{
 "cells": [
  {
   "cell_type": "markdown",
   "metadata": {},
   "source": [
    "At first, I didn't realize a binary search was needed to optimize this problem. I had done it a different way that worked but it failed the time limit constraint.\n",
    "\n",
    "Basically, you try to get the \"largest smallest\" timestamp through a binary search and once you have it, return res."
   ]
  },
  {
   "cell_type": "code",
   "execution_count": null,
   "metadata": {},
   "outputs": [],
   "source": [
    "from collections import defaultdict\n",
    "class TimeMap:\n",
    "\n",
    "    def __init__(self):\n",
    "        self.timemap = defaultdict(list)\n",
    "\n",
    "    def set(self, key: str, value: str, timestamp: int) -> None:\n",
    "        self.timemap[key].append([value, timestamp])\n",
    "\n",
    "    def get(self, key: str, timestamp: int) -> str:\n",
    "        res = \"\"\n",
    "        vals = self.timemap.get(key, [])\n",
    "        l, r = 0, len(vals) - 1\n",
    "    \n",
    "        while l <= r:\n",
    "            mid = (l + r) // 2\n",
    "            \n",
    "            if vals[mid][1] <= timestamp:\n",
    "                res = vals[mid][0]\n",
    "                l = mid + 1\n",
    "            else:\n",
    "                r = mid - 1\n",
    "                \n",
    "        return res"
   ]
  }
 ],
 "metadata": {
  "language_info": {
   "name": "python"
  },
  "orig_nbformat": 4
 },
 "nbformat": 4,
 "nbformat_minor": 2
}
