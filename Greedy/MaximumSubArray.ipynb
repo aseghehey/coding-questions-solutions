{
 "cells": [
  {
   "cell_type": "markdown",
   "metadata": {},
   "source": [
    "**Optimal solution (1)**"
   ]
  },
  {
   "cell_type": "code",
   "execution_count": null,
   "metadata": {},
   "outputs": [],
   "source": [
    "def maxSubArray(self, nums: List[int]) -> int:\n",
    "    if(len(nums) == 0):\n",
    "        return 0\n",
    "    maxsum = cur = nums[0]\n",
    "    for num in nums[1:]:\n",
    "        cur = max(cur+num,num)\n",
    "        maxsum = max(cur, maxsum)\n",
    "    return maxsum"
   ]
  },
  {
   "cell_type": "markdown",
   "metadata": {},
   "source": [
    "**Optimal solution (2)**"
   ]
  },
  {
   "cell_type": "code",
   "execution_count": null,
   "metadata": {},
   "outputs": [],
   "source": [
    "def maxSubArray(self, nums: List[int]) -> int:\n",
    "    maxsum = nums[0] # no other number to set it to\n",
    "    cursum = 0 # computes the cur sum\n",
    "    for num in nums:\n",
    "        if cursum < 0: # if it's negative then reset it\n",
    "            cursum = 0\n",
    "        cursum += num # computes current sum\n",
    "        maxsum = max(cursum, maxsum) # computes the max sum\n",
    "    return maxsum"
   ]
  },
  {
   "cell_type": "markdown",
   "metadata": {},
   "source": [
    "Here is a solution in **O(n^2)** time.\n",
    "\n",
    "Does not pass leetcode's time limit but works."
   ]
  },
  {
   "cell_type": "code",
   "execution_count": null,
   "metadata": {},
   "outputs": [],
   "source": [
    "def maxSubArray(self, nums: List[int]) -> int:\n",
    "    res = -float('inf')\n",
    "    for i in range(len(nums)):\n",
    "        for j in range(i, len(nums)):\n",
    "            res = max(res, sum(nums[i:j+1]))\n",
    "    return res"
   ]
  }
 ],
 "metadata": {
  "language_info": {
   "name": "python"
  },
  "orig_nbformat": 4
 },
 "nbformat": 4,
 "nbformat_minor": 2
}
