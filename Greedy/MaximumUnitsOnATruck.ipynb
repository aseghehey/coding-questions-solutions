{
 "cells": [
  {
   "cell_type": "markdown",
   "metadata": {},
   "source": [
    "This was my initial solution which passes all the testcases and runs at O(nlogn)\n",
    "\n",
    "May not be the optimal solution but it works.\n",
    "\n",
    "***Explanation***\n",
    "- Sort the boxtypes by units in descending order\n",
    "- Loop the array\n",
    "- compute the difference between trucksize and # of boxes\n",
    "- if positive, we can add all of those boxes\n",
    "- else, we can only add the remaining truckSize * the number of units,\n",
    "- update trucksize and return"
   ]
  },
  {
   "cell_type": "code",
   "execution_count": null,
   "metadata": {},
   "outputs": [],
   "source": [
    "def maximumUnits(self, boxTypes: List[List[int]], truckSize: int) -> int:\n",
    "    boxTypes = sorted(boxTypes, key=lambda x:x[1], reverse=True)\n",
    "    res = 0\n",
    "    \n",
    "    for box, unit in boxTypes:\n",
    "        difference = truckSize - box\n",
    "        if difference >= 0: \n",
    "            res += box * unit\n",
    "            truckSize = difference\n",
    "        else:\n",
    "            res += truckSize * unit\n",
    "            return res # that's when it gets to 0\n",
    "    return res # this could be if we go over all the boxes and the truck still has spare space"
   ]
  }
 ],
 "metadata": {
  "language_info": {
   "name": "python"
  },
  "orig_nbformat": 4
 },
 "nbformat": 4,
 "nbformat_minor": 2
}
