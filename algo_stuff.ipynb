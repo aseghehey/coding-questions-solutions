{
 "cells": [
  {
   "cell_type": "code",
   "execution_count": 61,
   "metadata": {},
   "outputs": [],
   "source": [
    "import heapq, random"
   ]
  },
  {
   "cell_type": "markdown",
   "metadata": {},
   "source": [
    "Implementation of HeapSort"
   ]
  },
  {
   "cell_type": "code",
   "execution_count": 62,
   "metadata": {},
   "outputs": [
    {
     "name": "stdout",
     "output_type": "stream",
     "text": [
      "unsorted arr: [6, 87, 46, 84, 50, 22, 57, 67, 46, 23, 46, 59]\n",
      "current minimum: 6\n",
      "current minimum: 22\n",
      "current minimum: 23\n",
      "current minimum: 46\n",
      "current minimum: 46\n",
      "current minimum: 46\n",
      "current minimum: 50\n",
      "current minimum: 57\n",
      "current minimum: 59\n",
      "current minimum: 67\n",
      "current minimum: 84\n",
      "current minimum: 87\n",
      "sorted arr: [6, 22, 23, 46, 46, 46, 50, 57, 59, 67, 84, 87]\n"
     ]
    }
   ],
   "source": [
    "arr = []\n",
    "for i in range(12): # adding 12 random vals in range 1-100\n",
    "    arr.append(random.randrange(1, 100))\n",
    "resarr = []\n",
    "print(f'unsorted arr: {arr}')\n",
    "heapq.heapify(arr)\n",
    "while arr:\n",
    "    val_to_add = heapq.heappop(arr)\n",
    "    print(f'current minimum: {val_to_add}')\n",
    "    resarr.append(val_to_add) # popping min val each time and \n",
    "print(f'sorted arr: {resarr}') # just a sequence of all the min vals together"
   ]
  },
  {
   "cell_type": "markdown",
   "metadata": {},
   "source": [
    "Implementation of a stack... LIFO"
   ]
  },
  {
   "cell_type": "code",
   "execution_count": null,
   "metadata": {},
   "outputs": [],
   "source": [
    "class Stack:\n",
    "    def __init__(self):\n",
    "        self.stack = []\n",
    "    def push(self, val):\n",
    "        self.stack.append(val)\n",
    "    def pop(self):\n",
    "        return self.stack.pop()\n",
    "    def peek(self):\n",
    "        return self.stack[-1]\n",
    "\n",
    "def main():\n",
    "    mystack = Stack()\n",
    "    for i in range(10): # going to append 10 random vals\n",
    "        toadd = random.randrange(1,29)\n",
    "        print(f'added {toadd}')\n",
    "        mystack.push(toadd)\n",
    "    \n",
    "    print('\\npopping:\\n')\n",
    "    for i in range(5): # going to get last 5 vals\n",
    "        print(mystack.pop())\n",
    "\n",
    "main()"
   ]
  },
  {
   "cell_type": "markdown",
   "metadata": {},
   "source": [
    "Implementation of a queue:\n",
    "FIFO"
   ]
  },
  {
   "cell_type": "code",
   "execution_count": null,
   "metadata": {},
   "outputs": [],
   "source": [
    "class queue:\n",
    "    # going to have back of the array as the front of the queue\n",
    "    def __init__(self):\n",
    "        self.queue = []\n",
    "    def enqueue(self, val):\n",
    "        self.queue.append(val)\n",
    "    def dequeue(self):\n",
    "        return self.queue.pop()\n",
    "    def peek(self):\n",
    "        return self.queue[-1]\n",
    "\n",
    "def main():\n",
    "    myqueue = queue()\n",
    "    for i in range(10):\n",
    "        adding = random.randrange(1,20)\n",
    "        print(f'adding val: {adding}')\n",
    "        myqueue.enqueue(adding)\n",
    "    \n",
    "    for i in range(5): # just dequeuing 5 front vals\n",
    "        print(f'deq: {myqueue.dequeue()}')\n",
    "    \n",
    "    print(f'peeking {myqueue.peek()}')\n",
    "\n",
    "main()"
   ]
  },
  {
   "cell_type": "markdown",
   "metadata": {},
   "source": [
    "Implementation of binary search tree"
   ]
  },
  {
   "cell_type": "code",
   "execution_count": null,
   "metadata": {},
   "outputs": [],
   "source": [
    "class node:\n",
    "    def __init__(self, val): # node\n",
    "        self.val = val\n",
    "        self.left = None\n",
    "        self.right = None\n",
    "\n",
    "def insert(root, val):\n",
    "    if not root:\n",
    "        return node(val)\n",
    "\n",
    "    if root.val == val:\n",
    "        return root\n",
    "    elif root.val > val:\n",
    "        root.left = insert(root.left, val)\n",
    "    else:\n",
    "        root.right = insert(root.right, val)\n",
    "    return root\n",
    "\n",
    "def checkNodes(root): # dfs traversal\n",
    "    if not root:\n",
    "        return \n",
    "\n",
    "    checkNodes(root.left)\n",
    "    print(root.val, end=' ')\n",
    "    checkNodes(root.right)\n",
    "\n",
    "tree = node(5) # root val is 5\n",
    "for i in range(10):\n",
    "    adding = random.randrange(1,10)\n",
    "    print(f'adding {adding}')\n",
    "    tree = insert(tree, adding)\n",
    "\n",
    "# print(tree.left.val, tree.val, tree.right.val)\n",
    "checkNodes(tree)\n",
    "print('\\nsee that nodes to the left of root val are smaller; greater on the right\\nSubtrees follow bst structure as well')\n"
   ]
  },
  {
   "cell_type": "markdown",
   "metadata": {},
   "source": [
    "Maximum subarray prob"
   ]
  },
  {
   "cell_type": "code",
   "execution_count": 7,
   "metadata": {},
   "outputs": [
    {
     "data": {
      "text/plain": [
       "(3, 5)"
      ]
     },
     "execution_count": 7,
     "metadata": {},
     "output_type": "execute_result"
    }
   ],
   "source": [
    "def max_subarr(arr, n):\n",
    "    maxsum = 0\n",
    "    l, r = 0,0\n",
    "    for i in range(n):\n",
    "        cur = 0\n",
    "        for j in range(i, n):\n",
    "            cur += arr[j]\n",
    "            if cur > maxsum:\n",
    "                maxsum = cur\n",
    "                l,r = i, j\n",
    "    return l,r\n",
    "\n",
    "\n",
    "max_subarr([2,8,-17,3,5,4],6)"
   ]
  }
 ],
 "metadata": {
  "kernelspec": {
   "display_name": "Python 3.9.7 64-bit",
   "language": "python",
   "name": "python3"
  },
  "language_info": {
   "codemirror_mode": {
    "name": "ipython",
    "version": 3
   },
   "file_extension": ".py",
   "mimetype": "text/x-python",
   "name": "python",
   "nbconvert_exporter": "python",
   "pygments_lexer": "ipython3",
   "version": "3.9.7"
  },
  "orig_nbformat": 4,
  "vscode": {
   "interpreter": {
    "hash": "aee8b7b246df8f9039afb4144a1f6fd8d2ca17a180786b69acc140d282b71a49"
   }
  }
 },
 "nbformat": 4,
 "nbformat_minor": 2
}
