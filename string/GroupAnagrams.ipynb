{
 "cells": [
  {
   "cell_type": "markdown",
   "metadata": {},
   "source": [
    "**Steps:**\n",
    "\n",
    "- Base case is fairly easy to understand. If the length is 1 or 0, then we return the given arr\n",
    "\n",
    "- Make a map that will store the sorted word. I check if it's on the map already, and if it is,\n",
    "\n",
    "- then we append it to that sorted word (which gives us a list of all the anagrams for it)\n",
    "\n",
    "- Else we define it on the map"
   ]
  },
  {
   "cell_type": "code",
   "execution_count": null,
   "metadata": {},
   "outputs": [],
   "source": [
    "def groupAnagrams(self, strs: List[str]) -> List[List[str]]:\n",
    "    if len(strs) <= 1:\n",
    "        return [strs]\n",
    "\n",
    "    res = defaultdict(list)\n",
    "    for w in strs:\n",
    "        x = sorted_word = ''.join(sorted(w))\n",
    "        if x not in res.keys():\n",
    "            res[x] = [w]\n",
    "        else:\n",
    "            res[x].append(w)\n",
    "    \n",
    "    ans = []\n",
    "    for k,v in res.items():\n",
    "        ans.append(v)\n",
    "    return ans"
   ]
  }
 ],
 "metadata": {
  "kernelspec": {
   "display_name": "Python 3.9.7 64-bit",
   "language": "python",
   "name": "python3"
  },
  "language_info": {
   "name": "python",
   "version": "3.9.7"
  },
  "orig_nbformat": 4,
  "vscode": {
   "interpreter": {
    "hash": "aee8b7b246df8f9039afb4144a1f6fd8d2ca17a180786b69acc140d282b71a49"
   }
  }
 },
 "nbformat": 4,
 "nbformat_minor": 2
}
