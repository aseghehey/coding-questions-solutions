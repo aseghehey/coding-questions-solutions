{
 "cells": [
  {
   "cell_type": "markdown",
   "metadata": {},
   "source": [
    "- Keep track of a maximum and a minimum to account for the case when num < 0\n",
    "- Set maximum and minimum to 1, whenever we find a 0. Because multiplication with 0 = 0\n",
    "- Traverse nums, keep track of min and max\n",
    "- Set output to max of output and maximum"
   ]
  },
  {
   "cell_type": "code",
   "execution_count": null,
   "metadata": {},
   "outputs": [],
   "source": [
    "def maxProduct(self, nums: List[int]) -> int:\n",
    "    minimum = maximum = 1\n",
    "    output = max(nums)\n",
    "    \n",
    "    for num in nums:\n",
    "        if num == 0:\n",
    "            maximum = minimum = 1\n",
    "            continue\n",
    "        \n",
    "        temp = maximum * num\n",
    "        maximum = max(maximum * num, minimum * num, num)\n",
    "        minimum = min(minimum * num, temp, num)\n",
    "        \n",
    "        output = max(output, maximum)\n",
    "    \n",
    "    return output"
   ]
  }
 ],
 "metadata": {
  "language_info": {
   "name": "python"
  },
  "orig_nbformat": 4
 },
 "nbformat": 4,
 "nbformat_minor": 2
}
