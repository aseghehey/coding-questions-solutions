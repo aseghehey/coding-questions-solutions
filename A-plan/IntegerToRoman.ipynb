{
 "cells": [
  {
   "cell_type": "markdown",
   "metadata": {},
   "source": [
    "- IV: 4\n",
    "- IX: 9\n",
    "- XL: 40\n",
    "- XC: 90\n",
    "- CD: 400\n",
    "- CM: 900"
   ]
  },
  {
   "cell_type": "code",
   "execution_count": null,
   "metadata": {},
   "outputs": [],
   "source": [
    "import math\n",
    "class Solution:\n",
    "    def intToRoman(self, num: int) -> str:\n",
    "        roman = [['I', 1], ['IV', 4], ['V', 5], ['IX', 9], ['X', 10], ['XL', 40], ['L', 50], ['XC', 90], ['C',100], ['CD', 400], ['D', 500], ['CM', 900], ['M', 1000]]\n",
    "        \n",
    "        output = ''\n",
    "        for w, n in roman[::-1]:\n",
    "            if num == 0:\n",
    "                return output\n",
    "            \n",
    "            count = math.floor(num / n)\n",
    "            if count:\n",
    "                num = num % n\n",
    "                \n",
    "            for i in range(count):\n",
    "                output += w\n",
    "            \n",
    "        return output"
   ]
  }
 ],
 "metadata": {
  "language_info": {
   "name": "python"
  },
  "orig_nbformat": 4
 },
 "nbformat": 4,
 "nbformat_minor": 2
}
