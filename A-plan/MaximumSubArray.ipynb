{
 "cells": [
  {
   "cell_type": "markdown",
   "metadata": {},
   "source": [
    "Optimized (Kadane's algorithm):\n",
    "- Initialize 2 variables. Current and Max_SubArray which both equal to nums[0]\n",
    "- Iterate through nums[1:]\n",
    "- Count sum and store it in current. If it ever becomes negative or 0, we set it to the current number we're at \n",
    "- Update Max_SubArray to the max so far\n",
    "- Return Max_Subarray"
   ]
  },
  {
   "cell_type": "code",
   "execution_count": null,
   "metadata": {},
   "outputs": [],
   "source": [
    "def maxSubArray(self, nums: List[int]) -> int:\n",
    "    current = maximum = nums[0]\n",
    "    for num in nums[1:]:\n",
    "        current = max(current + num, num)\n",
    "        maximum = max(current, maximum)\n",
    "    return maximum"
   ]
  },
  {
   "cell_type": "markdown",
   "metadata": {},
   "source": [
    "Brute force:"
   ]
  },
  {
   "cell_type": "code",
   "execution_count": null,
   "metadata": {},
   "outputs": [],
   "source": [
    "def maxSubArray(self, nums: List[int]) -> int:\n",
    "    maximum = -float('inf')\n",
    "    for i in range(len(nums)):\n",
    "        cur_sum = 0\n",
    "        for j in range(i, len(nums)):\n",
    "            cur_sum += nums[j]\n",
    "            maximum = max(maximum, cur_sum)\n",
    "    return maximum"
   ]
  }
 ],
 "metadata": {
  "language_info": {
   "name": "python"
  },
  "orig_nbformat": 4
 },
 "nbformat": 4,
 "nbformat_minor": 2
}
