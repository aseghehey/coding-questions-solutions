{
 "cells": [
  {
   "cell_type": "markdown",
   "metadata": {},
   "source": [
    "Steps:\n",
    "\n",
    "- First put them all in a tuple/list\n",
    "- Sort it based on timestamp to ensure the correct order\n",
    "- Store user: website in a hash map\n",
    "- Create another hash map which takes the patterns\n",
    "- Traverse the user hash map, use the combination function and store it all in a set\n",
    "- Traverse through the set, and count the frequency of each pattern\n",
    "- Traverse pattern map, and find the pattern with the highest frequency. Pass the highest in output []\n",
    "- Check if list is greater than 1. If it is, sort output\n",
    "- Return output[0]\n",
    "\n",
    "Use combinations(iterator, r) which finds you all the combinations with a specified length r"
   ]
  },
  {
   "cell_type": "code",
   "execution_count": null,
   "metadata": {},
   "outputs": [],
   "source": [
    "class Solution:\n",
    "    def mostVisitedPattern(self, username: List[str], timestamp: List[int], website: List[str]) -> List[str]:\n",
    "        \n",
    "        tuples = []\n",
    "        for time, user, web in zip(timestamp, username, website):\n",
    "            tuples.append([time, user, web])\n",
    "        \n",
    "        tuples.sort(key=lambda x:x[0])\n",
    "        userWebsites = defaultdict(list)\n",
    "        \n",
    "        for time, user, web in tuples:\n",
    "            userWebsites[user].append(web)\n",
    "        \n",
    "        patterns = defaultdict(int)\n",
    "        for k in userWebsites.keys():\n",
    "            combs = set(combinations(userWebsites[k], 3))\n",
    "            for comb in combs:\n",
    "                patterns[comb] += 1\n",
    "        \n",
    "        maxvalue = max(patterns.values())\n",
    "        output = []\n",
    "        for pattern, val in patterns.items():\n",
    "            if val == maxvalue:\n",
    "                output.append(pattern)\n",
    "                \n",
    "        if len(output) > 1:    \n",
    "            output.sort()    \n",
    "            \n",
    "        return output[0]\n",
    "            "
   ]
  }
 ],
 "metadata": {
  "kernelspec": {
   "display_name": "Python 3.9.7 64-bit",
   "language": "python",
   "name": "python3"
  },
  "language_info": {
   "name": "python",
   "version": "3.9.7"
  },
  "orig_nbformat": 4,
  "vscode": {
   "interpreter": {
    "hash": "aee8b7b246df8f9039afb4144a1f6fd8d2ca17a180786b69acc140d282b71a49"
   }
  }
 },
 "nbformat": 4,
 "nbformat_minor": 2
}
