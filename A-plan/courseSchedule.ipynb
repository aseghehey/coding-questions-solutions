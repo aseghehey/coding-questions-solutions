{
 "cells": [
  {
   "cell_type": "markdown",
   "metadata": {},
   "source": [
    "Graph problem:\n",
    "- Create adj List for all the courses in range num course. Set them to []\n",
    "- Populate adj List\n",
    "- Do dfs. Check for cycles. Return False when course is in set. Return true if schedule[course] = []. Return True.\n",
    "- Go through prereqs in schedule[course]\n",
    "- Run dfs on prereqs, if returns False --> immediate return False\n",
    "- Remove course from the visit set, make it map to an empty string\n",
    "- Call dfs on each course in numCourses. Return false immediately if we see a False value"
   ]
  },
  {
   "cell_type": "code",
   "execution_count": null,
   "metadata": {},
   "outputs": [],
   "source": [
    "class Solution:\n",
    "    def canFinish(self, numCourses: int, prerequisites: List[List[int]]) -> bool:\n",
    "        schedule = {i: [] for i in range(numCourses)}\n",
    "        for course, prereq in prerequisites:\n",
    "            schedule[course].append(prereq)\n",
    "            \n",
    "        visit = set()\n",
    "        def dfs(course):\n",
    "            if course in visit:\n",
    "                return False\n",
    "            \n",
    "            if schedule[course] == []:\n",
    "                return True\n",
    "            \n",
    "            visit.add(course)\n",
    "            \n",
    "            for pre in schedule[course]:\n",
    "                if not dfs(pre):\n",
    "                    return False\n",
    "                \n",
    "            visit.remove(course)\n",
    "            schedule[course] = []\n",
    "            \n",
    "            return True\n",
    "        \n",
    "        for course in range(numCourses):\n",
    "            if not dfs(course): return False\n",
    "            \n",
    "        return True"
   ]
  }
 ],
 "metadata": {
  "language_info": {
   "name": "python"
  },
  "orig_nbformat": 4
 },
 "nbformat": 4,
 "nbformat_minor": 2
}
