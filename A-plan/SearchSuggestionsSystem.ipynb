{
 "cells": [
  {
   "cell_type": "markdown",
   "metadata": {},
   "source": [
    "Steps:\n",
    "\n",
    "- Sort products\n",
    "- Go through each character in searchWord\n",
    "- Go through each word in products\n",
    "- Compare each, and if it is a match up until i (index of searchWord), append it to cur\n",
    "- Append first 3 elements of cur in res."
   ]
  },
  {
   "cell_type": "code",
   "execution_count": null,
   "metadata": {},
   "outputs": [],
   "source": [
    "def suggestedProducts(self, products: List[str], searchWord: str) -> List[List[str]]:\n",
    "    res = []\n",
    "    products.sort()\n",
    "    \n",
    "    for i in range(len(searchWord)):\n",
    "        cur = []\n",
    "        for j in range(len(products)):\n",
    "            if searchWord[:i + 1] == products[j][:i + 1]:\n",
    "                cur.append(products[j])\n",
    "                \n",
    "        products = cur\n",
    "        res.append(cur[:3])\n",
    "        \n",
    "    return res\n",
    "    "
   ]
  },
  {
   "cell_type": "markdown",
   "metadata": {},
   "source": [
    "Optimized:\n",
    "\n",
    "- Set product to temp, to decrease the number of iterations."
   ]
  },
  {
   "cell_type": "code",
   "execution_count": null,
   "metadata": {},
   "outputs": [],
   "source": [
    "class Solution:\n",
    "    def suggestedProducts(self, products: List[str], searchWord: str) -> List[List[str]]:\n",
    "        res = []\n",
    "        products.sort()\n",
    "        \n",
    "        for i, char in enumerate(searchWord):\n",
    "            tmp = []\n",
    "            for product in products:\n",
    "                if len(product) > i and product[i] == char:\n",
    "                    tmp.append(product)\n",
    "                    \n",
    "            products = tmp\n",
    "            res.append(tmp[:3])\n",
    "        return res"
   ]
  }
 ],
 "metadata": {
  "language_info": {
   "name": "python"
  },
  "orig_nbformat": 4
 },
 "nbformat": 4,
 "nbformat_minor": 2
}
