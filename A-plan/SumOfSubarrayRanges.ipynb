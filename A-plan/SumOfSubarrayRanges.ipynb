{
 "cells": [
  {
   "cell_type": "markdown",
   "metadata": {},
   "source": [
    "- we need to find (max-min) in every subarray for a given array.\n",
    "- let array = [4,-2,-3,4,1]\n",
    "- sub array's are = {[4],[-2],[-3],[4],[1],\n",
    "-                    [4,-2],[-2,-3],[-3,4],[4,1],\n",
    "-                    [4,-2,-3],[-2,-3,4],[-3,4,1],\n",
    "-                    [4,-2,-3,4],[-2,-3,4,1],\n",
    "-                    [4,-2,-3,4,1]}\n",
    "- To solve this problem, we will find all the minimum number and maximum number \n",
    "- from each subset and sum them into minSum and maxSum respectively. \n",
    "- Then return maxSum-minSum as a result\n",
    "\n",
    "- Find minSum ?\n",
    "- First we will find minNumber and number of times it appers in all the subarray's.\n",
    "\n",
    "    -         minNumer                        no. of Times     Sub Array\n",
    "    -             4                               2           {[4],[4]}\n",
    "    -            -2                               2           {[-2],[4,-2]}\n",
    "    -            -3                               9           {[-3],[-2,-3],[-3,4],[4,-2,-3],[-2,-3,4],\n",
    "    -                                                          [-3,4,1],[4,-2,-3,4],[-2,-3,4,1],[4,-2,-3,4,1]}\n",
    "    -             1                               2           {[1],[4,1]}\n",
    "\n",
    "- minSum = 4x2 + (-2)x2 + (-3)x9 + 1x2 \n",
    "\n",
    "- But, we need to solve this in O(N) time. So, How can we find minSum without generating all sub array's???\n",
    "- Actually we can, with the help of monotonic stack.\n",
    "- monotonic stack stores data in either increasing or decreasing order.\n",
    "- minSum = 4x2 + (-2)x2 + (-3)x9 + 1x2 = -21\n",
    "- maxSum = 4x5 + (-2)x2 + (-3)x1 + 4x6 + 1x1 = 38\n",
    "\n",
    "- maxSum - minSum = 59\n",
    "          "
   ]
  },
  {
   "cell_type": "markdown",
   "metadata": {},
   "source": [
    "Brute force:"
   ]
  },
  {
   "cell_type": "code",
   "execution_count": null,
   "metadata": {},
   "outputs": [],
   "source": [
    "class Solution:\n",
    "    def subArrayRanges(self, nums: List[int]) -> int:\n",
    "        output = 0\n",
    "        \n",
    "        for i in range(len(nums)):\n",
    "            for j in range(1, len(nums)):\n",
    "                subarray = nums[i: j + 1]\n",
    "                if subarray:\n",
    "                    output += max(subarray) - min(subarray)\n",
    "                \n",
    "        return output"
   ]
  },
  {
   "cell_type": "markdown",
   "metadata": {},
   "source": [
    "Optimized:"
   ]
  },
  {
   "cell_type": "markdown",
   "metadata": {},
   "source": [
    "Compute the sum of all maxes in the array - the sum of all minimums\n",
    "- Use two monotonous stacks\n"
   ]
  },
  {
   "cell_type": "code",
   "execution_count": null,
   "metadata": {},
   "outputs": [],
   "source": [
    "def subArrayRanges(self, nums: List[int]) -> int:\n",
    "    minArr = [-float('inf')] + nums + [-float('inf')]\n",
    "    maxArr = [float('inf')] + nums + [float('inf')]\n",
    "    minStack, maxStack = [], []\n",
    "    minimums, maximums = 0, 0\n",
    "    \n",
    "    for i in range(len(minArr)):\n",
    "        while minStack and minArr[i] < minArr[minStack[-1]]:\n",
    "            target = minStack.pop()\n",
    "            left = target - minStack[-1]\n",
    "            right = i - target\n",
    "            minimums += minArr[target] * left * right\n",
    "        minStack.append(i)\n",
    "        \n",
    "    for i in range(len(maxArr)):\n",
    "        while maxStack and maxArr[i] > maxArr[maxStack[-1]]:\n",
    "            target = maxStack.pop()\n",
    "            left = target - maxStack[-1]\n",
    "            right = i - target\n",
    "            maximums += maxArr[target] * left * right\n",
    "        maxStack.append(i)\n",
    "    \n",
    "    return maximums - minimums"
   ]
  },
  {
   "cell_type": "code",
   "execution_count": null,
   "metadata": {},
   "outputs": [],
   "source": [
    "def subArrayRanges(self, nums: List[int]) -> int:\n",
    "    minSum, maxSum = 0,0\n",
    "    stack,n = [],len(nums)\n",
    "    \n",
    "    for nextSmaller in range(n+1):\n",
    "        while len(stack)>0 and (nextSmaller == n or nums[stack[-1]] > nums[nextSmaller]):\n",
    "            i = stack.pop()\n",
    "            prevSmaller = -1 if stack == [] else stack[-1]\n",
    "            minSum += nums[i]*(nextSmaller-i)*(i-prevSmaller)\n",
    "        stack.append(nextSmaller)\n",
    "\n",
    "    stack = []\n",
    "    for nextGreater in range(n+1):\n",
    "        while stack and (nextGreater == n or nums[stack[-1]] < nums[nextGreater]):\n",
    "            i = stack.pop()\n",
    "            prevGreater = -1 if stack == [] else stack[-1]\n",
    "            maxSum += nums[i]*(nextGreater-i)*(i-prevGreater)\n",
    "        stack.append(nextGreater)\n",
    "\n",
    "    return maxSum-minSum"
   ]
  }
 ],
 "metadata": {
  "language_info": {
   "name": "python"
  },
  "orig_nbformat": 4
 },
 "nbformat": 4,
 "nbformat_minor": 2
}
