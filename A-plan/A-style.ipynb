{
 "cells": [
  {
   "cell_type": "markdown",
   "metadata": {},
   "source": [
    "Analyze User Website\n",
    "\n",
    "Steps:\n",
    "\n",
    "- First put them all in a tuple/list\n",
    "- Sort it based on timestamp to ensure the correct order\n",
    "- Store user: website in a hash map\n",
    "- Create another hash map which takes the patterns\n",
    "- Traverse the user hash map, use the combination function and store it all in a set\n",
    "- Traverse through the set, and count the frequency of each pattern\n",
    "- Traverse pattern map, and find the pattern with the highest frequency. Pass the highest in output []\n",
    "- Check if list is greater than 1. If it is, sort output\n",
    "- Return output[0]\n",
    "\n",
    "Use combinations(iterator, r) which finds you all the combinations with a specified length r"
   ]
  },
  {
   "cell_type": "code",
   "execution_count": 1,
   "metadata": {},
   "outputs": [
    {
     "ename": "NameError",
     "evalue": "name 'List' is not defined",
     "output_type": "error",
     "traceback": [
      "\u001b[0;31m---------------------------------------------------------------------------\u001b[0m",
      "\u001b[0;31mNameError\u001b[0m                                 Traceback (most recent call last)",
      "\u001b[1;32m/Users/emanuelaseghehey/Development/leetcode-questions/A-plan/A-style.ipynb Cell 2\u001b[0m in \u001b[0;36m<module>\u001b[0;34m\u001b[0m\n\u001b[0;32m----> <a href='vscode-notebook-cell:/Users/emanuelaseghehey/Development/leetcode-questions/A-plan/A-style.ipynb#W0sZmlsZQ%3D%3D?line=0'>1</a>\u001b[0m \u001b[39mdef\u001b[39;00m \u001b[39mmostVisitedPattern\u001b[39m(\u001b[39mself\u001b[39m, username: List[\u001b[39mstr\u001b[39m], timestamp: List[\u001b[39mint\u001b[39m], website: List[\u001b[39mstr\u001b[39m]) \u001b[39m-\u001b[39m\u001b[39m>\u001b[39m List[\u001b[39mstr\u001b[39m]:\n\u001b[1;32m      <a href='vscode-notebook-cell:/Users/emanuelaseghehey/Development/leetcode-questions/A-plan/A-style.ipynb#W0sZmlsZQ%3D%3D?line=2'>3</a>\u001b[0m     tuples \u001b[39m=\u001b[39m []\n\u001b[1;32m      <a href='vscode-notebook-cell:/Users/emanuelaseghehey/Development/leetcode-questions/A-plan/A-style.ipynb#W0sZmlsZQ%3D%3D?line=3'>4</a>\u001b[0m     \u001b[39mfor\u001b[39;00m time, user, web \u001b[39min\u001b[39;00m \u001b[39mzip\u001b[39m(timestamp, username, website):\n",
      "\u001b[0;31mNameError\u001b[0m: name 'List' is not defined"
     ]
    }
   ],
   "source": [
    "def mostVisitedPattern(self, username: List[str], timestamp: List[int], website: List[str]) -> List[str]:\n",
    "    \n",
    "    tuples = []\n",
    "    for time, user, web in zip(timestamp, username, website):\n",
    "        tuples.append([time, user, web])\n",
    "    \n",
    "    tuples.sort(key=lambda x:x[0])\n",
    "    userWebsites = defaultdict(list)\n",
    "    \n",
    "    for time, user, web in tuples:\n",
    "        userWebsites[user].append(web)\n",
    "    \n",
    "    patterns = defaultdict(int)\n",
    "    for k in userWebsites.keys():\n",
    "        combs = set(combinations(userWebsites[k], 3))\n",
    "        for comb in combs:\n",
    "            patterns[comb] += 1\n",
    "    \n",
    "    maxvalue = max(patterns.values())\n",
    "    output = []\n",
    "    for pattern, val in patterns.items():\n",
    "        if val == maxvalue:\n",
    "            output.append(pattern)\n",
    "            \n",
    "    if len(output) > 1:    \n",
    "        output.sort()    \n",
    "        \n",
    "    return output[0]\n",
    "        "
   ]
  },
  {
   "cell_type": "markdown",
   "metadata": {},
   "source": [
    "Course Schedule:\n",
    "\n",
    "- Graph problem:\n",
    "    - Create adj List for all the courses in range num course. Set them to []\n",
    "    - Populate adj List\n",
    "    - Do dfs. Check for cycles. Return False when course is in set. Return true if schedule[course] = []. Return True.\n",
    "    - Go through prereqs in schedule[course]\n",
    "    - Run dfs on prereqs, if returns False --> immediate return False\n",
    "    - Remove course from the visit set, make it map to an empty string\n",
    "    - Call dfs on each course in numCourses. Return false immediately if we see a False value"
   ]
  },
  {
   "cell_type": "code",
   "execution_count": null,
   "metadata": {},
   "outputs": [],
   "source": [
    "def canFinish(self, numCourses: int, prerequisites: List[List[int]]) -> bool:\n",
    "    schedule = {i: [] for i in range(numCourses)}\n",
    "    for course, prereq in prerequisites:\n",
    "        schedule[course].append(prereq)\n",
    "        \n",
    "    visit = set()\n",
    "    def dfs(course):\n",
    "        if course in visit:\n",
    "            return False\n",
    "        \n",
    "        if schedule[course] == []:\n",
    "            return True\n",
    "        \n",
    "        visit.add(course)\n",
    "        \n",
    "        for pre in schedule[course]:\n",
    "            if not dfs(pre):\n",
    "                return False\n",
    "            \n",
    "        visit.remove(course)\n",
    "        schedule[course] = []\n",
    "        \n",
    "        return True\n",
    "    \n",
    "    for course in range(numCourses):\n",
    "        if not dfs(course): return False\n",
    "        \n",
    "    return True"
   ]
  },
  {
   "cell_type": "markdown",
   "metadata": {},
   "source": [
    "Missing number in array"
   ]
  },
  {
   "cell_type": "code",
   "execution_count": null,
   "metadata": {},
   "outputs": [],
   "source": [
    "def missingnumber(arr):\n",
    "    arr.sort()\n",
    "    for i in range(1, len(arr)):\n",
    "        if arr[i] - 1 != arr[i - 1]:\n",
    "            return arr[i] - 1\n",
    "\n",
    "def missingnumber_optimal(arr):\n",
    "    expected = [i for i in range(1, len(arr) + 2)]\n",
    "    return sum(expected) - sum(arr)"
   ]
  },
  {
   "cell_type": "markdown",
   "metadata": {},
   "source": [
    "Integer to Roman\n",
    "- IV: 4 \n",
    "- IX: 9\n",
    "- XL: 40\n",
    "- XC: 90\n",
    "- CD: 400\n",
    "- CM: 900"
   ]
  },
  {
   "cell_type": "code",
   "execution_count": null,
   "metadata": {},
   "outputs": [],
   "source": [
    "import math\n",
    "def intToRoman(self, num: int) -> str:\n",
    "    roman = [['I', 1], ['IV', 4], ['V', 5], ['IX', 9], ['X', 10], ['XL', 40], ['L', 50], ['XC', 90], ['C',100], ['CD', 400], ['D', 500], ['CM', 900], ['M', 1000]]\n",
    "    \n",
    "    output = ''\n",
    "    for w, n in roman[::-1]:\n",
    "        if num == 0:\n",
    "            return output\n",
    "        \n",
    "        count = math.floor(num / n)\n",
    "        if count:\n",
    "            num = num % n\n",
    "            \n",
    "        for i in range(count):\n",
    "            output += w\n",
    "        \n",
    "    return output"
   ]
  },
  {
   "cell_type": "markdown",
   "metadata": {},
   "source": [
    "Maximum sub array\n",
    "\n",
    "Optimized (Kadane's algorithm):\n",
    "- Initialize 2 variables. Current and Max_SubArray which both equal to nums[0]\n",
    "- Iterate through nums[1:]\n",
    "- Count sum and store it in current. If it ever becomes negative or 0, we set it to the current number we're at \n",
    "- Update Max_SubArray to the max so far\n",
    "- Return Max_Subarray"
   ]
  },
  {
   "cell_type": "code",
   "execution_count": null,
   "metadata": {},
   "outputs": [],
   "source": [
    "def maxSubArray(self, nums: List[int]) -> int:\n",
    "    current = maximum = nums[0]\n",
    "    for num in nums[1:]:\n",
    "        current = max(current + num, num)\n",
    "        maximum = max(current, maximum)\n",
    "    return maximum\n",
    "\n",
    "def maxSubArray(self, nums: List[int]) -> int:\n",
    "    maximum = -float('inf')\n",
    "    for i in range(len(nums)):\n",
    "        cur_sum = 0\n",
    "        for j in range(i, len(nums)):\n",
    "            cur_sum += nums[j]\n",
    "            maximum = max(maximum, cur_sum)\n",
    "    return maximum"
   ]
  },
  {
   "cell_type": "markdown",
   "metadata": {},
   "source": [
    "Meeting Rooms"
   ]
  },
  {
   "cell_type": "code",
   "execution_count": null,
   "metadata": {},
   "outputs": [],
   "source": [
    "def minMeetingRooms(self, intervals: List[List[int]]) -> int:\n",
    "    free = []\n",
    "    intervals.sort(key = lambda x: x[0])\n",
    "    \n",
    "    heapq.heappush(free, intervals[0][1])\n",
    "    \n",
    "    for i in intervals[1:]:\n",
    "        if free[0] <= i[0]:\n",
    "            heapq.heappop(free)\n",
    "        heapq.heappush(free, i[1])\n",
    "    \n",
    "    return len(free)"
   ]
  },
  {
   "cell_type": "markdown",
   "metadata": {},
   "source": [
    "Merge Intervals"
   ]
  },
  {
   "cell_type": "code",
   "execution_count": null,
   "metadata": {},
   "outputs": [],
   "source": [
    "def merge(self, intervals: List[List[int]]) -> List[List[int]]:\n",
    "    \n",
    "    intervals.sort(key = lambda i : i[0])\n",
    "    merge = [intervals[0]]\n",
    "    \n",
    "    for a,b in intervals[1:]:\n",
    "        if a <= merge[-1][1]:\n",
    "            merge[-1][1] = max(b, merge[-1][1])\n",
    "        else:\n",
    "            merge.append([a,b])\n",
    "    return merge"
   ]
  },
  {
   "cell_type": "markdown",
   "metadata": {},
   "source": [
    "Parking System"
   ]
  },
  {
   "cell_type": "code",
   "execution_count": null,
   "metadata": {},
   "outputs": [],
   "source": [
    "class ParkingSystem:\n",
    "    def __init__(self, big: int, medium: int, small: int):\n",
    "        self.b = big\n",
    "        self.m = medium\n",
    "        self.s = small\n",
    "\n",
    "    def addCar(self, carType: int) -> bool:\n",
    "        if carType == 1:\n",
    "            self.b -= 1\n",
    "            return self.b > -1\n",
    "        elif carType == 2:\n",
    "            self.m -= 1\n",
    "            return self.m > -1\n",
    "        else:\n",
    "            self.s -= 1\n",
    "            return self.s > -1"
   ]
  },
  {
   "cell_type": "markdown",
   "metadata": {},
   "source": [
    "Reorganize string"
   ]
  },
  {
   "cell_type": "code",
   "execution_count": null,
   "metadata": {},
   "outputs": [],
   "source": [
    "def reorganizeString(self, s: str) -> str:\n",
    "    hp = [(-v, c) for c, v in Counter(s).items()]\n",
    "    prevA, prevB = 0, ''\n",
    "    heapq.heapify(hp)\n",
    "    res = []\n",
    "    while hp:\n",
    "        a, b = heapq.heappop(hp)\n",
    "        res += [b]\n",
    "        \n",
    "        if prevA < 0:\n",
    "            heapq.heappush(hp,(prevA, prevB))\n",
    "        a += 1\n",
    "        prevA, prevB = a, b\n",
    "        \n",
    "    res = ''.join(res)\n",
    "    \n",
    "    return res if len(res) == len(s) else \"\""
   ]
  },
  {
   "cell_type": "markdown",
   "metadata": {},
   "source": [
    "Max product\n",
    "- Keep track of a maximum and a minimum to account for the case when num < 0\n",
    "- Set maximum and minimum to 1, whenever we find a 0. Because multiplication with 0 = 0\n",
    "- Traverse nums, keep track of min and max\n",
    "- Set output to max of output and maximum"
   ]
  },
  {
   "cell_type": "code",
   "execution_count": null,
   "metadata": {},
   "outputs": [],
   "source": [
    "def maxProduct(self, nums: List[int]) -> int:\n",
    "    minimum = maximum = 1\n",
    "    output = max(nums)\n",
    "    \n",
    "    for num in nums:\n",
    "        if num == 0:\n",
    "            maximum = minimum = 1\n",
    "            continue\n",
    "        \n",
    "        temp = maximum * num\n",
    "        maximum = max(maximum * num, minimum * num, num)\n",
    "        minimum = min(minimum * num, temp, num)\n",
    "        \n",
    "        output = max(output, maximum)\n",
    "    \n",
    "    return output"
   ]
  },
  {
   "cell_type": "markdown",
   "metadata": {},
   "source": [
    "Search suggested products"
   ]
  },
  {
   "cell_type": "code",
   "execution_count": null,
   "metadata": {},
   "outputs": [],
   "source": [
    "def suggestedProducts(self, products: List[str], searchWord: str) -> List[List[str]]:\n",
    "    res = []\n",
    "    products.sort()\n",
    "    \n",
    "    for i in range(len(searchWord)):\n",
    "        cur = []\n",
    "        for j in range(len(products)):\n",
    "            if searchWord[:i + 1] == products[j][:i + 1]:\n",
    "                cur.append(products[j])\n",
    "                \n",
    "        products = cur\n",
    "        res.append(cur[:3])\n",
    "        \n",
    "    return res\n",
    "\n",
    "def suggestedProducts(self, products: List[str], searchWord: str) -> List[List[str]]:\n",
    "    res = []\n",
    "    products.sort()\n",
    "    \n",
    "    for i, char in enumerate(searchWord):\n",
    "        tmp = []\n",
    "        for product in products:\n",
    "            if len(product) > i and product[i] == char:\n",
    "                tmp.append(product)\n",
    "                \n",
    "        products = tmp\n",
    "        res.append(tmp[:3])\n",
    "    return res"
   ]
  },
  {
   "cell_type": "markdown",
   "metadata": {},
   "source": [
    "Code to find permutations of strings:\n",
    "\n",
    "Runs in O(n*n!)"
   ]
  },
  {
   "cell_type": "code",
   "execution_count": 21,
   "metadata": {},
   "outputs": [
    {
     "data": {
      "text/plain": [
       "['hey', 'hye', 'ehy', 'eyh', 'yeh', 'yhe']"
      ]
     },
     "execution_count": 21,
     "metadata": {},
     "output_type": "execute_result"
    }
   ],
   "source": [
    "def permute(a, l, r, answer):\n",
    "    if l == r:\n",
    "        answer.append(''.join(a))\n",
    "    else:\n",
    "        for i in range(l, r):\n",
    "            a[l], a[i] = a[i], a[l]\n",
    "            permute(a, l + 1, r, answer)\n",
    "            a[l], a[i] = a[i], a[l]\n",
    "\n",
    "strs = 'hey'\n",
    "n = len(strs)\n",
    "strs = list(strs)\n",
    "answer = []\n",
    "permute(strs, 0, n, answer)\n",
    "\n",
    "answer"
   ]
  }
 ],
 "metadata": {
  "kernelspec": {
   "display_name": "Python 3.9.7 64-bit",
   "language": "python",
   "name": "python3"
  },
  "language_info": {
   "codemirror_mode": {
    "name": "ipython",
    "version": 3
   },
   "file_extension": ".py",
   "mimetype": "text/x-python",
   "name": "python",
   "nbconvert_exporter": "python",
   "pygments_lexer": "ipython3",
   "version": "3.9.7"
  },
  "orig_nbformat": 4,
  "vscode": {
   "interpreter": {
    "hash": "aee8b7b246df8f9039afb4144a1f6fd8d2ca17a180786b69acc140d282b71a49"
   }
  }
 },
 "nbformat": 4,
 "nbformat_minor": 2
}
