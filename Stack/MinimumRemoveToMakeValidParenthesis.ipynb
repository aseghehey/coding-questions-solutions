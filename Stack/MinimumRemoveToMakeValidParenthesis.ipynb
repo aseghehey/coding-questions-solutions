{
 "cells": [
  {
   "cell_type": "markdown",
   "metadata": {},
   "source": [
    "**Steps:**\n",
    "- So, we iterate through the whole string and basically try to see if the open parenthesis can be closed\n",
    "- if it's not a open parenthesis and the stack is empty, that means we need to ignore it for our final answer\n",
    "- If the stack is non empty, then we know that the set of parenthesis we're looking at is valid\n",
    "- We need to check for those indexes (opening or closing parenthesis) that never got to be verified as valid and add it to our set of \"to remove\" indexes\n",
    "- Once that's done, we iterate again through the string and add the characters that have indexes outside of the \"to remove\" set"
   ]
  },
  {
   "cell_type": "code",
   "execution_count": null,
   "metadata": {},
   "outputs": [],
   "source": [
    "def minRemoveToMakeValid(self, s: str) -> str:\n",
    "    if not s: return ''\n",
    "    \n",
    "    ans = ''\n",
    "    stack = []\n",
    "    torem = set()\n",
    "    for i, ch in enumerate(s):\n",
    "        if ch not in '()':\n",
    "            continue\n",
    "            \n",
    "        if ch == '(':\n",
    "            stack.append(i) \n",
    "        elif not stack:\n",
    "            torem.add(i)\n",
    "        else:\n",
    "            stack.pop()\n",
    "            \n",
    "    while stack:\n",
    "        torem.add(stack.pop())\n",
    "        \n",
    "    for i, ch in enumerate(s):\n",
    "        if i not in torem:\n",
    "            ans += ch\n",
    "    return ans"
   ]
  }
 ],
 "metadata": {
  "language_info": {
   "name": "python"
  },
  "orig_nbformat": 4
 },
 "nbformat": 4,
 "nbformat_minor": 2
}
