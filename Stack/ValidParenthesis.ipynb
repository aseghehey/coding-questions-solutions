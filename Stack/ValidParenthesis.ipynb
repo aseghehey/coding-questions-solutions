{
 "cells": [
  {
   "cell_type": "markdown",
   "metadata": {},
   "source": [
    "- Make a map with the closing parenthesis as keys, and the opening parenthesis as values.\n",
    "\n",
    "- Make a stack and append to it if its a opening parenthesis.\n",
    "\n",
    "- Else, if stack is empty or the value of the map is not the last value in the stack, return False"
   ]
  },
  {
   "cell_type": "code",
   "execution_count": null,
   "metadata": {},
   "outputs": [],
   "source": [
    "def isValid(self, s):\n",
    "    valid = {']':'[','}':'{',')':'('}\n",
    "    stack = []\n",
    "    \n",
    "    for char in s:\n",
    "        if char in valid.values():\n",
    "            stack.append(char)\n",
    "        else:\n",
    "            if (stack==[]) or valid[char] != stack.pop():\n",
    "                return False\n",
    "            \n",
    "    return len(stack)==0"
   ]
  }
 ],
 "metadata": {
  "kernelspec": {
   "display_name": "Python 3.9.7 64-bit",
   "language": "python",
   "name": "python3"
  },
  "language_info": {
   "name": "python",
   "version": "3.9.7"
  },
  "orig_nbformat": 4,
  "vscode": {
   "interpreter": {
    "hash": "aee8b7b246df8f9039afb4144a1f6fd8d2ca17a180786b69acc140d282b71a49"
   }
  }
 },
 "nbformat": 4,
 "nbformat_minor": 2
}
