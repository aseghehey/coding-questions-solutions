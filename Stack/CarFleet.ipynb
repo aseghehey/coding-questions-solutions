{
 "cells": [
  {
   "cell_type": "markdown",
   "metadata": {},
   "source": [
    "Really nice solution. Definitely didn't think of it in terms of math but it helps a lot and the goal is to calculate the time with which cars will arrive at the target, from there we can see which will arrive at the same time. We keep the cars that will arrive at different times, on the stack and we return the length of the stack which is equivalent to the number of car fleets."
   ]
  },
  {
   "cell_type": "code",
   "execution_count": null,
   "metadata": {},
   "outputs": [],
   "source": [
    "def carFleet(self, target: int, position: List[int], speed: List[int]) -> int:\n",
    "    cars = [[pos, vel] for pos, vel in zip(position, speed)]\n",
    "    stack = []\n",
    "    for pos, vel in sorted(cars)[::-1]:\n",
    "        time = (target - pos) / vel\n",
    "        stack.append(time)\n",
    "        \n",
    "        if len(stack) >= 2 and stack[-1] <= stack[-2]:\n",
    "            stack.pop()\n",
    "    return len(stack)"
   ]
  }
 ],
 "metadata": {
  "kernelspec": {
   "display_name": "Python 3.9.7 64-bit",
   "language": "python",
   "name": "python3"
  },
  "language_info": {
   "name": "python",
   "version": "3.9.7"
  },
  "orig_nbformat": 4,
  "vscode": {
   "interpreter": {
    "hash": "aee8b7b246df8f9039afb4144a1f6fd8d2ca17a180786b69acc140d282b71a49"
   }
  }
 },
 "nbformat": 4,
 "nbformat_minor": 2
}
