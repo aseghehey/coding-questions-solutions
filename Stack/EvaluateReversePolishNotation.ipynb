{
 "cells": [
  {
   "attachments": {},
   "cell_type": "markdown",
   "metadata": {},
   "source": [
    "Pretty straight forward... beats 90%"
   ]
  },
  {
   "cell_type": "code",
   "execution_count": null,
   "metadata": {},
   "outputs": [],
   "source": [
    "def evalRPN(self, tokens: List[str]) -> int:\n",
    "    stack = []\n",
    "\n",
    "    def compute(o1, o2, opp):\n",
    "        if opp == \"+\":\n",
    "            return o1 + o2\n",
    "        if opp == \"-\":\n",
    "            return o1 - o2\n",
    "        if opp == \"*\":\n",
    "            return o1 * o2\n",
    "        return int(o1 / o2)\n",
    "\n",
    "    for token in tokens:\n",
    "        if token in [\"-\", \"*\", \"/\", \"+\"]:\n",
    "            first = stack.pop()\n",
    "            second = stack.pop()\n",
    "            stack.append(compute(second, first, token))\n",
    "        else:\n",
    "            stack.append(int(token))\n",
    "    return stack.pop()"
   ]
  }
 ],
 "metadata": {
  "language_info": {
   "name": "python"
  },
  "orig_nbformat": 4
 },
 "nbformat": 4,
 "nbformat_minor": 2
}
