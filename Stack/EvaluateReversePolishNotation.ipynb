{
 "cells": [
  {
   "cell_type": "markdown",
   "metadata": {},
   "source": [
    "Pretty straight forward"
   ]
  },
  {
   "cell_type": "code",
   "execution_count": null,
   "metadata": {},
   "outputs": [],
   "source": [
    "def evalRPN(self, tokens: List[str]) -> int:\n",
    "    stack = []\n",
    "    operations = {'+', '-', '/', '*'}\n",
    "    for o in tokens:\n",
    "        if o in operations:\n",
    "            o2 = int(stack.pop())\n",
    "            o1 = int(stack.pop())\n",
    "            \n",
    "            if o == '+': # addition\n",
    "                stack.append(o1 + o2)\n",
    "            elif o == '/': # division\n",
    "                stack.append(int(o1 / o2))\n",
    "            elif o == '*': # multiplication\n",
    "                stack.append(o1 * o2)\n",
    "            else: # subtraction\n",
    "                stack.append(o1 - o2)\n",
    "        else:\n",
    "            stack.append(o)\n",
    "            \n",
    "    return stack[-1]"
   ]
  }
 ],
 "metadata": {
  "language_info": {
   "name": "python"
  },
  "orig_nbformat": 4
 },
 "nbformat": 4,
 "nbformat_minor": 2
}
