{
 "cells": [
  {
   "cell_type": "markdown",
   "metadata": {},
   "source": [
    "This is my original solution which is unfortunately very slow but passes all the test cases.\n",
    "\n",
    "There's the actual implementation on the HashTables folder."
   ]
  },
  {
   "cell_type": "code",
   "execution_count": null,
   "metadata": {},
   "outputs": [],
   "source": [
    "class Node:\n",
    "    def __init__(self,k,v):\n",
    "        self.key = k\n",
    "        self.value = v\n",
    "        self.next = None\n",
    "\n",
    "class MyHashMap:\n",
    "\n",
    "    def __init__(self):\n",
    "        self.head = None\n",
    "\n",
    "    def put(self, key: int, value: int) -> None:\n",
    "        newnode = Node(key,value)\n",
    "        if not self.head:\n",
    "            self.head = newnode\n",
    "        else:\n",
    "            cur = self.head\n",
    "            while cur:\n",
    "                \n",
    "                if cur.key == key:\n",
    "                    cur.value = value\n",
    "                    break\n",
    "                    \n",
    "                if cur.next is None:\n",
    "                    cur.next = newnode\n",
    "                    \n",
    "                cur = cur.next\n",
    "\n",
    "    def get(self, key: int) -> int:\n",
    "        if self.head:\n",
    "            cur = self.head\n",
    "            while cur:\n",
    "                if cur.key == key:\n",
    "                    return cur.value\n",
    "                cur=cur.next\n",
    "        return -1\n",
    "\n",
    "    def remove(self, key: int) -> None:\n",
    "        if self.head:\n",
    "            cur = self.head\n",
    "            prev = None\n",
    "\n",
    "            if cur.key == key:\n",
    "                self.head = cur.next\n",
    "                cur = None\n",
    "                return\n",
    "            \n",
    "            while cur:\n",
    "                if cur.key == key:\n",
    "                    break\n",
    "                prev = cur\n",
    "                cur=cur.next\n",
    "                \n",
    "            if cur:\n",
    "                prev.next = cur.next\n",
    "                cur = None\n",
    "                return\n",
    "            \n",
    "        return\n",
    "      \n",
    "      \n",
    "    \n"
   ]
  }
 ],
 "metadata": {
  "kernelspec": {
   "display_name": "Python 3.9.7 64-bit",
   "language": "python",
   "name": "python3"
  },
  "language_info": {
   "name": "python",
   "version": "3.9.7"
  },
  "orig_nbformat": 4,
  "vscode": {
   "interpreter": {
    "hash": "aee8b7b246df8f9039afb4144a1f6fd8d2ca17a180786b69acc140d282b71a49"
   }
  }
 },
 "nbformat": 4,
 "nbformat_minor": 2
}
