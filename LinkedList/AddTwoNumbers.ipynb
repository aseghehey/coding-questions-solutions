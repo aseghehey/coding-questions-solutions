{
 "cells": [
  {
   "cell_type": "markdown",
   "metadata": {},
   "source": [
    "Here's my brute force approach to this problem, which is to basically go through both lists and get the string of all digits, then reverse them, convert it to an int and add the two.\n",
    "\n",
    "Then I flip the result, and put it on a new list, then return it\n",
    "\n",
    "It works but it's very SLOW"
   ]
  },
  {
   "cell_type": "code",
   "execution_count": null,
   "metadata": {},
   "outputs": [],
   "source": [
    "def addTwoNumbers(self, l1: Optional[ListNode], l2: Optional[ListNode]) -> Optional[ListNode]:\n",
    "    dummy1, dummy2 = l1, l2\n",
    "    o1, o2 = '', ''\n",
    "    \n",
    "    while dummy1:\n",
    "        o1 += str(dummy1.val)\n",
    "        dummy1 = dummy1.next\n",
    "        \n",
    "    while dummy2:\n",
    "        o2 += str(dummy2.val)\n",
    "        dummy2 = dummy2.next\n",
    "    \n",
    "    res1 = int(o1[::-1]) + int(o2[::-1])\n",
    "    res1 = str(res1)[::-1]        \n",
    "    ans = ListNode(res1[0])\n",
    "    \n",
    "    dummy = ans\n",
    "    for d in res1[1:]:\n",
    "        node = ListNode(d)\n",
    "        dummy.next = node\n",
    "        dummy = dummy.next\n",
    "        \n",
    "    return ans"
   ]
  },
  {
   "cell_type": "markdown",
   "metadata": {},
   "source": [
    "The solution to this problem is way more intuitive.\n",
    "\n",
    "We take care of carries and use modulo to get the actual value"
   ]
  },
  {
   "cell_type": "code",
   "execution_count": null,
   "metadata": {},
   "outputs": [],
   "source": [
    "def addTwoNumbers(self, l1: ListNode, l2: ListNode) -> ListNode:\n",
    "    dummy = ListNode()\n",
    "    cur = dummy\n",
    "\n",
    "    carry = 0\n",
    "    while l1 or l2 or carry:\n",
    "        v1 = l1.val if l1 else 0\n",
    "        v2 = l2.val if l2 else 0\n",
    "\n",
    "        # new digit\n",
    "        val = v1 + v2 + carry\n",
    "        carry = val // 10 # find out if there\n",
    "        val = val % 10\n",
    "        cur.next = ListNode(val)\n",
    "\n",
    "        # update ptrs\n",
    "        cur = cur.next\n",
    "        l1 = l1.next if l1 else None\n",
    "        l2 = l2.next if l2 else None\n",
    "\n",
    "    return dummy.next"
   ]
  }
 ],
 "metadata": {
  "language_info": {
   "name": "python"
  },
  "orig_nbformat": 4
 },
 "nbformat": 4,
 "nbformat_minor": 2
}
