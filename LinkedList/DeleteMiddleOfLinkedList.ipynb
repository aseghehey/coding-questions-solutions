{
 "cells": [
  {
   "cell_type": "code",
   "execution_count": null,
   "metadata": {},
   "outputs": [],
   "source": [
    "def deleteMiddle(self, head: Optional[ListNode]) -> Optional[ListNode]:\n",
    "    \n",
    "    if not head or not head.next:\n",
    "        return None\n",
    "    \n",
    "    prev = head\n",
    "    slow, fast = head.next, head.next.next\n",
    "    \n",
    "    while fast and fast.next:\n",
    "        prev = slow\n",
    "        slow = slow.next\n",
    "        fast = fast.next.next\n",
    "    \n",
    "    prev.next = slow.next\n",
    "    del slow\n",
    "    \n",
    "    return head"
   ]
  }
 ],
 "metadata": {
  "language_info": {
   "name": "python"
  },
  "orig_nbformat": 4
 },
 "nbformat": 4,
 "nbformat_minor": 2
}
