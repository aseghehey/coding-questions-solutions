{
 "cells": [
  {
   "cell_type": "markdown",
   "metadata": {},
   "source": [
    "The optimal solution makes use of the tortoise and hare technique where we have two pointers, one slow and one that's fast.\n",
    "\n",
    "In this particular case, the fast pointer moves twice as fast as the slow one. And we return True when they meet, if there is a cycle then they are bound to meet at one point.\n",
    "\n",
    "We return false as soon as it exits the loop as that would show that a node points to Null, emphasizing the end of it, which allows us to make the conclusion of no cycle.\n",
    "\n",
    "Runtime: O(n), Memory: O(1)"
   ]
  },
  {
   "cell_type": "code",
   "execution_count": null,
   "metadata": {},
   "outputs": [],
   "source": [
    "def hasCycle(self, head: Optional[ListNode]) -> bool:\n",
    "    slow, fast = head, head\n",
    "    \n",
    "    while fast and fast.next:\n",
    "        \n",
    "        slow = slow.next\n",
    "        fast = fast.next.next\n",
    "        \n",
    "        if fast==slow:\n",
    "            return True\n",
    "        \n",
    "    return False"
   ]
  },
  {
   "cell_type": "markdown",
   "metadata": {},
   "source": [
    "This was my original solution. It works but its no the most optimal.\n",
    "\n",
    "Basically, i make a hash set where I add all the nodes we have visited so far and if they appear again, we return True, meaning it's a cycle. \n",
    "\n",
    "Else, we return False\n",
    "\n",
    "The solution is O(n) for both runtime and memory"
   ]
  },
  {
   "cell_type": "code",
   "execution_count": null,
   "metadata": {},
   "outputs": [],
   "source": [
    "def hasCycle(self, head: Optional[ListNode]) -> bool:\n",
    "    if not head:\n",
    "        return False\n",
    "    seen = set()\n",
    "    cur = head\n",
    "    while cur:\n",
    "        if cur in seen:\n",
    "            return True\n",
    "        seen.add(cur)\n",
    "        cur=cur.next\n",
    "    return False"
   ]
  }
 ],
 "metadata": {
  "language_info": {
   "name": "python"
  },
  "orig_nbformat": 4
 },
 "nbformat": 4,
 "nbformat_minor": 2
}
