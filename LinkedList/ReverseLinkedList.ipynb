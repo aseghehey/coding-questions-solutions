{
 "cells": [
  {
   "cell_type": "code",
   "execution_count": null,
   "metadata": {},
   "outputs": [],
   "source": [
    "def reverseList(self, head: Optional[ListNode]) -> Optional[ListNode]:\n",
    "    prev,cur = None, head\n",
    "    while cur:\n",
    "        nxt = cur.next\n",
    "        cur.next = prev\n",
    "        prev = cur\n",
    "        cur = nxt\n",
    "    return prev"
   ]
  },
  {
   "cell_type": "code",
   "execution_count": null,
   "metadata": {},
   "outputs": [],
   "source": [
    "def reverseList(self, head: Optional[ListNode]) -> Optional[ListNode]:\n",
    "    cur = head\n",
    "    help_arr = []\n",
    "    while cur:\n",
    "        help_arr.append(cur.val)\n",
    "        cur=cur.next\n",
    "    res = ListNode()\n",
    "    d1 = res\n",
    "    for vals in help_arr[::-1]:\n",
    "        dummy = ListNode(vals)\n",
    "        d1.next = dummy\n",
    "        d1 = d1.next\n",
    "        \n",
    "    return res.next"
   ]
  }
 ],
 "metadata": {
  "language_info": {
   "name": "python"
  },
  "orig_nbformat": 4
 },
 "nbformat": 4,
 "nbformat_minor": 2
}
