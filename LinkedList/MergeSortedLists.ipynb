{
 "cells": [
  {
   "cell_type": "markdown",
   "metadata": {},
   "source": [
    "My initial approach was the following:\n",
    "\n",
    "Though slow, it passes all the testcases."
   ]
  },
  {
   "cell_type": "code",
   "execution_count": null,
   "metadata": {},
   "outputs": [],
   "source": [
    "def mergeTwoLists(self, list1: Optional[ListNode], list2: Optional[ListNode]) -> Optional[ListNode]:\n",
    "    def insert(root, number):\n",
    "        node = ListNode(number)\n",
    "        if not root:\n",
    "            root = node\n",
    "            return\n",
    "        cur = root\n",
    "        while cur:\n",
    "            if cur.next == None:\n",
    "                break\n",
    "            cur=cur.next\n",
    "        cur.next = node\n",
    "        \n",
    "    cur1 = list1\n",
    "    cur2 = list2\n",
    "    ans = []\n",
    "    \n",
    "    while cur1:\n",
    "        ans.append(cur1.val)\n",
    "        cur1=cur1.next\n",
    "    while cur2:\n",
    "        ans.append(cur2.val)\n",
    "        cur2=cur2.next\n",
    "    \n",
    "    ans.sort()\n",
    "    print(ans)\n",
    "    root = ListNode()\n",
    "    temp = ListNode()\n",
    "    for i in range(len(ans)):\n",
    "        insert(root, ans[i])\n",
    "    return root.next"
   ]
  }
 ],
 "metadata": {
  "kernelspec": {
   "display_name": "Python 3.9.7 64-bit",
   "language": "python",
   "name": "python3"
  },
  "language_info": {
   "name": "python",
   "version": "3.9.7"
  },
  "orig_nbformat": 4,
  "vscode": {
   "interpreter": {
    "hash": "aee8b7b246df8f9039afb4144a1f6fd8d2ca17a180786b69acc140d282b71a49"
   }
  }
 },
 "nbformat": 4,
 "nbformat_minor": 2
}
