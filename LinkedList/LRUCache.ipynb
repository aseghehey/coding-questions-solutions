{
 "cells": [
  {
   "cell_type": "markdown",
   "metadata": {},
   "source": [
    "Keep least recently used right after header\n",
    "\n",
    "and\n",
    "\n",
    "Most recently used right before trailer"
   ]
  },
  {
   "cell_type": "code",
   "execution_count": null,
   "metadata": {},
   "outputs": [],
   "source": [
    "class Node:\n",
    "    def __init__(self, key, val):\n",
    "        self.key = key\n",
    "        self.val = val\n",
    "        self.next = self.prev = None\n",
    "\n",
    "class LRUCache:\n",
    "\n",
    "    def __init__(self, capacity: int):\n",
    "        self.capacity = capacity\n",
    "        self.cache = {}\n",
    "        \n",
    "        self.header, self.trailer = Node(0, 0), Node(0, 0)\n",
    "        self.header.next = self.trailer\n",
    "        self.trailer.prev = self.header\n",
    "    \n",
    "    def remove(self, node):\n",
    "        before, after = node.prev, node.next\n",
    "        before.next, after.prev = after, before\n",
    "        \n",
    "    def insert(self, node):\n",
    "        before, after = self.trailer.prev, self.trailer\n",
    "        before.next = after.prev = node\n",
    "        node.prev, node.next = before, after\n",
    "    \n",
    "    def get(self, key: int) -> int:\n",
    "        if key in self.cache:\n",
    "            self.remove(self.cache[key])\n",
    "            self.insert(self.cache[key])\n",
    "            return self.cache[key].val\n",
    "        return -1\n",
    "    \n",
    "    def put(self, key: int, value: int) -> None:\n",
    "        if key in self.cache:\n",
    "            self.remove(self.cache[key])\n",
    "        \n",
    "        self.cache[key] = Node(key, value)\n",
    "        self.insert(self.cache[key])\n",
    "        \n",
    "        if len(self.cache) > self.capacity:\n",
    "            lru = self.header.next\n",
    "            self.remove(lru)\n",
    "            del self.cache[lru.key]"
   ]
  }
 ],
 "metadata": {
  "language_info": {
   "name": "python"
  },
  "orig_nbformat": 4
 },
 "nbformat": 4,
 "nbformat_minor": 2
}
