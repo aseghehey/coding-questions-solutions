{
 "cells": [
  {
   "cell_type": "code",
   "execution_count": null,
   "metadata": {},
   "outputs": [],
   "source": [
    "def pairSum(self, head: Optional[ListNode]) -> int:\n",
    "    curr = head\n",
    "    arr = []\n",
    "    while curr:\n",
    "        arr.append(curr.val)\n",
    "        curr = curr.next\n",
    "    \n",
    "    curr = 0\n",
    "    for i in range(len(arr)//2):\n",
    "        curr = max(curr, arr[i] + arr[len(arr) - 1 - i])\n",
    "    return curr\n",
    "        "
   ]
  },
  {
   "cell_type": "code",
   "execution_count": null,
   "metadata": {},
   "outputs": [],
   "source": [
    "def pairSum(self, head: Optional[ListNode]) -> int:\n",
    "    twinSum = 0 \n",
    "    slow = head\n",
    "    fast = head\n",
    "    \n",
    "    while fast and fast.next:\n",
    "        slow = slow.next\n",
    "        fast = fast.next.next\n",
    "        \n",
    "    # reversal from middle node to last\n",
    "    prev = None\n",
    "    present = slow\n",
    "    future = slow.next\n",
    "    \n",
    "    while present:\n",
    "        present.next = prev\n",
    "        prev = present\n",
    "        present = future\n",
    "        if future:\n",
    "            future = future.next\n",
    "            \n",
    "    # from new mid element and ith elemnt all are twin now check each twin sum\n",
    "    temp = head\n",
    "    while prev:\n",
    "        twinSum = max(twinSum,(temp.val+prev.val))\n",
    "        prev = prev.next\n",
    "        temp = temp.next\n",
    "        \n",
    "    return twinSum"
   ]
  }
 ],
 "metadata": {
  "kernelspec": {
   "display_name": "Python 3.9.7 64-bit",
   "language": "python",
   "name": "python3"
  },
  "language_info": {
   "name": "python",
   "version": "3.9.7"
  },
  "orig_nbformat": 4,
  "vscode": {
   "interpreter": {
    "hash": "aee8b7b246df8f9039afb4144a1f6fd8d2ca17a180786b69acc140d282b71a49"
   }
  }
 },
 "nbformat": 4,
 "nbformat_minor": 2
}
