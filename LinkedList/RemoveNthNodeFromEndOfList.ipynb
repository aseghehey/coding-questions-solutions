{
 "cells": [
  {
   "cell_type": "markdown",
   "metadata": {},
   "source": [
    "Here is my first solution, which runs in O(n). I do not think this is the most optimal solution as there may be another way to do it.\n",
    "\n",
    "But my approach was the following:\n",
    "- Get length of the whole list\n",
    "- Compute length-n to get the node that we must stop at\n",
    "- Check if that node is the first, and if it is, simply return head.next\n",
    "- Traverse the linked list, and once our position equals the (length-n)th position, then we make that node skip the next node and return the head as the work is done."
   ]
  },
  {
   "cell_type": "code",
   "execution_count": null,
   "metadata": {},
   "outputs": [],
   "source": [
    "def removeNthFromEnd(self, head: Optional[ListNode], n: int) -> Optional[ListNode]:\n",
    "    trav1 = head\n",
    "    length = 0\n",
    "    while trav1:\n",
    "        length+=1\n",
    "        trav1=trav1.next\n",
    "    travpointer = abs(length-n)\n",
    "    trav1 = head\n",
    "    i = 0\n",
    "    \n",
    "    if i==travpointer:\n",
    "        return head.next\n",
    "    \n",
    "    while trav1:\n",
    "        i+=1\n",
    "        if i == travpointer:\n",
    "            trav1.next = trav1.next.next\n",
    "            return head\n",
    "        trav1 = trav1.next"
   ]
  }
 ],
 "metadata": {
  "language_info": {
   "name": "python"
  },
  "orig_nbformat": 4
 },
 "nbformat": 4,
 "nbformat_minor": 2
}
