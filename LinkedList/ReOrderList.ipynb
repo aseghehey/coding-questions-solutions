{
 "cells": [
  {
   "cell_type": "markdown",
   "metadata": {},
   "source": [
    "This is definitely not as easy as it sounds\n",
    "\n",
    "**The approach is to:**\n",
    "- Create 2 pointers and split the list in half\n",
    "- Reverse the second half\n",
    "- then link it all together"
   ]
  },
  {
   "cell_type": "code",
   "execution_count": null,
   "metadata": {},
   "outputs": [],
   "source": [
    "def reorderList(self, head: Optional[ListNode]) -> None:\n",
    "    slow, fast = head, head.next\n",
    "    while fast and fast.next:\n",
    "        slow = slow.next\n",
    "        fast = fast.next.next\n",
    "        \n",
    "    second = slow.next\n",
    "    prev = slow.next = None\n",
    "    \n",
    "    while second: # reversing it\n",
    "        tmp = second.next\n",
    "        second.next = prev\n",
    "        prev = second\n",
    "        second = tmp\n",
    "    \n",
    "    first, second = head, prev\n",
    "    while second:\n",
    "        tmp1,tmp2 = first.next, second.next\n",
    "        first.next = second\n",
    "        second.next = tmp1\n",
    "        first = tmp1\n",
    "        second = tmp2"
   ]
  },
  {
   "cell_type": "code",
   "execution_count": null,
   "metadata": {},
   "outputs": [],
   "source": [
    "def reorderList(self, head: Optional[ListNode]) -> None:\n",
    "    dummy = head\n",
    "    arr = []\n",
    "    \n",
    "    while dummy:\n",
    "        arr.append(dummy.val)\n",
    "        dummy = dummy.next\n",
    "        \n",
    "    n = len(arr) \n",
    "    arr1, arr2 = arr[:n//2], arr[n//2:][::-1]\n",
    "    arr = []\n",
    "    i, j = 0, 0\n",
    "    \n",
    "    for a1, a2 in zip(arr1, arr2):\n",
    "        arr.append(a1)\n",
    "        arr.append(a2)\n",
    "        i += 1\n",
    "        j += 1\n",
    "    \n",
    "    if i != len(arr1):\n",
    "        while i < len(arr1):\n",
    "            arr.append(arr1[i])\n",
    "            i += 1\n",
    "            \n",
    "    if j != len(arr2):\n",
    "        while j < len(arr2):\n",
    "            arr.append(arr2[j])\n",
    "            j += 1\n",
    "            \n",
    "    dummy = head\n",
    "    for v in arr:\n",
    "        dummy.val = v\n",
    "        dummy = dummy.next\n",
    "    "
   ]
  }
 ],
 "metadata": {
  "kernelspec": {
   "display_name": "Python 3.9.7 64-bit",
   "language": "python",
   "name": "python3"
  },
  "language_info": {
   "name": "python",
   "version": "3.9.7"
  },
  "orig_nbformat": 4,
  "vscode": {
   "interpreter": {
    "hash": "aee8b7b246df8f9039afb4144a1f6fd8d2ca17a180786b69acc140d282b71a49"
   }
  }
 },
 "nbformat": 4,
 "nbformat_minor": 2
}
