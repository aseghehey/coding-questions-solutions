{
 "cells": [
  {
   "cell_type": "code",
   "execution_count": null,
   "metadata": {},
   "outputs": [],
   "source": [
    "def findKthLargest(self, nums: List[int], k: int) -> int:\n",
    "    heap = [-num for num in nums]\n",
    "    heapq.heapify(heap)\n",
    "    res = 0\n",
    "    \n",
    "    for i in range(k):\n",
    "        res = -heapq.heappop(heap)\n",
    "    \n",
    "    return res"
   ]
  },
  {
   "cell_type": "code",
   "execution_count": null,
   "metadata": {},
   "outputs": [],
   "source": [
    "def findKthLargest(self, nums: List[int], k: int) -> int:\n",
    "    heap = nums\n",
    "    heapq.heapify(heap)\n",
    "    \n",
    "    while len(heap) > k:\n",
    "        heapq.heappop(heap)\n",
    "    \n",
    "    return heapq.heappop(heap)"
   ]
  }
 ],
 "metadata": {
  "language_info": {
   "name": "python"
  },
  "orig_nbformat": 4
 },
 "nbformat": 4,
 "nbformat_minor": 2
}
