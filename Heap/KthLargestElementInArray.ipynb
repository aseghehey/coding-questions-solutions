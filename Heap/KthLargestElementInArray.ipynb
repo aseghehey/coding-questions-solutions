{
 "cells": [
  {
   "cell_type": "code",
   "execution_count": null,
   "metadata": {},
   "outputs": [],
   "source": [
    "def findKthLargest(self, nums: List[int], k: int) -> int:\n",
    "    heap = [-num for num in nums]\n",
    "    heapq.heapify(heap)\n",
    "    res = 0\n",
    "    \n",
    "    for i in range(k):\n",
    "        res = -heapq.heappop(heap)\n",
    "    \n",
    "    return res"
   ]
  },
  {
   "cell_type": "code",
   "execution_count": null,
   "metadata": {},
   "outputs": [],
   "source": [
    "def findKthLargest(self, nums: List[int], k: int) -> int:\n",
    "    heap = nums\n",
    "    heapq.heapify(heap)\n",
    "    \n",
    "    while len(heap) > k:\n",
    "        heapq.heappop(heap)\n",
    "    \n",
    "    return heapq.heappop(heap)"
   ]
  }
 ],
 "metadata": {
  "kernelspec": {
   "display_name": "Python 3.9.7 64-bit",
   "language": "python",
   "name": "python3"
  },
  "language_info": {
   "name": "python",
   "version": "3.9.7"
  },
  "orig_nbformat": 4,
  "vscode": {
   "interpreter": {
    "hash": "aee8b7b246df8f9039afb4144a1f6fd8d2ca17a180786b69acc140d282b71a49"
   }
  }
 },
 "nbformat": 4,
 "nbformat_minor": 2
}
