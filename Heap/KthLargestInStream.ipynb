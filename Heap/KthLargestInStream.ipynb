{
 "cells": [
  {
   "cell_type": "markdown",
   "metadata": {},
   "source": [
    "This solution, though slow, passes all the testcases and the logic is simple.\n",
    "\n",
    "When we sort it, we return the kth last element, which happens to be the kth largest in stream."
   ]
  },
  {
   "cell_type": "code",
   "execution_count": null,
   "metadata": {},
   "outputs": [],
   "source": [
    "class KthLargest:\n",
    "\n",
    "    def __init__(self, k: int, nums: List[int]):\n",
    "        self.arr = nums\n",
    "        self.k = k\n",
    "\n",
    "    def add(self, val: int) -> int:\n",
    "        self.arr.append(val)\n",
    "        self.arr.sort()\n",
    "        \n",
    "        return self.arr[-self.k]\n",
    "\n",
    "# Your KthLargest object will be instantiated and called as such:\n",
    "# obj = KthLargest(k, nums)\n",
    "# param_1 = obj.add(val)"
   ]
  },
  {
   "cell_type": "markdown",
   "metadata": {},
   "source": [
    "My first solution using heaps is the following:\n",
    "\n",
    "It's a working solution but not efficient since I get TLE"
   ]
  },
  {
   "cell_type": "code",
   "execution_count": null,
   "metadata": {},
   "outputs": [],
   "source": [
    "import heapq as hq\n",
    "class KthLargest:\n",
    "\n",
    "    def __init__(self, k: int, nums: List[int]):\n",
    "        self.arr = nums\n",
    "        self.k = k\n",
    "\n",
    "    def add(self, val: int) -> int:\n",
    "        self.arr.append(val)\n",
    "        heap = [-val for val in self.arr]\n",
    "        hq.heapify(heap)\n",
    "        res = 0\n",
    "        for i in range(self.k):\n",
    "            res = heapq.heappop(heap)\n",
    "        \n",
    "        return -res\n"
   ]
  },
  {
   "cell_type": "markdown",
   "metadata": {},
   "source": [
    "Optimal code:\n",
    "\n",
    "Here the intuition is to append it all to the min heap and pop the values until the heap is equal to k\n",
    "\n",
    "Then when adding, we check to see if its length is greater than k, which means the smallest val needs to be popped so that the element at 0 is the kth largest"
   ]
  },
  {
   "cell_type": "code",
   "execution_count": null,
   "metadata": {},
   "outputs": [],
   "source": [
    "import heapq as hq\n",
    "class KthLargest:\n",
    "def __init__(self, k: int, nums: List[int]):\n",
    "    self.heap = nums\n",
    "    self.k = k\n",
    "    heapq.heapify(self.heap)\n",
    "\n",
    "    while len(self.heap) > self.k:\n",
    "        heapq.heappop(self.heap)    \n",
    "    \n",
    "def add(self, val: int) -> int:\n",
    "    heapq.heappush(self.heap, val)\n",
    "    if len(self.heap) > self.k:\n",
    "        heapq.heappop(self.heap)\n",
    "        \n",
    "    return self.heap[0]"
   ]
  }
 ],
 "metadata": {
  "kernelspec": {
   "display_name": "Python 3.9.7 64-bit",
   "language": "python",
   "name": "python3"
  },
  "language_info": {
   "name": "python",
   "version": "3.9.7"
  },
  "orig_nbformat": 4,
  "vscode": {
   "interpreter": {
    "hash": "aee8b7b246df8f9039afb4144a1f6fd8d2ca17a180786b69acc140d282b71a49"
   }
  }
 },
 "nbformat": 4,
 "nbformat_minor": 2
}
