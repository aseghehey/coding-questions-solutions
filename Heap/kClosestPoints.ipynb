{
 "cells": [
  {
   "cell_type": "code",
   "execution_count": 12,
   "metadata": {},
   "outputs": [
    {
     "name": "stdout",
     "output_type": "stream",
     "text": [
      "[[1, 2], [-10, -1]]\n"
     ]
    }
   ],
   "source": [
    "import heapq\n",
    "from math import sqrt\n",
    "def kClosest(points, k):\n",
    "    heap = []\n",
    "    heapq.heapify(heap)\n",
    "    for x, y in points:\n",
    "        distance = sqrt((x**2) + (y**2))\n",
    "        heapq.heappush(heap, (distance, [x,y]))\n",
    "    \n",
    "    ans = []\n",
    "    for i in range(k):\n",
    "        ans.append(heapq.heappop(heap)[1])\n",
    "    return ans\n",
    "\n",
    "#test:\n",
    "print(kClosest([[1,2],[8,10], [-10,-1]], 2))"
   ]
  }
 ],
 "metadata": {
  "kernelspec": {
   "display_name": "Python 3.9.7 64-bit",
   "language": "python",
   "name": "python3"
  },
  "language_info": {
   "codemirror_mode": {
    "name": "ipython",
    "version": 3
   },
   "file_extension": ".py",
   "mimetype": "text/x-python",
   "name": "python",
   "nbconvert_exporter": "python",
   "pygments_lexer": "ipython3",
   "version": "3.9.7"
  },
  "orig_nbformat": 4,
  "vscode": {
   "interpreter": {
    "hash": "aee8b7b246df8f9039afb4144a1f6fd8d2ca17a180786b69acc140d282b71a49"
   }
  }
 },
 "nbformat": 4,
 "nbformat_minor": 2
}
