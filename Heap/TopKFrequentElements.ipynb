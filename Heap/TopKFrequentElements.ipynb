{
 "cells": [
  {
   "cell_type": "markdown",
   "metadata": {},
   "source": [
    "# Runs in O(klogn)"
   ]
  },
  {
   "cell_type": "code",
   "execution_count": null,
   "metadata": {},
   "outputs": [],
   "source": [
    "import heapq as hq\n",
    "def topKFrequent(self, nums: List[int], k: int) -> List[int]:\n",
    "    if len(nums) == 1: # if the length is 1, no need to run the rest of the code\n",
    "        return nums\n",
    "    \n",
    "    frequency = Counter(nums) # frequency is a map that stores the number (in nums) and its frequency\n",
    "    heap = [] # need a max heap\n",
    "    hq.heapify(heap) \n",
    "    for num, freq in frequency.items(): # unpack the map\n",
    "        hq.heappush(heap, (-freq, num)) # pass it to the heap\n",
    "    ans = [] # initialize result array\n",
    "    for x in range(k): # loop until k, to find the top \"k\" frequent elements\n",
    "        ans.append(hq.heappop(heap)[1]) # append the elements in the range k, to the array\n",
    "    return ans"
   ]
  }
 ],
 "metadata": {
  "kernelspec": {
   "display_name": "Python 3.9.7 64-bit",
   "language": "python",
   "name": "python3"
  },
  "language_info": {
   "name": "python",
   "version": "3.9.7"
  },
  "orig_nbformat": 4,
  "vscode": {
   "interpreter": {
    "hash": "aee8b7b246df8f9039afb4144a1f6fd8d2ca17a180786b69acc140d282b71a49"
   }
  }
 },
 "nbformat": 4,
 "nbformat_minor": 2
}
