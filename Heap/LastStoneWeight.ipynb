{
 "cells": [
  {
   "cell_type": "markdown",
   "metadata": {},
   "source": [
    "My thought process was to make a max heap. I loop until the length of the heap is not greater than 1. \n",
    "\n",
    "Inside the loop, I pop the max 2 elements and compare them. Depending on the comparison, I perform the necessary operations.\n",
    "\n",
    "At the end, I check to see if the heap contains anything. \n",
    "\n",
    "If it does, return that one element. Else, return 0 (meaning that there’s no stone left)."
   ]
  },
  {
   "cell_type": "markdown",
   "metadata": {},
   "source": [
    "This solution is not the most optimal. It is slow. But it is what I first came up with."
   ]
  },
  {
   "cell_type": "code",
   "execution_count": null,
   "metadata": {},
   "outputs": [],
   "source": [
    "def lastStoneWeight(self, stones: List[int]) -> int:\n",
    "    heap=[]\n",
    "    heapify(heap)\n",
    "    for s in stones:\n",
    "        heappush(heap, s *-1)\n",
    "            \n",
    "    while len(heap) > 1:\n",
    "        stone1 = heappop(heap) * -1\n",
    "        stone2 = heappop(heap) * -1\n",
    "        if stone1 != stone2:\n",
    "            toadd = max(stone1,stone2) - min(stone1,stone2)\n",
    "            heappush(heap,toadd *-1)\n",
    "\n",
    "    if heap:   \n",
    "        return heap[0]*-1\n",
    "    else:\n",
    "        return 0"
   ]
  },
  {
   "cell_type": "markdown",
   "metadata": {},
   "source": [
    "Optimal solution (with explanation)\n",
    "\n",
    "It's the same idea, except optimized."
   ]
  },
  {
   "cell_type": "code",
   "execution_count": null,
   "metadata": {},
   "outputs": [],
   "source": [
    "def lastStoneWeight(self, stones: List[int]) -> int:\n",
    "        for i in range(len(stones)):\n",
    "            stones[i] *= -1\n",
    "        heapq.heapify(stones)\n",
    "        while len(stones) > 1:\n",
    "            stone1 = heappop(stones) \n",
    "            stone2 = heappop(stones) \n",
    "            if stone1 != stone2:\n",
    "                heappush(stones, stone1 - stone2)\n",
    "\n",
    "        if stones:   \n",
    "            return -heapq.heappop(stones)\n",
    "        else:\n",
    "            return 0"
   ]
  }
 ],
 "metadata": {
  "language_info": {
   "name": "python"
  },
  "orig_nbformat": 4
 },
 "nbformat": 4,
 "nbformat_minor": 2
}
